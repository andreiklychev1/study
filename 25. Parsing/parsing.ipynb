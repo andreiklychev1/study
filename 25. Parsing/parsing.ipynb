{
 "cells": [
  {
   "cell_type": "code",
   "execution_count": 2,
   "metadata": {},
   "outputs": [],
   "source": [
    "import requests\n",
    "import time\n",
    "from bs4 import BeautifulSoup\n",
    "import re\n",
    "import pandas as pd\n",
    "import json\n",
    "from random import choice\n",
    "from string import ascii_lowercase"
   ]
  },
  {
   "cell_type": "code",
   "execution_count": 2,
   "metadata": {},
   "outputs": [],
   "source": [
    "# Задание №1\n",
    "def get_html(url):\n",
    "    res = requests.get(url)\n",
    "    return res.text"
   ]
  },
  {
   "cell_type": "code",
   "execution_count": 3,
   "metadata": {},
   "outputs": [],
   "source": [
    "pattern1 ='python'\n",
    "pattern2 = 'парсинг'"
   ]
  },
  {
   "cell_type": "code",
   "execution_count": 4,
   "metadata": {},
   "outputs": [],
   "source": [
    "count = 1\n",
    "array = []\n",
    "while count != 51:\n",
    "    url ='http://www.habr.com/ru/news/page{}'.format(count)\n",
    "    a = get_html(url)\n",
    "    time.sleep(0.3)\n",
    "    soup = BeautifulSoup(a, 'html.parser')\n",
    "    posts = soup.find_all('a', class_='post__title_link')\n",
    "    \n",
    "    for post in posts:\n",
    "        cut1 = re.findall(pattern1, post.text.lower())\n",
    "        cut2 = re.findall(pattern2, post.text.lower())\n",
    "        if cut1 or cut2:\n",
    "            array.append(post)\n",
    "    count += 1"
   ]
  },
  {
   "cell_type": "code",
   "execution_count": 7,
   "metadata": {},
   "outputs": [],
   "source": [
    "df = pd.DataFrame(columns=[\"Дата\", \"Заголовок\", \"Ссылка\", \"Текст статьи\"])\n",
    "for i, element in enumerate(array):\n",
    "    url = element['href']\n",
    "    soup_t = BeautifulSoup(requests.get(url).text, 'html.parser')\n",
    "    time.sleep(0.3)\n",
    "    time_t = soup_t.find('span', class_='post__time')\n",
    "    df.loc[i, \"Дата\"] = time_t.text\n",
    "    df.loc[i, \"Заголовок\"] = element.text\n",
    "    df.loc[i, \"Ссылка\"] = url\n",
    "    df.loc[i, \"Текст статьи\"] = soup_t.find('div', class_=\"post__body post__body_full\").text.strip()\n"
   ]
  },
  {
   "cell_type": "code",
   "execution_count": 8,
   "metadata": {},
   "outputs": [
    {
     "data": {
      "text/html": [
       "<div>\n",
       "<style scoped>\n",
       "    .dataframe tbody tr th:only-of-type {\n",
       "        vertical-align: middle;\n",
       "    }\n",
       "\n",
       "    .dataframe tbody tr th {\n",
       "        vertical-align: top;\n",
       "    }\n",
       "\n",
       "    .dataframe thead th {\n",
       "        text-align: right;\n",
       "    }\n",
       "</style>\n",
       "<table border=\"1\" class=\"dataframe\">\n",
       "  <thead>\n",
       "    <tr style=\"text-align: right;\">\n",
       "      <th></th>\n",
       "      <th>Дата</th>\n",
       "      <th>Заголовок</th>\n",
       "      <th>Ссылка</th>\n",
       "      <th>Текст статьи</th>\n",
       "    </tr>\n",
       "  </thead>\n",
       "  <tbody>\n",
       "    <tr>\n",
       "      <th>0</th>\n",
       "      <td>16 сентября 2020 в 16:48</td>\n",
       "      <td>Астрономам порекомендовали меньше использовать...</td>\n",
       "      <td>https://habr.com/ru/news/t/519414/</td>\n",
       "      <td>Астрономы из Лейденской обсерватории опубликов...</td>\n",
       "    </tr>\n",
       "  </tbody>\n",
       "</table>\n",
       "</div>"
      ],
      "text/plain": [
       "                       Дата  \\\n",
       "0  16 сентября 2020 в 16:48   \n",
       "\n",
       "                                           Заголовок  \\\n",
       "0  Астрономам порекомендовали меньше использовать...   \n",
       "\n",
       "                               Ссылка  \\\n",
       "0  https://habr.com/ru/news/t/519414/   \n",
       "\n",
       "                                        Текст статьи  \n",
       "0  Астрономы из Лейденской обсерватории опубликов...  "
      ]
     },
     "execution_count": 8,
     "metadata": {},
     "output_type": "execute_result"
    }
   ],
   "source": [
    "df"
   ]
  },
  {
   "cell_type": "code",
   "execution_count": 3,
   "metadata": {},
   "outputs": [],
   "source": [
    "# Задание № 2\n",
    "URL2 = \"https://digibody.avast.com/v1/web/leaks\"\n",
    "MAILS = ['ap7894356@mail.ru', 'standalone@gmail.com']"
   ]
  },
  {
   "cell_type": "code",
   "execution_count": 104,
   "metadata": {},
   "outputs": [],
   "source": [
    "import json"
   ]
  },
  {
   "cell_type": "code",
   "execution_count": 5,
   "metadata": {},
   "outputs": [],
   "source": [
    "dataset = pd.DataFrame(columns=[\"Почта\", \"Дата утечки\", \"Источник утечки\", \"Описание утечки\"])"
   ]
  },
  {
   "cell_type": "code",
   "execution_count": 23,
   "metadata": {},
   "outputs": [
    {
     "data": {
      "text/plain": [
       "108"
      ]
     },
     "execution_count": 23,
     "metadata": {},
     "output_type": "execute_result"
    }
   ],
   "source": [
    "for _ in range(2):\n",
    "    data = {'email': '{}'.format(MAILS[_])}\n",
    "    inp = requests.post(URL2, json=data).text\n",
    "    time.sleep(0.3)\n",
    "    values = json.loads(inp)['value']\n",
    "    if _ >= 0:\n",
    "        length = len(dataset) - 1\n",
    "    for i, value in enumerate(values):\n",
    "        i += length\n",
    "        dataset.loc[i, \"Почта\"] = value['username']\n",
    "        dataset.loc[i, \"Дата утечки\"] = value['leak_info']['date']\n",
    "        dataset.loc[i, \"Источник утечки\"] = value['leak_info']['title']\n",
    "        dataset.loc[i, \"Описание утечки\"] = value['leak_info']['description']\n",
    "        "
   ]
  },
  {
   "cell_type": "code",
   "execution_count": 25,
   "metadata": {},
   "outputs": [
    {
     "data": {
      "text/html": [
       "<div>\n",
       "<style scoped>\n",
       "    .dataframe tbody tr th:only-of-type {\n",
       "        vertical-align: middle;\n",
       "    }\n",
       "\n",
       "    .dataframe tbody tr th {\n",
       "        vertical-align: top;\n",
       "    }\n",
       "\n",
       "    .dataframe thead th {\n",
       "        text-align: right;\n",
       "    }\n",
       "</style>\n",
       "<table border=\"1\" class=\"dataframe\">\n",
       "  <thead>\n",
       "    <tr style=\"text-align: right;\">\n",
       "      <th></th>\n",
       "      <th>Почта</th>\n",
       "      <th>Дата утечки</th>\n",
       "      <th>Источник утечки</th>\n",
       "      <th>Описание утечки</th>\n",
       "      <th>Источники утечки</th>\n",
       "    </tr>\n",
       "  </thead>\n",
       "  <tbody>\n",
       "    <tr>\n",
       "      <th>0</th>\n",
       "      <td>standalone@gmail.com</td>\n",
       "      <td>1513900800000</td>\n",
       "      <td>Combolist of 1.4 Billion Credentials</td>\n",
       "      <td>The proliferation of stolen or leaked database...</td>\n",
       "      <td>Combolist of 1.4 Billion Credentials</td>\n",
       "    </tr>\n",
       "    <tr>\n",
       "      <th>1</th>\n",
       "      <td>standalone@gmail.com</td>\n",
       "      <td>1535068800000</td>\n",
       "      <td>Jadid List from Pemiblanc.com</td>\n",
       "      <td>This combolist was compiled from a variety of ...</td>\n",
       "      <td>Jadid List from Pemiblanc.com</td>\n",
       "    </tr>\n",
       "    <tr>\n",
       "      <th>2</th>\n",
       "      <td>standalone@gmail.com</td>\n",
       "      <td>1549411200000</td>\n",
       "      <td>Collection #4 Combo List</td>\n",
       "      <td>On January 7, 2019, an online user named Sanix...</td>\n",
       "      <td>Collection #4 Combo List</td>\n",
       "    </tr>\n",
       "    <tr>\n",
       "      <th>3</th>\n",
       "      <td>standalone@gmail.com</td>\n",
       "      <td>1517616000000</td>\n",
       "      <td>LSGB.net</td>\n",
       "      <td>On an unconfirmed date, the manufacturing comp...</td>\n",
       "      <td>MyFitnessPal</td>\n",
       "    </tr>\n",
       "    <tr>\n",
       "      <th>4</th>\n",
       "      <td>standalone@gmail.com</td>\n",
       "      <td>1593043200000</td>\n",
       "      <td>\"Cash Cloud\" USA Combo List</td>\n",
       "      <td>At an unconfirmed date, this \"Cash Cloud\" Comb...</td>\n",
       "      <td>2019 Antipublic Combo List</td>\n",
       "    </tr>\n",
       "    <tr>\n",
       "      <th>...</th>\n",
       "      <td>...</td>\n",
       "      <td>...</td>\n",
       "      <td>...</td>\n",
       "      <td>...</td>\n",
       "      <td>...</td>\n",
       "    </tr>\n",
       "    <tr>\n",
       "      <th>104</th>\n",
       "      <td>lonelyone273</td>\n",
       "      <td>1581552000000</td>\n",
       "      <td>Sensitive Source</td>\n",
       "      <td>This source has been marked as sensitive due t...</td>\n",
       "      <td>NaN</td>\n",
       "    </tr>\n",
       "    <tr>\n",
       "      <th>105</th>\n",
       "      <td>rm_timefluxxx</td>\n",
       "      <td>1581552000000</td>\n",
       "      <td>Sensitive Source</td>\n",
       "      <td>This source has been marked as sensitive due t...</td>\n",
       "      <td>NaN</td>\n",
       "    </tr>\n",
       "    <tr>\n",
       "      <th>106</th>\n",
       "      <td>traveler781</td>\n",
       "      <td>1581552000000</td>\n",
       "      <td>Sensitive Source</td>\n",
       "      <td>This source has been marked as sensitive due t...</td>\n",
       "      <td>NaN</td>\n",
       "    </tr>\n",
       "    <tr>\n",
       "      <th>107</th>\n",
       "      <td>looking4791</td>\n",
       "      <td>1581552000000</td>\n",
       "      <td>Sensitive Source</td>\n",
       "      <td>This source has been marked as sensitive due t...</td>\n",
       "      <td>NaN</td>\n",
       "    </tr>\n",
       "    <tr>\n",
       "      <th>108</th>\n",
       "      <td>standalone@gmail.com</td>\n",
       "      <td>1548374400000</td>\n",
       "      <td>Collection #1 Combo List</td>\n",
       "      <td>On January 7, 2019, an online user named Sanix...</td>\n",
       "      <td>NaN</td>\n",
       "    </tr>\n",
       "  </tbody>\n",
       "</table>\n",
       "<p>109 rows × 5 columns</p>\n",
       "</div>"
      ],
      "text/plain": [
       "                    Почта    Дата утечки  \\\n",
       "0    standalone@gmail.com  1513900800000   \n",
       "1    standalone@gmail.com  1535068800000   \n",
       "2    standalone@gmail.com  1549411200000   \n",
       "3    standalone@gmail.com  1517616000000   \n",
       "4    standalone@gmail.com  1593043200000   \n",
       "..                    ...            ...   \n",
       "104          lonelyone273  1581552000000   \n",
       "105         rm_timefluxxx  1581552000000   \n",
       "106           traveler781  1581552000000   \n",
       "107           looking4791  1581552000000   \n",
       "108  standalone@gmail.com  1548374400000   \n",
       "\n",
       "                          Источник утечки  \\\n",
       "0    Combolist of 1.4 Billion Credentials   \n",
       "1           Jadid List from Pemiblanc.com   \n",
       "2                Collection #4 Combo List   \n",
       "3                                LSGB.net   \n",
       "4             \"Cash Cloud\" USA Combo List   \n",
       "..                                    ...   \n",
       "104                      Sensitive Source   \n",
       "105                      Sensitive Source   \n",
       "106                      Sensitive Source   \n",
       "107                      Sensitive Source   \n",
       "108              Collection #1 Combo List   \n",
       "\n",
       "                                       Описание утечки  \\\n",
       "0    The proliferation of stolen or leaked database...   \n",
       "1    This combolist was compiled from a variety of ...   \n",
       "2    On January 7, 2019, an online user named Sanix...   \n",
       "3    On an unconfirmed date, the manufacturing comp...   \n",
       "4    At an unconfirmed date, this \"Cash Cloud\" Comb...   \n",
       "..                                                 ...   \n",
       "104  This source has been marked as sensitive due t...   \n",
       "105  This source has been marked as sensitive due t...   \n",
       "106  This source has been marked as sensitive due t...   \n",
       "107  This source has been marked as sensitive due t...   \n",
       "108  On January 7, 2019, an online user named Sanix...   \n",
       "\n",
       "                         Источники утечки  \n",
       "0    Combolist of 1.4 Billion Credentials  \n",
       "1           Jadid List from Pemiblanc.com  \n",
       "2                Collection #4 Combo List  \n",
       "3                            MyFitnessPal  \n",
       "4              2019 Antipublic Combo List  \n",
       "..                                    ...  \n",
       "104                                   NaN  \n",
       "105                                   NaN  \n",
       "106                                   NaN  \n",
       "107                                   NaN  \n",
       "108                                   NaN  \n",
       "\n",
       "[109 rows x 5 columns]"
      ]
     },
     "execution_count": 25,
     "metadata": {},
     "output_type": "execute_result"
    }
   ],
   "source": [
    "dataset"
   ]
  }
 ],
 "metadata": {
  "kernelspec": {
   "display_name": "Python 3",
   "language": "python",
   "name": "python3"
  },
  "language_info": {
   "codemirror_mode": {
    "name": "ipython",
    "version": 3
   },
   "file_extension": ".py",
   "mimetype": "text/x-python",
   "name": "python",
   "nbconvert_exporter": "python",
   "pygments_lexer": "ipython3",
   "version": "3.7.6"
  }
 },
 "nbformat": 4,
 "nbformat_minor": 4
}
