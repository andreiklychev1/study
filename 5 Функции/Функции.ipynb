{
 "cells": [
  {
   "cell_type": "code",
   "execution_count": null,
   "metadata": {},
   "outputs": [],
   "source": [
    "documents = [\n",
    "    {'type': 'passport', 'number': '2207 876234', 'name': 'Василий Гупкин'},\n",
    "    {'type': 'invoice', 'number': '11-2', 'name': 'Геннадий Покемонов'},\n",
    "    {'type': 'insurance', 'number': '10006', 'name': 'Аристарх Павлов'}\n",
    "]\n",
    "\n",
    "\n",
    "directories = {\n",
    "    '1': ['2207 876234', '11-2'],\n",
    "    '2': ['10006'],\n",
    "    '3': []\n",
    "}\n"
   ]
  },
  {
   "cell_type": "code",
   "execution_count": null,
   "metadata": {},
   "outputs": [],
   "source": [
    "\n",
    "def people():\n",
    "    query = input('Введите имя и фамилию сотрудника: ')\n",
    "    for element in documents:\n",
    "        \n",
    "        if element['name'] == query:\n",
    "            print(element['number'])\n",
    "            memory = 1\n",
    "            break\n",
    "        else:\n",
    "            memory = 0\n",
    "    if memory == 0:\n",
    "        print('Данный сотрудник отсутствует в списке')"
   ]
  },
  {
   "cell_type": "code",
   "execution_count": null,
   "metadata": {},
   "outputs": [],
   "source": [
    "def shelf():\n",
    "    query = input('Введите номер документа: ')\n",
    "    for element in documents:\n",
    "        if element['number'] == query:\n",
    "            document_number = element['number']\n",
    "            for rack in directories:\n",
    "                if query in directories[rack]:\n",
    "                    print(rack)\n",
    "                    memory = 1\n",
    "                    break\n",
    "                else:\n",
    "                    memory = 0\n",
    "            if memory == 0:\n",
    "                print('Данный документ отсутствует в списке')\n",
    "                    "
   ]
  },
  {
   "cell_type": "code",
   "execution_count": null,
   "metadata": {},
   "outputs": [],
   "source": [
    "def listt():\n",
    "    for element in documents:\n",
    "        print(element['type'], element['number'], element['name'], sep='\" \"', end='\" \\n')\n",
    "\n"
   ]
  },
  {
   "cell_type": "code",
   "execution_count": null,
   "metadata": {},
   "outputs": [],
   "source": [
    "\n",
    "def add_shelf():\n",
    "    new_shelf = input('Введите номер новой полки: ')\n",
    "    for rack in directories:\n",
    "        if new_shelf == rack:\n",
    "            print('Такая полка уже существует')\n",
    "            memory = 1\n",
    "            break\n",
    "        else:\n",
    "            memory = 0\n",
    "    if memory == 0:\n",
    "        directories[new_shelf] = []\n",
    "            \n",
    "    return directories"
   ]
  },
  {
   "cell_type": "code",
   "execution_count": null,
   "metadata": {},
   "outputs": [],
   "source": [
    "def drop():\n",
    "    document_number = input('Введите номер документа: ')\n",
    "    for element in documents:\n",
    "        if element['number'] == document_number:\n",
    "            documents.remove(element)\n",
    "            break\n",
    "    for rack in directories:\n",
    "        if document_number in directories[rack]:\n",
    "            directories[rack].remove(document_number)\n",
    "            memory = 1\n",
    "            break\n",
    "        else:\n",
    "            memory = 0\n",
    "            \n",
    "    if memory == 0:\n",
    "        print('Данный документ отсутствует в списке')\n",
    "            \n",
    "    return documents, directories"
   ]
  },
  {
   "cell_type": "code",
   "execution_count": null,
   "metadata": {},
   "outputs": [],
   "source": [
    "def move():\n",
    "    document_number = input('Введите номер документа: ')\n",
    "    shelf_number = input('Введите номер полки: ')\n",
    "    \n",
    "    if shelf_number in directories:\n",
    "        for rack in directories:\n",
    "            if document_number in directories[rack]:\n",
    "                directories[shelf_number].append(document_number)\n",
    "                directories[rack].remove(document_number)\n",
    "                memory = 1\n",
    "                break\n",
    "            else:\n",
    "                memory = 0\n",
    "            \n",
    "        if memory == 0:\n",
    "            print('Данный документ отсутствует в списке')\n",
    "    else:\n",
    "        print('Такой полки не существует')\n",
    "    return  directories"
   ]
  },
  {
   "cell_type": "code",
   "execution_count": null,
   "metadata": {},
   "outputs": [],
   "source": [
    "def add():\n",
    "    document_number = input('Введите номер документа: ')\n",
    "    typee = input('Введите тип документа: ')\n",
    "    name = input('Введите имя сотрудника: ')\n",
    "    shelf_number = input('Введите номер полки: ')\n",
    "    for element in documents:\n",
    "        if element['name'] == name:\n",
    "            element['type1'] = typee\n",
    "            element['number1'] = document_number\n",
    "            memory = 1\n",
    "            break\n",
    "        else:\n",
    "            memory = 0\n",
    "    if memory == 0:\n",
    "        documents.append({'type' : typee, 'number' : document_number, 'name' : name, })\n",
    "         \n",
    "    for rack in directories:\n",
    "        if shelf_number == rack:\n",
    "            directories[rack].append(document_number)\n",
    "            memory = 1\n",
    "            break\n",
    "        else:\n",
    "            memory = 0\n",
    "    if memory == 0:\n",
    "        print('Данной полки не существует')\n",
    "    return directories, documents"
   ]
  },
  {
   "cell_type": "code",
   "execution_count": null,
   "metadata": {},
   "outputs": [],
   "source": [
    "def main():\n",
    "    print('Введите одну из команд:')\n",
    "    print('p - запросить документ по имени пользователя')\n",
    "    print('s - вывести номер полки, на которой находится документ')\n",
    "    print('l - вывести полный список документов')\n",
    "    print('as - добавить новую полку')\n",
    "    print('d - удалить документ')\n",
    "    print('m - переместить документ')\n",
    "    print('a - добавить новый документ документ')\n",
    "    \n",
    "    command = input()\n",
    "    if command == 'p':\n",
    "        people()\n",
    "    elif command == 's':\n",
    "        shelf()\n",
    "    elif command == 'l':\n",
    "        listt()\n",
    "    elif command == 'as':\n",
    "        add_shelf()\n",
    "    elif command == 'd':\n",
    "        drop()\n",
    "    elif command == 'm':\n",
    "        move()\n",
    "    elif command == 'a':\n",
    "        add()\n",
    "    else:\n",
    "        print('Введите одну из предложенных команд!')\n",
    "        "
   ]
  },
  {
   "cell_type": "code",
   "execution_count": null,
   "metadata": {},
   "outputs": [],
   "source": [
    "main()"
   ]
  },
  {
   "cell_type": "code",
   "execution_count": null,
   "metadata": {},
   "outputs": [],
   "source": [
    "print(directories, documents)"
   ]
  },
  {
   "cell_type": "code",
   "execution_count": null,
   "metadata": {},
   "outputs": [],
   "source": []
  }
 ],
 "metadata": {
  "kernelspec": {
   "display_name": "Python 3",
   "language": "python",
   "name": "python3"
  },
  "language_info": {
   "codemirror_mode": {
    "name": "ipython",
    "version": 3
   },
   "file_extension": ".py",
   "mimetype": "text/x-python",
   "name": "python",
   "nbconvert_exporter": "python",
   "pygments_lexer": "ipython3",
   "version": "3.7.6"
  }
 },
 "nbformat": 4,
 "nbformat_minor": 4
}
