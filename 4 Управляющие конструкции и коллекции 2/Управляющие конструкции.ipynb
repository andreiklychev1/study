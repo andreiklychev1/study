{
 "cells": [
  {
   "cell_type": "code",
   "execution_count": null,
   "metadata": {},
   "outputs": [],
   "source": [
    "# Задача №1\n",
    "geo_logs = [\n",
    "    {'visit1': ['Москва', 'Россия']},\n",
    "    {'visit2': ['Дели', 'Индия']},\n",
    "    {'visit3': ['Владимир', 'Россия']},\n",
    "    {'visit4': ['Лиссабон', 'Португалия']},\n",
    "    {'visit5': ['Париж', 'Франция']},\n",
    "    {'visit6': ['Лиссабон', 'Португалия']},\n",
    "    {'visit7': ['Тула', 'Россия']},\n",
    "    {'visit8': ['Тула', 'Россия']},\n",
    "    {'visit9': ['Курск', 'Россия']},\n",
    "    {'visit10': ['Архангельск', 'Россия']}\n",
    "]\n",
    "geo_logs_filtered=[]\n",
    "\n",
    "for element in geo_logs:\n",
    "\n",
    "    if list(element.values())[0][1] == 'Россия':\n",
    "        geo_logs_filtered.append(element)\n",
    "            \n",
    "print(geo_logs_filtered)"
   ]
  },
  {
   "cell_type": "code",
   "execution_count": 28,
   "metadata": {},
   "outputs": [
    {
     "name": "stdout",
     "output_type": "stream",
     "text": [
      "{98, 35, 213, 54, 119, 15}\n"
     ]
    }
   ],
   "source": [
    "# Задача №2\n",
    "ids = {'user1': [213, 213, 213, 15, 213], \n",
    "       'user2': [54, 54, 119, 119, 119], \n",
    "       'user3': [213, 98, 98, 35]}\n",
    "\n",
    "var = set(ids['user1'])\n",
    "for key in ids:\n",
    "     var.update(set(ids[key]))\n",
    "    \n",
    "print(var)"
   ]
  },
  {
   "cell_type": "code",
   "execution_count": null,
   "metadata": {},
   "outputs": [],
   "source": [
    "# Задача №3\n",
    "\n",
    "queries = [\n",
    "    'смотреть сериалы онлайн',\n",
    "    'новости спорта',\n",
    "    'афиша кино',\n",
    "    'курс доллара',\n",
    "    'сериалы этим летом',\n",
    "    'курс по питону',\n",
    "    'сериалы про спорт',\n",
    "    'более длинная фраза для проверки',\n",
    "    'чуть менее длинная фраза'\n",
    "]\n",
    "\n",
    "array=[]\n",
    "\n",
    "for element in queries:\n",
    "    array.append(element.split(' '))\n",
    "\n",
    "lengths_amount = []\n",
    "\n",
    "for part in array:\n",
    "    lengths_amount.append(len(part))\n",
    "\n",
    "lengths_amount.sort()    \n",
    "unique_lengths = list(set(lengths_amount))\n",
    "\n",
    "i=0\n",
    "summa=0\n",
    "\n",
    "for element in enumerate(lengths_amount):\n",
    "    if unique_lengths[i] == element[1]:\n",
    "        summa += 1\n",
    "        distribution = summa/len(lengths_amount)\n",
    "        if element[0] == len(lengths_amount)-1:\n",
    "            print('Кол-во запросов из', element[1], 'слов составляет:', 100*round(distribution, 2),'%')\n",
    "    else:\n",
    "        print('Кол-во запросов из', element[1]-1, 'слов составляет', 100*round(distribution, 2),'%')\n",
    "        summa=1\n",
    "        i += 1\n",
    "        distribution = summa/len(lengths_amount)\n",
    "        if element[0] == len(lengths_amount)-1:\n",
    "            print('Кол-во запросов из', element[1], 'слов составляет:', 100*round(distribution, 2),'%')"
   ]
  },
  {
   "cell_type": "code",
   "execution_count": 41,
   "metadata": {},
   "outputs": [
    {
     "data": {
      "text/plain": [
       "'yandex'"
      ]
     },
     "execution_count": 41,
     "metadata": {},
     "output_type": "execute_result"
    }
   ],
   "source": [
    "# Задача №4\n",
    "\n",
    "stats = {'facebook': 55, 'yandex': 120, 'vk': 115, 'google': 99, 'email': 42, 'ok': 98} \n",
    "\n",
    "max(stats, key=stats.get)\n",
    "\n"
   ]
  },
  {
   "cell_type": "code",
   "execution_count": 26,
   "metadata": {},
   "outputs": [
    {
     "name": "stdout",
     "output_type": "stream",
     "text": [
      "{'2018-01-01': {'yandex': {'cpc': 100}}}\n"
     ]
    }
   ],
   "source": [
    "\n",
    "# Задача №5\n",
    "\n",
    "data = ['2018-01-01', 'yandex', 'cpc', 100]\n",
    "\n",
    "data.reverse()\n",
    "znachenie=data[0]\n",
    "\n",
    "for element in data[1 : len(data)]:\n",
    "    znachenie = {element: znachenie}\n",
    "\n",
    "print(znachenie)"
   ]
  },
  {
   "cell_type": "code",
   "execution_count": null,
   "metadata": {},
   "outputs": [],
   "source": []
  }
 ],
 "metadata": {
  "kernelspec": {
   "display_name": "Python 3",
   "language": "python",
   "name": "python3"
  },
  "language_info": {
   "codemirror_mode": {
    "name": "ipython",
    "version": 3
   },
   "file_extension": ".py",
   "mimetype": "text/x-python",
   "name": "python",
   "nbconvert_exporter": "python",
   "pygments_lexer": "ipython3",
   "version": "3.7.6"
  }
 },
 "nbformat": 4,
 "nbformat_minor": 4
}
