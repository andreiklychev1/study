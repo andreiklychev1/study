{
 "cells": [
  {
   "cell_type": "code",
   "execution_count": 1,
   "metadata": {},
   "outputs": [
    {
     "name": "stdout",
     "output_type": "stream",
     "text": [
      "[{'visit1': ['Москва', 'Россия']}, {'visit3': ['Владимир', 'Россия']}, {'visit7': ['Тула', 'Россия']}, {'visit8': ['Тула', 'Россия']}, {'visit9': ['Курск', 'Россия']}, {'visit10': ['Архангельск', 'Россия']}]\n"
     ]
    }
   ],
   "source": [
    "# Задача №1\n",
    "geo_logs = [\n",
    "    {'visit1': ['Москва', 'Россия']},\n",
    "    {'visit2': ['Дели', 'Индия']},\n",
    "    {'visit3': ['Владимир', 'Россия']},\n",
    "    {'visit4': ['Лиссабон', 'Португалия']},\n",
    "    {'visit5': ['Париж', 'Франция']},\n",
    "    {'visit6': ['Лиссабон', 'Португалия']},\n",
    "    {'visit7': ['Тула', 'Россия']},\n",
    "    {'visit8': ['Тула', 'Россия']},\n",
    "    {'visit9': ['Курск', 'Россия']},\n",
    "    {'visit10': ['Архангельск', 'Россия']}\n",
    "]\n",
    "geo_logs_filtered=[]\n",
    "\n",
    "for element in geo_logs:\n",
    "    for country in element.values():\n",
    "        if 'Россия' in country:\n",
    "            geo_logs_filtered.append(element)\n",
    "            \n",
    "print(geo_logs_filtered)"
   ]
  },
  {
   "cell_type": "code",
   "execution_count": 2,
   "metadata": {},
   "outputs": [
    {
     "name": "stdout",
     "output_type": "stream",
     "text": [
      "[98, 35, 213, 54, 119, 15]\n"
     ]
    }
   ],
   "source": [
    "# Задача №2\n",
    "ids = {'user1': [213, 213, 213, 15, 213], \n",
    "       'user2': [54, 54, 119, 119, 119], \n",
    "       'user3': [213, 98, 98, 35]}\n",
    "       \n",
    "user1 = set(ids['user1'])\n",
    "user2 = set(ids['user2'])\n",
    "user3 = set(ids['user3'])\n",
    "\n",
    "user1.update(user2, user1.symmetric_difference(user3))\n",
    "\n",
    "print(list(user1))"
   ]
  },
  {
   "cell_type": "code",
   "execution_count": 3,
   "metadata": {},
   "outputs": [
    {
     "name": "stdout",
     "output_type": "stream",
     "text": [
      "Кол-во запросов из 2 слов составляет 33.0 %\n",
      "Кол-во запросов из 3 слов составляет 44.0 %\n",
      "Кол-во запросов из 4 слов составляет 11.0 %\n",
      "Кол-во запросов из 5 слов составляет: 11.0 %\n"
     ]
    }
   ],
   "source": [
    "\n",
    "# Задача №3\n",
    "\n",
    "queries = [\n",
    "    'смотреть сериалы онлайн',\n",
    "    'новости спорта',\n",
    "    'афиша кино',\n",
    "    'курс доллара',\n",
    "    'сериалы этим летом',\n",
    "    'курс по питону',\n",
    "    'сериалы про спорт',\n",
    "    'более длинная фраза для проверки',\n",
    "    'чуть менее длинная фраза'\n",
    "]\n",
    "\n",
    "array=[]\n",
    "\n",
    "for element in queries:\n",
    "    array.append(element.split(' '))\n",
    "\n",
    "lengths_amount = []\n",
    "\n",
    "for part in array:\n",
    "    lengths_amount.append(len(part))\n",
    "\n",
    "lengths_amount.sort()    \n",
    "unique_lengths = list(set(lengths_amount))\n",
    "\n",
    "i=0\n",
    "summa=0\n",
    "\n",
    "for element in enumerate(lengths_amount):\n",
    "    if unique_lengths[i] == element[1]:\n",
    "        summa += 1\n",
    "        distribution = summa/len(lengths_amount)\n",
    "        if element[0] == len(lengths_amount)-1:\n",
    "            print('Кол-во запросов из', element[1], 'слов составляет:', 100*round(distribution, 2),'%')\n",
    "    else:\n",
    "        print('Кол-во запросов из', element[1]-1, 'слов составляет', 100*round(distribution, 2),'%')\n",
    "        summa=1\n",
    "        i += 1\n",
    "        distribution = summa/len(lengths_amount)\n",
    "        if element[0] == len(lengths_amount)-1:\n",
    "            print('Кол-во запросов из', element[1], 'слов составляет:', 100*round(distribution, 2),'%')"
   ]
  },
  {
   "cell_type": "code",
   "execution_count": 4,
   "metadata": {},
   "outputs": [
    {
     "name": "stdout",
     "output_type": "stream",
     "text": [
      "yandex\n"
     ]
    }
   ],
   "source": [
    "# Задача №4\n",
    "\n",
    "stats = {'facebook': 55, 'yandex': 120, 'vk': 115, 'google': 99, 'email': 42, 'ok': 98}\n",
    "\n",
    "numbers = list(stats.values())\n",
    "greatest = numbers[0]\n",
    "for element in numbers:\n",
    "    if element > greatest:\n",
    "        greatest = element\n",
    "\n",
    "for element in list(stats.keys()):\n",
    "    if stats[element] == greatest:\n",
    "        print(element)"
   ]
  },
  {
   "cell_type": "code",
   "execution_count": 5,
   "metadata": {},
   "outputs": [
    {
     "name": "stdout",
     "output_type": "stream",
     "text": [
      "{'2018-01-01': {'yandex': {'cpc': 100}}}\n"
     ]
    }
   ],
   "source": [
    "\n",
    "# Задача №5\n",
    "\n",
    "data = ['2018-01-01', 'yandex', 'cpc', 100]\n",
    "\n",
    "data.reverse()\n",
    "znachenie=data[0]\n",
    "\n",
    "for element in data[1 : len(data)]:\n",
    "    znachenie = {element: znachenie}\n",
    "\n",
    "print(znachenie)"
   ]
  },
  {
   "cell_type": "code",
   "execution_count": null,
   "metadata": {},
   "outputs": [],
   "source": []
  }
 ],
 "metadata": {
  "kernelspec": {
   "display_name": "Python 3",
   "language": "python",
   "name": "python3"
  },
  "language_info": {
   "codemirror_mode": {
    "name": "ipython",
    "version": 3
   },
   "file_extension": ".py",
   "mimetype": "text/x-python",
   "name": "python",
   "nbconvert_exporter": "python",
   "pygments_lexer": "ipython3",
   "version": "3.7.6"
  }
 },
 "nbformat": 4,
 "nbformat_minor": 4
}
