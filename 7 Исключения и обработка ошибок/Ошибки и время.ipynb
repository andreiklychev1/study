{
 "cells": [
  {
   "cell_type": "code",
   "execution_count": null,
   "metadata": {},
   "outputs": [],
   "source": [
    "# Задание № 1\n",
    "from datetime import datetime\n",
    "from datetime import timedelta\n",
    "\n",
    "\n",
    "def date_range():\n",
    "    array = []\n",
    "    start_date = input('Введите начальную дату в формате ГГГГ-ММ_ДД: ')\n",
    "    end_date = input('Введите конечную дату в формате ГГГГ-ММ_ДД: ')\n",
    "    start_date_formated = datetime.strptime(start_date, '%Y-%m-%d')\n",
    "    diff = (datetime.strptime(end_date, '%Y-%m-%d')-datetime.strptime(start_date, '%Y-%m-%d')).days\n",
    "    for day in range(diff):\n",
    "        array.append(start_date_formated.strftime('%Y-%m-%d'))\n",
    "        start_date_formated += timedelta(days=1)\n",
    "        \n",
    "    print(array)"
   ]
  },
  {
   "cell_type": "code",
   "execution_count": null,
   "metadata": {},
   "outputs": [],
   "source": [
    "date_range()"
   ]
  },
  {
   "cell_type": "code",
   "execution_count": null,
   "metadata": {},
   "outputs": [],
   "source": [
    "# Задание № 2\n",
    "\n",
    "\n",
    "def date_range_mod():\n",
    "    array = []\n",
    "    start_date = input('Введите начальную дату в формате ГГГГ-ММ-ДД: ')\n",
    "    end_date = input('Введите конечную дату в формате ГГГГ-ММ-ДД: ')\n",
    "    try:\n",
    "        start_date_formated = datetime.strptime(start_date, '%Y-%m-%d')\n",
    "        diff = (datetime.strptime(end_date, '%Y-%m-%d')-datetime.strptime(start_date, '%Y-%m-%d')).days\n",
    "        if diff < 0:\n",
    "            print()\n",
    "            print('Начальная дата позже конечной, введите даты заново')\n",
    "        \n",
    "        for day in range(diff):\n",
    "            array.append(start_date_formated.strftime('%Y-%m-%d'))\n",
    "            start_date_formated += timedelta(days=1)\n",
    "        print()\n",
    "        print(array)\n",
    "    except:\n",
    "        print()\n",
    "        print('Введен неправильный формат даты, невозможно считать')\n",
    "        print(array)\n",
    "    "
   ]
  },
  {
   "cell_type": "code",
   "execution_count": null,
   "metadata": {},
   "outputs": [],
   "source": [
    "date_range_mod()"
   ]
  },
  {
   "cell_type": "code",
   "execution_count": null,
   "metadata": {},
   "outputs": [],
   "source": [
    "# Задание №3 \n",
    "\n",
    "stream = ['2018-04-02', '2018-02-29', '2018-19-02']\n",
    "\n",
    "for element in stream:\n",
    "\n",
    "    try:\n",
    "        datetime.strptime(element, '%Y-%m-%d')\n",
    "        print(element + \" \" + \"true\")\n",
    "    except:\n",
    "        print(element + \" \" + \"false\")\n",
    "\n"
   ]
  },
  {
   "cell_type": "code",
   "execution_count": 5,
   "metadata": {},
   "outputs": [
    {
     "ename": "SyntaxError",
     "evalue": "EOF while scanning triple-quoted string literal (<ipython-input-5-e7f8911829a1>, line 16)",
     "output_type": "error",
     "traceback": [
      "\u001b[1;36m  File \u001b[1;32m\"<ipython-input-5-e7f8911829a1>\"\u001b[1;36m, line \u001b[1;32m16\u001b[0m\n\u001b[1;33m    Почему то программа сразу заработала\u001b[0m\n\u001b[1;37m                                        \n^\u001b[0m\n\u001b[1;31mSyntaxError\u001b[0m\u001b[1;31m:\u001b[0m EOF while scanning triple-quoted string literal\n"
     ]
    }
   ],
   "source": [
    "# Задание № 4\n",
    "DEFAULT_USER_COUNT = 3\n",
    "\n",
    "def delete_and_return_last_user(region, default_list = ['A100', 'A101', 'A102']):\n",
    " \n",
    "    \"\"\"\n",
    "    Удаляет из списка default_list последнего пользователя\n",
    "    и возвращает ID нового последнего пользователя.\n",
    "    \"\"\"\n",
    "    element_to_delete = default_list[-1]\n",
    "    default_list.remove(element_to_delete)\n",
    "    \n",
    "    print(default_list)\n",
    "    \n",
    "    '''\n",
    "    Почему то программа сразу заработала, и не совсем понятно к чему здесь\n",
    "    аргумент \"region\" ?)\n",
    "    1) Обращение к несуществующему элементу списка (такой индекс несуществует)\n",
    "    2) В теле функции элементом для удаления всегда задается 'A102', из списка, заданного\n",
    "    в качестве аргумента функции. При повторной попытке удаления 'A102' из списка в памяти ['A100', 'A101']\n",
    "    происходит ошибка."
   ]
  },
  {
   "cell_type": "code",
   "execution_count": 4,
   "metadata": {},
   "outputs": [
    {
     "name": "stdout",
     "output_type": "stream",
     "text": [
      "[]\n"
     ]
    }
   ],
   "source": [
    "delete_and_return_last_user(1)"
   ]
  },
  {
   "cell_type": "code",
   "execution_count": null,
   "metadata": {},
   "outputs": [],
   "source": []
  },
  {
   "cell_type": "code",
   "execution_count": null,
   "metadata": {},
   "outputs": [],
   "source": []
  }
 ],
 "metadata": {
  "kernelspec": {
   "display_name": "Python 3",
   "language": "python",
   "name": "python3"
  },
  "language_info": {
   "codemirror_mode": {
    "name": "ipython",
    "version": 3
   },
   "file_extension": ".py",
   "mimetype": "text/x-python",
   "name": "python",
   "nbconvert_exporter": "python",
   "pygments_lexer": "ipython3",
   "version": "3.7.6"
  }
 },
 "nbformat": 4,
 "nbformat_minor": 4
}
