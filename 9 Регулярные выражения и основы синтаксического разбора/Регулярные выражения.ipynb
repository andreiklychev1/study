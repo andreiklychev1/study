{
 "cells": [
  {
   "cell_type": "code",
   "execution_count": 3,
   "metadata": {},
   "outputs": [],
   "source": [
    "import re\n",
    "\n",
    "# Задание № 1\n",
    "state_numbers = ['к456ур178', 's145op77', 'н123ав47', 'в777ор177', 'к111п']\n",
    "\n",
    "def valid_numbers(array):\n",
    "    for element in array:\n",
    "        cut = re.findall(r'([а, в, е, к, м, н, о, р, с, т, у, х]{1}\\d{3}[а, в, е, к, м, н, о, р, с, т, у, х]{2})(\\d{2,3})', element)\n",
    "        if cut:\n",
    "            print(cut)\n",
    "\n",
    "    "
   ]
  },
  {
   "cell_type": "code",
   "execution_count": 4,
   "metadata": {},
   "outputs": [
    {
     "name": "stdout",
     "output_type": "stream",
     "text": [
      "[('к456ур', '178')]\n",
      "[('н123ав', '47')]\n",
      "[('в777ор', '177')]\n"
     ]
    }
   ],
   "source": [
    "valid_numbers(state_numbers)"
   ]
  },
  {
   "cell_type": "code",
   "execution_count": 5,
   "metadata": {},
   "outputs": [],
   "source": [
    "# Задание № 2\n",
    "\n",
    "email_1 = 'alyosha@mail.biz.info'\n",
    "email_2 = 'kek.3@yandex.com'\n",
    "email_3 = 'gvasiliev@inbox.ru' # В этом случае возвращает не весь адрес, и не понятно как избежать, символ разрешенный\n",
    "    \n",
    "\n",
    "\n",
    "def email_check(email):\n",
    "    long_email = re.findall(r'[^\\s\\,\\:\\;\\!\\#\\%\\*\\,\\=\\+\\{\\}\\'\\/\\\\\\|][a-zA-Z0-9]{4,256}@[a-z]{4,256}(?:\\.[a-z,A-Z,0-9]{1,256})+\\.[a-z]{2,4}', email)\n",
    "    short_email = re.findall(r'[^\\s\\,\\:\\;\\!\\#\\%\\*\\,\\=\\+\\{\\}\\'\\/\\\\\\|][a-zA-Z0-9]{4,256}@[a-z]{4,256}\\.[a-z]{2,4}', email)\n",
    "    if long_email:\n",
    "        return long_email\n",
    "    elif short_email:\n",
    "        return short_email\n",
    "    else:\n",
    "        print('Неверный формат почтового адреса')\n",
    "    \n",
    "    \n",
    "    \n",
    "    "
   ]
  },
  {
   "cell_type": "code",
   "execution_count": 6,
   "metadata": {},
   "outputs": [
    {
     "data": {
      "text/plain": [
       "['alyosha@mail.biz.info']"
      ]
     },
     "execution_count": 6,
     "metadata": {},
     "output_type": "execute_result"
    }
   ],
   "source": [
    "email_check(email_1)"
   ]
  },
  {
   "cell_type": "code",
   "execution_count": 8,
   "metadata": {},
   "outputs": [
    {
     "data": {
      "text/plain": [
       "['волеволе',\n",
       " 'думатьдуматьдумать',\n",
       " 'клинописьклинописьклинописьклинописьклинопись']"
      ]
     },
     "execution_count": 8,
     "metadata": {},
     "output_type": "execute_result"
    }
   ],
   "source": [
    "#  Задание № 3\n",
    "\n",
    "poem = '''Мчатся тучи, вьются тучи;\n",
    "Невидимкою луна\n",
    "Освещает снег летучий;\n",
    "Мутно небо, ночь мутна.\n",
    "Еду, еду в чистом поле;\n",
    "Колокольчик дин-дин-дин…\n",
    "Страшно, страшно поневоле\n",
    "Средь неведомых равнин!\n",
    "\n",
    "А.С. Пушкин'\n",
    "\n",
    "'''\n",
    "string = 'Страшно, страшно поневоле, волеволе, страшно думатьдуматьдумать клинопись клинописьклинописьклинописьклинописьклинопись о неволе'\n",
    "\n",
    "massive = re.findall(r'[\\s\\,\\;\\.\\-\\...\\!]?(\\w+)[\\s\\,\\;\\.\\-\\...\\!]?', string)\n",
    "\n",
    "\n",
    "k = re.findall(r'\\w+', string)\n",
    "new_string = ''\n",
    "for element in k:\n",
    "    if element[:int(len(element)/2)] == element[int(len(element)/2):len(element)]:\n",
    "        string = string.replace(element, element[:int(len(element)/2)])\n",
    "\n",
    "    \n",
    "massive.sort(key = str.lower)\n",
    "massive\n",
    "g = []\n",
    "f = open('russian.txt', 'r', encoding = 'cp1251')\n",
    "for line in f:\n",
    "    \n",
    "    for el in massive:\n",
    "        \n",
    "        if el.lower() == line.strip():\n",
    "            \n",
    "            g.append(el)    \n",
    "\n",
    "\n",
    "            \n",
    "d = list(set(massive).difference(set(g)))\n",
    "\n",
    "d"
   ]
  },
  {
   "cell_type": "code",
   "execution_count": null,
   "metadata": {},
   "outputs": [],
   "source": [
    "# Задание № 4\n",
    "\n",
    "phone_number_templates = ['+7 955 555-55-55', '9555555555', '8(955)555-55-55',\n",
    "                          '+7 955 555 55 55', '7(955) 555-55-55', '+7 955+555+55+55',\n",
    "                         '+7[911]5085966', '+7_911_508_ 59_ 66']\n",
    "\n",
    "for element in phone_number_templates:\n",
    "    validation = re.sub(r'[\\+\\s7-8]?[7-8]?[\\[\\(\\s\\_\\-]?(\\d{3})[\\s\\]\\)\\+\\-\\_]*(\\d{3})[\\s\\]\\)\\+\\-\\_]*(\\d{2})[\\s\\]\\)\\+\\-\\_]*(\\d{2})',\n",
    "                            r'+7(\\1)-\\2-\\3-\\4', element)\n",
    "    print(validation)\n",
    "  \n",
    "        \n",
    "\n",
    "\n",
    "\n",
    "\n"
   ]
  },
  {
   "cell_type": "code",
   "execution_count": null,
   "metadata": {},
   "outputs": [],
   "source": []
  },
  {
   "cell_type": "code",
   "execution_count": null,
   "metadata": {},
   "outputs": [],
   "source": []
  },
  {
   "cell_type": "code",
   "execution_count": null,
   "metadata": {},
   "outputs": [],
   "source": []
  },
  {
   "cell_type": "code",
   "execution_count": null,
   "metadata": {},
   "outputs": [],
   "source": []
  },
  {
   "cell_type": "code",
   "execution_count": null,
   "metadata": {},
   "outputs": [],
   "source": []
  },
  {
   "cell_type": "code",
   "execution_count": null,
   "metadata": {},
   "outputs": [],
   "source": [
    "\n"
   ]
  },
  {
   "cell_type": "code",
   "execution_count": null,
   "metadata": {},
   "outputs": [],
   "source": []
  },
  {
   "cell_type": "code",
   "execution_count": null,
   "metadata": {},
   "outputs": [],
   "source": []
  }
 ],
 "metadata": {
  "kernelspec": {
   "display_name": "Python 3",
   "language": "python",
   "name": "python3"
  },
  "language_info": {
   "codemirror_mode": {
    "name": "ipython",
    "version": 3
   },
   "file_extension": ".py",
   "mimetype": "text/x-python",
   "name": "python",
   "nbconvert_exporter": "python",
   "pygments_lexer": "ipython3",
   "version": "3.7.6"
  }
 },
 "nbformat": 4,
 "nbformat_minor": 4
}
