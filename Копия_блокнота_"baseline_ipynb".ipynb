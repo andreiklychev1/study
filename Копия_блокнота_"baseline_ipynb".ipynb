{
  "nbformat": 4,
  "nbformat_minor": 0,
  "metadata": {
    "kernelspec": {
      "display_name": "Python 3",
      "language": "python",
      "name": "python3"
    },
    "language_info": {
      "codemirror_mode": {
        "name": "ipython",
        "version": 3
      },
      "file_extension": ".py",
      "mimetype": "text/x-python",
      "name": "python",
      "nbconvert_exporter": "python",
      "pygments_lexer": "ipython3",
      "version": "3.8.3"
    },
    "colab": {
      "name": "Копия блокнота \"baseline.ipynb\"",
      "provenance": [],
      "collapsed_sections": [],
      "toc_visible": true,
      "include_colab_link": true
    },
    "widgets": {
      "application/vnd.jupyter.widget-state+json": {
        "afeb49dfe53341e0a5c744007fe345fe": {
          "model_module": "@jupyter-widgets/controls",
          "model_name": "HBoxModel",
          "state": {
            "_view_name": "HBoxView",
            "_dom_classes": [],
            "_model_name": "HBoxModel",
            "_view_module": "@jupyter-widgets/controls",
            "_model_module_version": "1.5.0",
            "_view_count": null,
            "_view_module_version": "1.5.0",
            "box_style": "",
            "layout": "IPY_MODEL_5013e94c70c84926af23ccde656ac577",
            "_model_module": "@jupyter-widgets/controls",
            "children": [
              "IPY_MODEL_fe85a611fa45410fba9fe07e6a9f8832",
              "IPY_MODEL_b057432bc36d49f5b2e0506539f523d6"
            ]
          }
        },
        "5013e94c70c84926af23ccde656ac577": {
          "model_module": "@jupyter-widgets/base",
          "model_name": "LayoutModel",
          "state": {
            "_view_name": "LayoutView",
            "grid_template_rows": null,
            "right": null,
            "justify_content": null,
            "_view_module": "@jupyter-widgets/base",
            "overflow": null,
            "_model_module_version": "1.2.0",
            "_view_count": null,
            "flex_flow": null,
            "width": null,
            "min_width": null,
            "border": null,
            "align_items": null,
            "bottom": null,
            "_model_module": "@jupyter-widgets/base",
            "top": null,
            "grid_column": null,
            "overflow_y": null,
            "overflow_x": null,
            "grid_auto_flow": null,
            "grid_area": null,
            "grid_template_columns": null,
            "flex": null,
            "_model_name": "LayoutModel",
            "justify_items": null,
            "grid_row": null,
            "max_height": null,
            "align_content": null,
            "visibility": null,
            "align_self": null,
            "height": null,
            "min_height": null,
            "padding": null,
            "grid_auto_rows": null,
            "grid_gap": null,
            "max_width": null,
            "order": null,
            "_view_module_version": "1.2.0",
            "grid_template_areas": null,
            "object_position": null,
            "object_fit": null,
            "grid_auto_columns": null,
            "margin": null,
            "display": null,
            "left": null
          }
        },
        "fe85a611fa45410fba9fe07e6a9f8832": {
          "model_module": "@jupyter-widgets/controls",
          "model_name": "FloatProgressModel",
          "state": {
            "_view_name": "ProgressView",
            "style": "IPY_MODEL_b084e78510c54b929114e20e26ccbdcf",
            "_dom_classes": [],
            "description": "100%",
            "_model_name": "FloatProgressModel",
            "bar_style": "success",
            "max": 16499,
            "_view_module": "@jupyter-widgets/controls",
            "_model_module_version": "1.5.0",
            "value": 16499,
            "_view_count": null,
            "_view_module_version": "1.5.0",
            "orientation": "horizontal",
            "min": 0,
            "description_tooltip": null,
            "_model_module": "@jupyter-widgets/controls",
            "layout": "IPY_MODEL_23803cb90ee147c099909e9352091998"
          }
        },
        "b057432bc36d49f5b2e0506539f523d6": {
          "model_module": "@jupyter-widgets/controls",
          "model_name": "HTMLModel",
          "state": {
            "_view_name": "HTMLView",
            "style": "IPY_MODEL_04ce339b92ee4bfe92eae23d8a9c3314",
            "_dom_classes": [],
            "description": "",
            "_model_name": "HTMLModel",
            "placeholder": "​",
            "_view_module": "@jupyter-widgets/controls",
            "_model_module_version": "1.5.0",
            "value": " 16499/16499 [01:35&lt;00:00, 172.31it/s]",
            "_view_count": null,
            "_view_module_version": "1.5.0",
            "description_tooltip": null,
            "_model_module": "@jupyter-widgets/controls",
            "layout": "IPY_MODEL_ef36373008ca4421927cd2b9fc366ecb"
          }
        },
        "b084e78510c54b929114e20e26ccbdcf": {
          "model_module": "@jupyter-widgets/controls",
          "model_name": "ProgressStyleModel",
          "state": {
            "_view_name": "StyleView",
            "_model_name": "ProgressStyleModel",
            "description_width": "initial",
            "_view_module": "@jupyter-widgets/base",
            "_model_module_version": "1.5.0",
            "_view_count": null,
            "_view_module_version": "1.2.0",
            "bar_color": null,
            "_model_module": "@jupyter-widgets/controls"
          }
        },
        "23803cb90ee147c099909e9352091998": {
          "model_module": "@jupyter-widgets/base",
          "model_name": "LayoutModel",
          "state": {
            "_view_name": "LayoutView",
            "grid_template_rows": null,
            "right": null,
            "justify_content": null,
            "_view_module": "@jupyter-widgets/base",
            "overflow": null,
            "_model_module_version": "1.2.0",
            "_view_count": null,
            "flex_flow": null,
            "width": null,
            "min_width": null,
            "border": null,
            "align_items": null,
            "bottom": null,
            "_model_module": "@jupyter-widgets/base",
            "top": null,
            "grid_column": null,
            "overflow_y": null,
            "overflow_x": null,
            "grid_auto_flow": null,
            "grid_area": null,
            "grid_template_columns": null,
            "flex": null,
            "_model_name": "LayoutModel",
            "justify_items": null,
            "grid_row": null,
            "max_height": null,
            "align_content": null,
            "visibility": null,
            "align_self": null,
            "height": null,
            "min_height": null,
            "padding": null,
            "grid_auto_rows": null,
            "grid_gap": null,
            "max_width": null,
            "order": null,
            "_view_module_version": "1.2.0",
            "grid_template_areas": null,
            "object_position": null,
            "object_fit": null,
            "grid_auto_columns": null,
            "margin": null,
            "display": null,
            "left": null
          }
        },
        "04ce339b92ee4bfe92eae23d8a9c3314": {
          "model_module": "@jupyter-widgets/controls",
          "model_name": "DescriptionStyleModel",
          "state": {
            "_view_name": "StyleView",
            "_model_name": "DescriptionStyleModel",
            "description_width": "",
            "_view_module": "@jupyter-widgets/base",
            "_model_module_version": "1.5.0",
            "_view_count": null,
            "_view_module_version": "1.2.0",
            "_model_module": "@jupyter-widgets/controls"
          }
        },
        "ef36373008ca4421927cd2b9fc366ecb": {
          "model_module": "@jupyter-widgets/base",
          "model_name": "LayoutModel",
          "state": {
            "_view_name": "LayoutView",
            "grid_template_rows": null,
            "right": null,
            "justify_content": null,
            "_view_module": "@jupyter-widgets/base",
            "overflow": null,
            "_model_module_version": "1.2.0",
            "_view_count": null,
            "flex_flow": null,
            "width": null,
            "min_width": null,
            "border": null,
            "align_items": null,
            "bottom": null,
            "_model_module": "@jupyter-widgets/base",
            "top": null,
            "grid_column": null,
            "overflow_y": null,
            "overflow_x": null,
            "grid_auto_flow": null,
            "grid_area": null,
            "grid_template_columns": null,
            "flex": null,
            "_model_name": "LayoutModel",
            "justify_items": null,
            "grid_row": null,
            "max_height": null,
            "align_content": null,
            "visibility": null,
            "align_self": null,
            "height": null,
            "min_height": null,
            "padding": null,
            "grid_auto_rows": null,
            "grid_gap": null,
            "max_width": null,
            "order": null,
            "_view_module_version": "1.2.0",
            "grid_template_areas": null,
            "object_position": null,
            "object_fit": null,
            "grid_auto_columns": null,
            "margin": null,
            "display": null,
            "left": null
          }
        }
      }
    }
  },
  "cells": [
    {
      "cell_type": "markdown",
      "metadata": {
        "id": "view-in-github",
        "colab_type": "text"
      },
      "source": [
        "<a href=\"https://colab.research.google.com/github/andreiklychev1/study/blob/master/%D0%9A%D0%BE%D0%BF%D0%B8%D1%8F_%D0%B1%D0%BB%D0%BE%D0%BA%D0%BD%D0%BE%D1%82%D0%B0_%22baseline_ipynb%22.ipynb\" target=\"_parent\"><img src=\"https://colab.research.google.com/assets/colab-badge.svg\" alt=\"Open In Colab\"/></a>"
      ]
    },
    {
      "cell_type": "code",
      "metadata": {
        "id": "Sv1UPmkpmSnQ",
        "colab": {
          "base_uri": "https://localhost:8080/",
          "height": 629
        },
        "outputId": "2720791c-23d9-496e-8d58-6e37d3e4fc1f"
      },
      "source": [
        "!pip install pyunpack\r\n",
        "!pip install patool\r\n",
        "!pip install surprise"
      ],
      "execution_count": 1,
      "outputs": [
        {
          "output_type": "stream",
          "text": [
            "Collecting pyunpack\n",
            "  Downloading https://files.pythonhosted.org/packages/83/29/020436b1d8e96e5f26fa282b9c3c13a3b456a36b9ea2edc87c5fed008369/pyunpack-0.2.2-py2.py3-none-any.whl\n",
            "Collecting entrypoint2\n",
            "  Downloading https://files.pythonhosted.org/packages/c2/ca/00c8767568924e5c2209da99b6abdeeed9d11cbae2a713d54d041b092a09/entrypoint2-0.2.3-py2.py3-none-any.whl\n",
            "Collecting easyprocess\n",
            "  Downloading https://files.pythonhosted.org/packages/48/3c/75573613641c90c6d094059ac28adb748560d99bd27ee6f80cce398f404e/EasyProcess-0.3-py2.py3-none-any.whl\n",
            "Collecting argparse\n",
            "  Downloading https://files.pythonhosted.org/packages/f2/94/3af39d34be01a24a6e65433d19e107099374224905f1e0cc6bbe1fd22a2f/argparse-1.4.0-py2.py3-none-any.whl\n",
            "Installing collected packages: argparse, entrypoint2, easyprocess, pyunpack\n",
            "Successfully installed argparse-1.4.0 easyprocess-0.3 entrypoint2-0.2.3 pyunpack-0.2.2\n"
          ],
          "name": "stdout"
        },
        {
          "output_type": "display_data",
          "data": {
            "application/vnd.colab-display-data+json": {
              "pip_warning": {
                "packages": [
                  "argparse"
                ]
              }
            }
          },
          "metadata": {
            "tags": []
          }
        },
        {
          "output_type": "stream",
          "text": [
            "Collecting patool\n",
            "\u001b[?25l  Downloading https://files.pythonhosted.org/packages/43/94/52243ddff508780dd2d8110964320ab4851134a55ab102285b46e740f76a/patool-1.12-py2.py3-none-any.whl (77kB)\n",
            "\r\u001b[K     |████▎                           | 10kB 13.8MB/s eta 0:00:01\r\u001b[K     |████████▌                       | 20kB 18.5MB/s eta 0:00:01\r\u001b[K     |████████████▊                   | 30kB 13.0MB/s eta 0:00:01\r\u001b[K     |█████████████████               | 40kB 10.9MB/s eta 0:00:01\r\u001b[K     |█████████████████████▏          | 51kB 9.9MB/s eta 0:00:01\r\u001b[K     |█████████████████████████▍      | 61kB 7.9MB/s eta 0:00:01\r\u001b[K     |█████████████████████████████▋  | 71kB 8.7MB/s eta 0:00:01\r\u001b[K     |████████████████████████████████| 81kB 5.4MB/s \n",
            "\u001b[?25hInstalling collected packages: patool\n",
            "Successfully installed patool-1.12\n",
            "Collecting surprise\n",
            "  Downloading https://files.pythonhosted.org/packages/61/de/e5cba8682201fcf9c3719a6fdda95693468ed061945493dea2dd37c5618b/surprise-0.1-py2.py3-none-any.whl\n",
            "Collecting scikit-surprise\n",
            "\u001b[?25l  Downloading https://files.pythonhosted.org/packages/97/37/5d334adaf5ddd65da99fc65f6507e0e4599d092ba048f4302fe8775619e8/scikit-surprise-1.1.1.tar.gz (11.8MB)\n",
            "\u001b[K     |████████████████████████████████| 11.8MB 8.1MB/s \n",
            "\u001b[?25hRequirement already satisfied: joblib>=0.11 in /usr/local/lib/python3.6/dist-packages (from scikit-surprise->surprise) (1.0.0)\n",
            "Requirement already satisfied: numpy>=1.11.2 in /usr/local/lib/python3.6/dist-packages (from scikit-surprise->surprise) (1.19.5)\n",
            "Requirement already satisfied: scipy>=1.0.0 in /usr/local/lib/python3.6/dist-packages (from scikit-surprise->surprise) (1.4.1)\n",
            "Requirement already satisfied: six>=1.10.0 in /usr/local/lib/python3.6/dist-packages (from scikit-surprise->surprise) (1.15.0)\n",
            "Building wheels for collected packages: scikit-surprise\n",
            "  Building wheel for scikit-surprise (setup.py) ... \u001b[?25l\u001b[?25hdone\n",
            "  Created wheel for scikit-surprise: filename=scikit_surprise-1.1.1-cp36-cp36m-linux_x86_64.whl size=1618242 sha256=a3808f180a79e97fb54ef13555da8255963e928da38048bb916b624eec6792c5\n",
            "  Stored in directory: /root/.cache/pip/wheels/78/9c/3d/41b419c9d2aff5b6e2b4c0fc8d25c538202834058f9ed110d0\n",
            "Successfully built scikit-surprise\n",
            "Installing collected packages: scikit-surprise, surprise\n",
            "Successfully installed scikit-surprise-1.1.1 surprise-0.1\n"
          ],
          "name": "stdout"
        }
      ]
    },
    {
      "cell_type": "code",
      "metadata": {
        "id": "G_FDUt0BmZY8"
      },
      "source": [
        "from pyunpack import Archive"
      ],
      "execution_count": 3,
      "outputs": []
    },
    {
      "cell_type": "code",
      "metadata": {
        "id": "SUgMX7VkcCy6",
        "colab": {
          "base_uri": "https://localhost:8080/"
        },
        "outputId": "cdb7e2ec-fe6c-4b33-aff2-26eb5324e851"
      },
      "source": [
        "import pandas as pd\n",
        "import numpy as np\n",
        "from tqdm import tqdm_notebook\n",
        "import warnings\n",
        "warnings.filterwarnings('ignore')\n",
        "from google.colab import drive\n",
        "from google.colab import files\n",
        "\n",
        "drive.mount('/content/drive')"
      ],
      "execution_count": 4,
      "outputs": [
        {
          "output_type": "stream",
          "text": [
            "Mounted at /content/drive\n"
          ],
          "name": "stdout"
        }
      ]
    },
    {
      "cell_type": "code",
      "metadata": {
        "id": "S-DPpYcmnQq7"
      },
      "source": [
        "# files.download('data.7z')\r\n",
        "Archive('/content/drive/MyDrive/data.7z').extractall('data')"
      ],
      "execution_count": 6,
      "outputs": []
    },
    {
      "cell_type": "code",
      "metadata": {
        "id": "_YZIp7YRcCy_"
      },
      "source": [
        "#считывание данных \n",
        "train_data = pd.read_csv(\"data/train_data.csv\", sep=';')\n",
        "train_labels = pd.read_csv(\"data/train_labels.csv\", sep=';')\n",
        "test_data = pd.read_csv(\"data/test_data.csv\", sep=';')"
      ],
      "execution_count": 7,
      "outputs": []
    },
    {
      "cell_type": "code",
      "metadata": {
        "id": "9BrvCPITof7I"
      },
      "source": [
        "# train_data.isna().sum()\r\n",
        "# train_data.shape"
      ],
      "execution_count": null,
      "outputs": []
    },
    {
      "cell_type": "code",
      "metadata": {
        "id": "qi1v-zt9cCzA"
      },
      "source": [
        "#Заполнение пропусков строкой 'None'\n",
        "train_data = train_data.fillna('None')\n",
        "test_data = test_data.fillna('None')"
      ],
      "execution_count": 9,
      "outputs": []
    },
    {
      "cell_type": "markdown",
      "metadata": {
        "id": "TY8gm5S1cCzA"
      },
      "source": [
        "<hr>"
      ]
    },
    {
      "cell_type": "markdown",
      "metadata": {
        "id": "K0OHVn9ZcCzB"
      },
      "source": [
        "# Подготовка данных "
      ]
    },
    {
      "cell_type": "markdown",
      "metadata": {
        "id": "xERbnQd_cCzB"
      },
      "source": [
        "#### Обработка okpd2 и additional_code"
      ]
    },
    {
      "cell_type": "code",
      "metadata": {
        "id": "130ynFhxcCzB"
      },
      "source": [
        "train_data['okpd2_or_additional_code'] = train_data[['okpd2_code', 'additional_code']].apply(lambda x: x[0] if x[1] == 'None' else x[1], axis=1)\n",
        "test_data['okpd2_or_additional_code'] = test_data[['okpd2_code', 'additional_code']].apply(lambda x: x[0] if x[1] == 'None' else x[1], axis=1)"
      ],
      "execution_count": 10,
      "outputs": []
    },
    {
      "cell_type": "code",
      "metadata": {
        "id": "r3hbdDwfIwI_",
        "colab": {
          "base_uri": "https://localhost:8080/",
          "height": 419
        },
        "outputId": "a8177e09-52ec-49fb-c8d5-2a44ef053ac5"
      },
      "source": [
        "train_labels"
      ],
      "execution_count": 11,
      "outputs": [
        {
          "output_type": "execute_result",
          "data": {
            "text/html": [
              "<div>\n",
              "<style scoped>\n",
              "    .dataframe tbody tr th:only-of-type {\n",
              "        vertical-align: middle;\n",
              "    }\n",
              "\n",
              "    .dataframe tbody tr th {\n",
              "        vertical-align: top;\n",
              "    }\n",
              "\n",
              "    .dataframe thead th {\n",
              "        text-align: right;\n",
              "    }\n",
              "</style>\n",
              "<table border=\"1\" class=\"dataframe\">\n",
              "  <thead>\n",
              "    <tr style=\"text-align: right;\">\n",
              "      <th></th>\n",
              "      <th>pn_lot_anon</th>\n",
              "      <th>participant_inn_kpp_anon</th>\n",
              "      <th>is_winner</th>\n",
              "      <th>fz</th>\n",
              "    </tr>\n",
              "  </thead>\n",
              "  <tbody>\n",
              "    <tr>\n",
              "      <th>0</th>\n",
              "      <td>pn_lot_1770702</td>\n",
              "      <td>inn_kpp_3661899</td>\n",
              "      <td>1</td>\n",
              "      <td>44fz</td>\n",
              "    </tr>\n",
              "    <tr>\n",
              "      <th>1</th>\n",
              "      <td>pn_lot_1058704</td>\n",
              "      <td>inn_kpp_3661899</td>\n",
              "      <td>1</td>\n",
              "      <td>44fz</td>\n",
              "    </tr>\n",
              "    <tr>\n",
              "      <th>2</th>\n",
              "      <td>pn_lot_4186044</td>\n",
              "      <td>inn_kpp_3661899</td>\n",
              "      <td>1</td>\n",
              "      <td>44fz</td>\n",
              "    </tr>\n",
              "    <tr>\n",
              "      <th>3</th>\n",
              "      <td>pn_lot_6882961</td>\n",
              "      <td>inn_kpp_3661899</td>\n",
              "      <td>1</td>\n",
              "      <td>44fz</td>\n",
              "    </tr>\n",
              "    <tr>\n",
              "      <th>4</th>\n",
              "      <td>pn_lot_5821609</td>\n",
              "      <td>inn_kpp_3661899</td>\n",
              "      <td>1</td>\n",
              "      <td>44fz</td>\n",
              "    </tr>\n",
              "    <tr>\n",
              "      <th>...</th>\n",
              "      <td>...</td>\n",
              "      <td>...</td>\n",
              "      <td>...</td>\n",
              "      <td>...</td>\n",
              "    </tr>\n",
              "    <tr>\n",
              "      <th>928443</th>\n",
              "      <td>pn_lot_4113734</td>\n",
              "      <td>inn_kpp_9228706</td>\n",
              "      <td>0</td>\n",
              "      <td>44fz</td>\n",
              "    </tr>\n",
              "    <tr>\n",
              "      <th>928444</th>\n",
              "      <td>pn_lot_1672363</td>\n",
              "      <td>inn_kpp_9228706</td>\n",
              "      <td>1</td>\n",
              "      <td>223fz</td>\n",
              "    </tr>\n",
              "    <tr>\n",
              "      <th>928445</th>\n",
              "      <td>pn_lot_5319307</td>\n",
              "      <td>inn_kpp_9228706</td>\n",
              "      <td>1</td>\n",
              "      <td>223fz</td>\n",
              "    </tr>\n",
              "    <tr>\n",
              "      <th>928446</th>\n",
              "      <td>pn_lot_7591446</td>\n",
              "      <td>inn_kpp_2431264</td>\n",
              "      <td>1</td>\n",
              "      <td>223fz</td>\n",
              "    </tr>\n",
              "    <tr>\n",
              "      <th>928447</th>\n",
              "      <td>pn_lot_3442542</td>\n",
              "      <td>inn_kpp_8441221</td>\n",
              "      <td>0</td>\n",
              "      <td>223fz</td>\n",
              "    </tr>\n",
              "  </tbody>\n",
              "</table>\n",
              "<p>928448 rows × 4 columns</p>\n",
              "</div>"
            ],
            "text/plain": [
              "           pn_lot_anon participant_inn_kpp_anon  is_winner     fz\n",
              "0       pn_lot_1770702          inn_kpp_3661899          1   44fz\n",
              "1       pn_lot_1058704          inn_kpp_3661899          1   44fz\n",
              "2       pn_lot_4186044          inn_kpp_3661899          1   44fz\n",
              "3       pn_lot_6882961          inn_kpp_3661899          1   44fz\n",
              "4       pn_lot_5821609          inn_kpp_3661899          1   44fz\n",
              "...                ...                      ...        ...    ...\n",
              "928443  pn_lot_4113734          inn_kpp_9228706          0   44fz\n",
              "928444  pn_lot_1672363          inn_kpp_9228706          1  223fz\n",
              "928445  pn_lot_5319307          inn_kpp_9228706          1  223fz\n",
              "928446  pn_lot_7591446          inn_kpp_2431264          1  223fz\n",
              "928447  pn_lot_3442542          inn_kpp_8441221          0  223fz\n",
              "\n",
              "[928448 rows x 4 columns]"
            ]
          },
          "metadata": {
            "tags": []
          },
          "execution_count": 11
        }
      ]
    },
    {
      "cell_type": "code",
      "metadata": {
        "colab": {
          "base_uri": "https://localhost:8080/",
          "height": 163
        },
        "id": "bp-_HmcIYUn5",
        "outputId": "08a68437-749e-4baa-e264-121b2143eecd"
      },
      "source": [
        "re.search('\\d+', train_labels['participant_inn_kpp_anon'].values[0]).group(0)"
      ],
      "execution_count": 13,
      "outputs": [
        {
          "output_type": "error",
          "ename": "NameError",
          "evalue": "ignored",
          "traceback": [
            "\u001b[0;31m---------------------------------------------------------------------------\u001b[0m",
            "\u001b[0;31mNameError\u001b[0m                                 Traceback (most recent call last)",
            "\u001b[0;32m<ipython-input-13-7de1bd9c59b2>\u001b[0m in \u001b[0;36m<module>\u001b[0;34m()\u001b[0m\n\u001b[0;32m----> 1\u001b[0;31m \u001b[0mre\u001b[0m\u001b[0;34m.\u001b[0m\u001b[0msearch\u001b[0m\u001b[0;34m(\u001b[0m\u001b[0;34m'\\d+'\u001b[0m\u001b[0;34m,\u001b[0m \u001b[0mtrain_labels\u001b[0m\u001b[0;34m[\u001b[0m\u001b[0;34m'participant_inn_kpp_anon'\u001b[0m\u001b[0;34m]\u001b[0m\u001b[0;34m.\u001b[0m\u001b[0mvalues\u001b[0m\u001b[0;34m[\u001b[0m\u001b[0;36m0\u001b[0m\u001b[0;34m]\u001b[0m\u001b[0;34m)\u001b[0m\u001b[0;34m.\u001b[0m\u001b[0mgroup\u001b[0m\u001b[0;34m(\u001b[0m\u001b[0;36m0\u001b[0m\u001b[0;34m)\u001b[0m\u001b[0;34m\u001b[0m\u001b[0;34m\u001b[0m\u001b[0m\n\u001b[0m",
            "\u001b[0;31mNameError\u001b[0m: name 're' is not defined"
          ]
        }
      ]
    },
    {
      "cell_type": "code",
      "metadata": {
        "colab": {
          "base_uri": "https://localhost:8080/",
          "height": 419
        },
        "id": "rlV1Hhe2MupJ",
        "outputId": "e13c0582-5ef2-4ca7-83f3-a70acd790b94"
      },
      "source": [
        "codes = pd.read_excel('коды.xlsx')\r\n",
        "codes"
      ],
      "execution_count": 18,
      "outputs": [
        {
          "output_type": "execute_result",
          "data": {
            "text/html": [
              "<div>\n",
              "<style scoped>\n",
              "    .dataframe tbody tr th:only-of-type {\n",
              "        vertical-align: middle;\n",
              "    }\n",
              "\n",
              "    .dataframe tbody tr th {\n",
              "        vertical-align: top;\n",
              "    }\n",
              "\n",
              "    .dataframe thead th {\n",
              "        text-align: right;\n",
              "    }\n",
              "</style>\n",
              "<table border=\"1\" class=\"dataframe\">\n",
              "  <thead>\n",
              "    <tr style=\"text-align: right;\">\n",
              "      <th></th>\n",
              "      <th>Список регионов</th>\n",
              "      <th>Код региона</th>\n",
              "    </tr>\n",
              "  </thead>\n",
              "  <tbody>\n",
              "    <tr>\n",
              "      <th>0</th>\n",
              "      <td>Республика Адыгея</td>\n",
              "      <td>1</td>\n",
              "    </tr>\n",
              "    <tr>\n",
              "      <th>1</th>\n",
              "      <td>Республика Башкортостан</td>\n",
              "      <td>02, 102</td>\n",
              "    </tr>\n",
              "    <tr>\n",
              "      <th>2</th>\n",
              "      <td>Республика Бурятия</td>\n",
              "      <td>3</td>\n",
              "    </tr>\n",
              "    <tr>\n",
              "      <th>3</th>\n",
              "      <td>Республика Алтай</td>\n",
              "      <td>4</td>\n",
              "    </tr>\n",
              "    <tr>\n",
              "      <th>4</th>\n",
              "      <td>Республика Дагестан</td>\n",
              "      <td>5</td>\n",
              "    </tr>\n",
              "    <tr>\n",
              "      <th>...</th>\n",
              "      <td>...</td>\n",
              "      <td>...</td>\n",
              "    </tr>\n",
              "    <tr>\n",
              "      <th>81</th>\n",
              "      <td>Чукотский автономный округ</td>\n",
              "      <td>87</td>\n",
              "    </tr>\n",
              "    <tr>\n",
              "      <th>82</th>\n",
              "      <td>Ямало-Ненецкий автономный округ</td>\n",
              "      <td>89</td>\n",
              "    </tr>\n",
              "    <tr>\n",
              "      <th>83</th>\n",
              "      <td>Севастополь</td>\n",
              "      <td>92</td>\n",
              "    </tr>\n",
              "    <tr>\n",
              "      <th>84</th>\n",
              "      <td>Байконур</td>\n",
              "      <td>94</td>\n",
              "    </tr>\n",
              "    <tr>\n",
              "      <th>85</th>\n",
              "      <td>Чеченская республика</td>\n",
              "      <td>95</td>\n",
              "    </tr>\n",
              "  </tbody>\n",
              "</table>\n",
              "<p>86 rows × 2 columns</p>\n",
              "</div>"
            ],
            "text/plain": [
              "                    Список регионов Код региона\n",
              "0                 Республика Адыгея           1\n",
              "1           Республика Башкортостан     02, 102\n",
              "2                Республика Бурятия           3\n",
              "3                  Республика Алтай           4\n",
              "4               Республика Дагестан           5\n",
              "..                              ...         ...\n",
              "81       Чукотский автономный округ          87\n",
              "82  Ямало-Ненецкий автономный округ          89\n",
              "83                      Севастополь          92\n",
              "84                         Байконур          94\n",
              "85             Чеченская республика          95\n",
              "\n",
              "[86 rows x 2 columns]"
            ]
          },
          "metadata": {
            "tags": []
          },
          "execution_count": 18
        }
      ]
    },
    {
      "cell_type": "code",
      "metadata": {
        "id": "ZeZiBOWQR3ao"
      },
      "source": [
        "import re\r\n",
        "inns = []\r\n",
        "lens = []\r\n",
        "\r\n",
        "for value in train_labels['participant_inn_kpp_anon'].values:\r\n",
        "  try:\r\n",
        "    inns.append(int(re.search('\\d{2}', value).group(0)))\r\n",
        "    lens.append(len(re.search('\\d+', value).group(0)))\r\n",
        "  except:\r\n",
        "    pass\r\n",
        "\r\n",
        "inns_lens = pd.DataFrame(data={'inns': inns, 'lens': lens})"
      ],
      "execution_count": 16,
      "outputs": []
    },
    {
      "cell_type": "code",
      "metadata": {
        "id": "wAo-pSdLd3B8",
        "colab": {
          "base_uri": "https://localhost:8080/",
          "height": 231
        },
        "outputId": "bb40ff4e-052c-4090-c019-07b8708d65bb"
      },
      "source": [
        "codes['Код региона'].values\r\n",
        "codes_ = []\r\n",
        "regions_ = []\r\n",
        "for _ in range(len(codes['Код региона'].values)):\r\n",
        "  if type(codes['Код региона'].values[_]) == str:\r\n",
        "    for el in re.findall('\\d+', codes['Код региона'].values[_]):\r\n",
        "      codes_.append(int(el))\r\n",
        "      regions_.append(codes['Список регионов'].values[_])\r\n",
        "\r\n",
        "  else:\r\n",
        "    codes_.append(codes['Код региона'].values[_])\r\n",
        "    regions_.append(codes['Список регионов'].values[_])\r\n"
      ],
      "execution_count": 17,
      "outputs": [
        {
          "output_type": "error",
          "ename": "NameError",
          "evalue": "ignored",
          "traceback": [
            "\u001b[0;31m---------------------------------------------------------------------------\u001b[0m",
            "\u001b[0;31mNameError\u001b[0m                                 Traceback (most recent call last)",
            "\u001b[0;32m<ipython-input-17-9aec805ffe46>\u001b[0m in \u001b[0;36m<module>\u001b[0;34m()\u001b[0m\n\u001b[0;32m----> 1\u001b[0;31m \u001b[0mcodes\u001b[0m\u001b[0;34m[\u001b[0m\u001b[0;34m'Код региона'\u001b[0m\u001b[0;34m]\u001b[0m\u001b[0;34m.\u001b[0m\u001b[0mvalues\u001b[0m\u001b[0;34m\u001b[0m\u001b[0;34m\u001b[0m\u001b[0m\n\u001b[0m\u001b[1;32m      2\u001b[0m \u001b[0mcodes_\u001b[0m \u001b[0;34m=\u001b[0m \u001b[0;34m[\u001b[0m\u001b[0;34m]\u001b[0m\u001b[0;34m\u001b[0m\u001b[0;34m\u001b[0m\u001b[0m\n\u001b[1;32m      3\u001b[0m \u001b[0mregions_\u001b[0m \u001b[0;34m=\u001b[0m \u001b[0;34m[\u001b[0m\u001b[0;34m]\u001b[0m\u001b[0;34m\u001b[0m\u001b[0;34m\u001b[0m\u001b[0m\n\u001b[1;32m      4\u001b[0m \u001b[0;32mfor\u001b[0m \u001b[0m_\u001b[0m \u001b[0;32min\u001b[0m \u001b[0mrange\u001b[0m\u001b[0;34m(\u001b[0m\u001b[0mlen\u001b[0m\u001b[0;34m(\u001b[0m\u001b[0mcodes\u001b[0m\u001b[0;34m[\u001b[0m\u001b[0;34m'Код региона'\u001b[0m\u001b[0;34m]\u001b[0m\u001b[0;34m.\u001b[0m\u001b[0mvalues\u001b[0m\u001b[0;34m)\u001b[0m\u001b[0;34m)\u001b[0m\u001b[0;34m:\u001b[0m\u001b[0;34m\u001b[0m\u001b[0;34m\u001b[0m\u001b[0m\n\u001b[1;32m      5\u001b[0m   \u001b[0;32mif\u001b[0m \u001b[0mtype\u001b[0m\u001b[0;34m(\u001b[0m\u001b[0mcodes\u001b[0m\u001b[0;34m[\u001b[0m\u001b[0;34m'Код региона'\u001b[0m\u001b[0;34m]\u001b[0m\u001b[0;34m.\u001b[0m\u001b[0mvalues\u001b[0m\u001b[0;34m[\u001b[0m\u001b[0m_\u001b[0m\u001b[0;34m]\u001b[0m\u001b[0;34m)\u001b[0m \u001b[0;34m==\u001b[0m \u001b[0mstr\u001b[0m\u001b[0;34m:\u001b[0m\u001b[0;34m\u001b[0m\u001b[0;34m\u001b[0m\u001b[0m\n",
            "\u001b[0;31mNameError\u001b[0m: name 'codes' is not defined"
          ]
        }
      ]
    },
    {
      "cell_type": "code",
      "metadata": {
        "colab": {
          "base_uri": "https://localhost:8080/",
          "height": 419
        },
        "id": "SJpeDRw1qTm7",
        "outputId": "3b6ae8e0-90dd-44a5-e229-d10a420e89b6"
      },
      "source": [
        "codes = pd.DataFrame(data={'Список регионов': regions_, 'Код региона': codes_})\r\n",
        "codes"
      ],
      "execution_count": null,
      "outputs": [
        {
          "output_type": "execute_result",
          "data": {
            "text/html": [
              "<div>\n",
              "<style scoped>\n",
              "    .dataframe tbody tr th:only-of-type {\n",
              "        vertical-align: middle;\n",
              "    }\n",
              "\n",
              "    .dataframe tbody tr th {\n",
              "        vertical-align: top;\n",
              "    }\n",
              "\n",
              "    .dataframe thead th {\n",
              "        text-align: right;\n",
              "    }\n",
              "</style>\n",
              "<table border=\"1\" class=\"dataframe\">\n",
              "  <thead>\n",
              "    <tr style=\"text-align: right;\">\n",
              "      <th></th>\n",
              "      <th>Список регионов</th>\n",
              "      <th>Код региона</th>\n",
              "    </tr>\n",
              "  </thead>\n",
              "  <tbody>\n",
              "    <tr>\n",
              "      <th>0</th>\n",
              "      <td>Республика Адыгея</td>\n",
              "      <td>1</td>\n",
              "    </tr>\n",
              "    <tr>\n",
              "      <th>1</th>\n",
              "      <td>Республика Башкортостан</td>\n",
              "      <td>2</td>\n",
              "    </tr>\n",
              "    <tr>\n",
              "      <th>2</th>\n",
              "      <td>Республика Башкортостан</td>\n",
              "      <td>102</td>\n",
              "    </tr>\n",
              "    <tr>\n",
              "      <th>3</th>\n",
              "      <td>Республика Бурятия</td>\n",
              "      <td>3</td>\n",
              "    </tr>\n",
              "    <tr>\n",
              "      <th>4</th>\n",
              "      <td>Республика Алтай</td>\n",
              "      <td>4</td>\n",
              "    </tr>\n",
              "    <tr>\n",
              "      <th>...</th>\n",
              "      <td>...</td>\n",
              "      <td>...</td>\n",
              "    </tr>\n",
              "    <tr>\n",
              "      <th>127</th>\n",
              "      <td>Чукотский автономный округ</td>\n",
              "      <td>87</td>\n",
              "    </tr>\n",
              "    <tr>\n",
              "      <th>128</th>\n",
              "      <td>Ямало-Ненецкий автономный округ</td>\n",
              "      <td>89</td>\n",
              "    </tr>\n",
              "    <tr>\n",
              "      <th>129</th>\n",
              "      <td>Севастополь</td>\n",
              "      <td>92</td>\n",
              "    </tr>\n",
              "    <tr>\n",
              "      <th>130</th>\n",
              "      <td>Байконур</td>\n",
              "      <td>94</td>\n",
              "    </tr>\n",
              "    <tr>\n",
              "      <th>131</th>\n",
              "      <td>Чеченская республика</td>\n",
              "      <td>95</td>\n",
              "    </tr>\n",
              "  </tbody>\n",
              "</table>\n",
              "<p>132 rows × 2 columns</p>\n",
              "</div>"
            ],
            "text/plain": [
              "                     Список регионов  Код региона\n",
              "0                  Республика Адыгея            1\n",
              "1            Республика Башкортостан            2\n",
              "2            Республика Башкортостан          102\n",
              "3                 Республика Бурятия            3\n",
              "4                   Республика Алтай            4\n",
              "..                               ...          ...\n",
              "127       Чукотский автономный округ           87\n",
              "128  Ямало-Ненецкий автономный округ           89\n",
              "129                      Севастополь           92\n",
              "130                         Байконур           94\n",
              "131             Чеченская республика           95\n",
              "\n",
              "[132 rows x 2 columns]"
            ]
          },
          "metadata": {
            "tags": []
          },
          "execution_count": 97
        }
      ]
    },
    {
      "cell_type": "code",
      "metadata": {
        "colab": {
          "base_uri": "https://localhost:8080/"
        },
        "id": "HM0go6jAwWl9",
        "outputId": "5c41f74a-bc53-4dc9-c1ee-1cb48d599586"
      },
      "source": [
        "# Проверяем наличие регионов\r\n",
        "set(inns_lens.inns) - set(codes['Код региона'])"
      ],
      "execution_count": null,
      "outputs": [
        {
          "output_type": "execute_result",
          "data": {
            "text/plain": [
              "{20}"
            ]
          },
          "metadata": {
            "tags": []
          },
          "execution_count": 106
        }
      ]
    },
    {
      "cell_type": "code",
      "metadata": {
        "id": "6MKjdJ62cCzC",
        "colab": {
          "base_uri": "https://localhost:8080/"
        },
        "outputId": "123e2846-46f7-4540-86a2-34eddc732a97"
      },
      "source": [
        "#Просмотр частоты значений \n",
        "train_data['okpd2_or_additional_code'].value_counts()"
      ],
      "execution_count": null,
      "outputs": [
        {
          "output_type": "execute_result",
          "data": {
            "text/plain": [
              "drug    65646\n",
              "32.5    36292\n",
              "71.1    17836\n",
              "20.5    15591\n",
              "26.2    14783\n",
              "        ...  \n",
              "07.2        1\n",
              "52          1\n",
              "78.0        1\n",
              "70.0        1\n",
              "88.1        1\n",
              "Name: okpd2_or_additional_code, Length: 657, dtype: int64"
            ]
          },
          "metadata": {
            "tags": []
          },
          "execution_count": 13
        }
      ]
    },
    {
      "cell_type": "markdown",
      "metadata": {
        "id": "fNx-n5IqcCzD"
      },
      "source": [
        "#### Формирование описания тендера"
      ]
    },
    {
      "cell_type": "code",
      "metadata": {
        "id": "xX-vpfLGcCzD"
      },
      "source": [
        "train_data['text_description_tender'] = train_data['purchase_name'] + \" \" + train_data['lot_name'] + \" \" + train_data['okpd2_names'] + \" \" + train_data['additional_code_names'] + \" \" + train_data['item_descriptions']"
      ],
      "execution_count": null,
      "outputs": []
    },
    {
      "cell_type": "code",
      "metadata": {
        "id": "-1vTEKf9cCzD",
        "colab": {
          "base_uri": "https://localhost:8080/",
          "height": 315
        },
        "outputId": "ee0489ac-3fa2-43de-caa6-85b76859d80e"
      },
      "source": [
        "train_data.head(3)"
      ],
      "execution_count": null,
      "outputs": [
        {
          "output_type": "execute_result",
          "data": {
            "text/html": [
              "<div>\n",
              "<style scoped>\n",
              "    .dataframe tbody tr th:only-of-type {\n",
              "        vertical-align: middle;\n",
              "    }\n",
              "\n",
              "    .dataframe tbody tr th {\n",
              "        vertical-align: top;\n",
              "    }\n",
              "\n",
              "    .dataframe thead th {\n",
              "        text-align: right;\n",
              "    }\n",
              "</style>\n",
              "<table border=\"1\" class=\"dataframe\">\n",
              "  <thead>\n",
              "    <tr style=\"text-align: right;\">\n",
              "      <th></th>\n",
              "      <th>pn_lot_anon</th>\n",
              "      <th>fz</th>\n",
              "      <th>region_code</th>\n",
              "      <th>min_publish_date</th>\n",
              "      <th>purchase_name</th>\n",
              "      <th>lot_name</th>\n",
              "      <th>lot_price</th>\n",
              "      <th>okpd2_code</th>\n",
              "      <th>okpd2_names</th>\n",
              "      <th>additional_code</th>\n",
              "      <th>additional_code_names</th>\n",
              "      <th>item_descriptions</th>\n",
              "      <th>okpd2_or_additional_code</th>\n",
              "      <th>text_description_tender</th>\n",
              "    </tr>\n",
              "  </thead>\n",
              "  <tbody>\n",
              "    <tr>\n",
              "      <th>0</th>\n",
              "      <td>pn_lot_7031618</td>\n",
              "      <td>44fz</td>\n",
              "      <td>2</td>\n",
              "      <td>2019-08-26</td>\n",
              "      <td>Услуги по проведению финансового аудита</td>\n",
              "      <td>None</td>\n",
              "      <td>123500.0</td>\n",
              "      <td>69.2</td>\n",
              "      <td>Услуги по проведению финансового аудита</td>\n",
              "      <td>None</td>\n",
              "      <td>None</td>\n",
              "      <td>Услуги по проведению финансового аудита</td>\n",
              "      <td>69.2</td>\n",
              "      <td>Услуги по проведению финансового аудита None У...</td>\n",
              "    </tr>\n",
              "    <tr>\n",
              "      <th>1</th>\n",
              "      <td>pn_lot_7808247</td>\n",
              "      <td>44fz</td>\n",
              "      <td>2</td>\n",
              "      <td>2019-03-12</td>\n",
              "      <td>Приобретение призов для проведения конкурса по...</td>\n",
              "      <td>None</td>\n",
              "      <td>144000.0</td>\n",
              "      <td>26.4</td>\n",
              "      <td>Телефоны головные, наушники и комбинированные ...</td>\n",
              "      <td>None</td>\n",
              "      <td>None</td>\n",
              "      <td>Телефоны головные, наушники и комбинированные ...</td>\n",
              "      <td>26.4</td>\n",
              "      <td>Приобретение призов для проведения конкурса по...</td>\n",
              "    </tr>\n",
              "    <tr>\n",
              "      <th>2</th>\n",
              "      <td>pn_lot_7009496</td>\n",
              "      <td>44fz</td>\n",
              "      <td>2</td>\n",
              "      <td>2019-03-14</td>\n",
              "      <td>приобретение призов для проведения мероприятия...</td>\n",
              "      <td>None</td>\n",
              "      <td>124200.0</td>\n",
              "      <td>26.2</td>\n",
              "      <td>Устройства запоминающие внешние</td>\n",
              "      <td>None</td>\n",
              "      <td>None</td>\n",
              "      <td>Устройства запоминающие внешние</td>\n",
              "      <td>26.2</td>\n",
              "      <td>приобретение призов для проведения мероприятия...</td>\n",
              "    </tr>\n",
              "  </tbody>\n",
              "</table>\n",
              "</div>"
            ],
            "text/plain": [
              "      pn_lot_anon  ...                            text_description_tender\n",
              "0  pn_lot_7031618  ...  Услуги по проведению финансового аудита None У...\n",
              "1  pn_lot_7808247  ...  Приобретение призов для проведения конкурса по...\n",
              "2  pn_lot_7009496  ...  приобретение призов для проведения мероприятия...\n",
              "\n",
              "[3 rows x 14 columns]"
            ]
          },
          "metadata": {
            "tags": []
          },
          "execution_count": 15
        }
      ]
    },
    {
      "cell_type": "markdown",
      "metadata": {
        "id": "J3bwDsyJcCzE"
      },
      "source": [
        "#### Работа с историей участий поставщика"
      ]
    },
    {
      "cell_type": "code",
      "metadata": {
        "id": "-OLn3ElacCzE"
      },
      "source": [
        "inn_kpp_history = pd.merge(train_labels, train_data[['pn_lot_anon','region_code', 'okpd2_or_additional_code']], on=['pn_lot_anon'])"
      ],
      "execution_count": null,
      "outputs": []
    },
    {
      "cell_type": "code",
      "metadata": {
        "id": "JpVOs90ccCzE",
        "colab": {
          "base_uri": "https://localhost:8080/",
          "height": 272
        },
        "outputId": "07a7e959-4f1a-417c-f469-70aa146310ee"
      },
      "source": [
        "inn_kpp_history.head()"
      ],
      "execution_count": null,
      "outputs": [
        {
          "output_type": "execute_result",
          "data": {
            "text/html": [
              "<div>\n",
              "<style scoped>\n",
              "    .dataframe tbody tr th:only-of-type {\n",
              "        vertical-align: middle;\n",
              "    }\n",
              "\n",
              "    .dataframe tbody tr th {\n",
              "        vertical-align: top;\n",
              "    }\n",
              "\n",
              "    .dataframe thead th {\n",
              "        text-align: right;\n",
              "    }\n",
              "</style>\n",
              "<table border=\"1\" class=\"dataframe\">\n",
              "  <thead>\n",
              "    <tr style=\"text-align: right;\">\n",
              "      <th></th>\n",
              "      <th>index</th>\n",
              "      <th>participant_pn_lot_anon</th>\n",
              "      <th>list_participant_inn_kpp_anon</th>\n",
              "      <th>list_is_winner</th>\n",
              "      <th>list_fz</th>\n",
              "      <th>list_region_code</th>\n",
              "      <th>list_okpd2_or_additional_code</th>\n",
              "    </tr>\n",
              "  </thead>\n",
              "  <tbody>\n",
              "    <tr>\n",
              "      <th>0</th>\n",
              "      <td>0</td>\n",
              "      <td>inn_kpp_1000018</td>\n",
              "      <td>[pn_lot_5330449, pn_lot_648665, pn_lot_81155, ...</td>\n",
              "      <td>[0, 0, 0, 1, 1, 1, 1, 1, 0, 0, 0, 1, 1, 1, 1, ...</td>\n",
              "      <td>[44fz, 44fz, 44fz, 44fz, 44fz, 44fz, 44fz, 44f...</td>\n",
              "      <td>[64, 50, 50, 77, 50, 64, 77, 77, 77, 77, 50, 7...</td>\n",
              "      <td>[58.2, 26.2, 26.4, 26.3, 26.2, 58.2, 26.2, 27....</td>\n",
              "    </tr>\n",
              "    <tr>\n",
              "      <th>1</th>\n",
              "      <td>1</td>\n",
              "      <td>inn_kpp_1001268</td>\n",
              "      <td>[pn_lot_7608031, pn_lot_9976372, pn_lot_671651...</td>\n",
              "      <td>[1, 1, 1, 1, 0, 0, 1, 0, 1, 1, 1, 1, 1, 0, 1, ...</td>\n",
              "      <td>[44fz, 44fz, 44fz, 44fz, 44fz, 44fz, 44fz, 44f...</td>\n",
              "      <td>[77, 79, 79, 79, 79, 27, 79, 79, 79, 79, 79, 7...</td>\n",
              "      <td>[86.9, 86.1, 86.2, 86.9, 86.9, 86.9, 86.9, 86....</td>\n",
              "    </tr>\n",
              "    <tr>\n",
              "      <th>2</th>\n",
              "      <td>2</td>\n",
              "      <td>inn_kpp_1002518</td>\n",
              "      <td>[pn_lot_5287076, pn_lot_7474816, pn_lot_121000...</td>\n",
              "      <td>[0, 0, 1, 1, 0, 0, 1, 1, 1, 0, 0, 1, 0, 0, 0, ...</td>\n",
              "      <td>[44fz, 44fz, 44fz, 44fz, 44fz, 44fz, 44fz, 44f...</td>\n",
              "      <td>[41, 27, 82, 65, 65, 65, 41, 41, 41, 41, 82, 4...</td>\n",
              "      <td>[30.3, 27.1, 27.1, 25.1, 30.9, 29.2, 25.9, 25....</td>\n",
              "    </tr>\n",
              "    <tr>\n",
              "      <th>3</th>\n",
              "      <td>3</td>\n",
              "      <td>inn_kpp_1003261</td>\n",
              "      <td>[pn_lot_2647783]</td>\n",
              "      <td>[1]</td>\n",
              "      <td>[223fz]</td>\n",
              "      <td>[54]</td>\n",
              "      <td>[28.2]</td>\n",
              "    </tr>\n",
              "    <tr>\n",
              "      <th>4</th>\n",
              "      <td>4</td>\n",
              "      <td>inn_kpp_1003291</td>\n",
              "      <td>[pn_lot_7794721, pn_lot_4767800, pn_lot_915979...</td>\n",
              "      <td>[0, 1, 1, 1, 1, 1, 1, 1, 1, 1, 1, 1, 1, 1, 0, ...</td>\n",
              "      <td>[44fz, 44fz, 44fz, 44fz, 44fz, 44fz, 44fz, 44f...</td>\n",
              "      <td>[50, 12, 50, 50, 51, 69, 11, 12, 11, 12, 12, 1...</td>\n",
              "      <td>[32.5, 32.5, 32.5, 32.5, 32.5, 32.5, 32.5, 21....</td>\n",
              "    </tr>\n",
              "  </tbody>\n",
              "</table>\n",
              "</div>"
            ],
            "text/plain": [
              "   index  ...                      list_okpd2_or_additional_code\n",
              "0      0  ...  [58.2, 26.2, 26.4, 26.3, 26.2, 58.2, 26.2, 27....\n",
              "1      1  ...  [86.9, 86.1, 86.2, 86.9, 86.9, 86.9, 86.9, 86....\n",
              "2      2  ...  [30.3, 27.1, 27.1, 25.1, 30.9, 29.2, 25.9, 25....\n",
              "3      3  ...                                             [28.2]\n",
              "4      4  ...  [32.5, 32.5, 32.5, 32.5, 32.5, 32.5, 32.5, 21....\n",
              "\n",
              "[5 rows x 7 columns]"
            ]
          },
          "metadata": {
            "tags": []
          },
          "execution_count": 27
        }
      ]
    },
    {
      "cell_type": "code",
      "metadata": {
        "id": "MqMO3dDicCzF"
      },
      "source": [
        "# группировка по поставщику \n",
        "inn_kpp_history = inn_kpp_history.groupby('participant_inn_kpp_anon').apply(lambda x: [\n",
        "    list(x['pn_lot_anon']),\n",
        "    list(x['is_winner']), \n",
        "    list(x['fz']), \n",
        "    list(x['region_code']), \n",
        "    list(x['okpd2_or_additional_code'])]).apply(pd.Series)"
      ],
      "execution_count": null,
      "outputs": []
    },
    {
      "cell_type": "code",
      "metadata": {
        "id": "KNlpn1lFcCzF",
        "colab": {
          "base_uri": "https://localhost:8080/",
          "height": 374
        },
        "outputId": "a2de7fe9-6104-442a-f82e-5e2a5b7973ef"
      },
      "source": [
        "inn_kpp_history = inn_kpp_history.reset_index()\n",
        "inn_kpp_history.columns = ['participant_pn_lot_anon', 'list_participant_inn_kpp_anon',\n",
        "                           'list_is_winner', 'list_fz', 'list_region_code',\n",
        "                           'list_okpd2_or_additional_code']"
      ],
      "execution_count": null,
      "outputs": [
        {
          "output_type": "error",
          "ename": "ValueError",
          "evalue": "ignored",
          "traceback": [
            "\u001b[0;31m---------------------------------------------------------------------------\u001b[0m",
            "\u001b[0;31mValueError\u001b[0m                                Traceback (most recent call last)",
            "\u001b[0;32m<ipython-input-18-dca519ea0f3e>\u001b[0m in \u001b[0;36m<module>\u001b[0;34m()\u001b[0m\n\u001b[1;32m      2\u001b[0m inn_kpp_history.columns = ['participant_pn_lot_anon', 'list_participant_inn_kpp_anon',\n\u001b[1;32m      3\u001b[0m                            \u001b[0;34m'list_is_winner'\u001b[0m\u001b[0;34m,\u001b[0m \u001b[0;34m'list_fz'\u001b[0m\u001b[0;34m,\u001b[0m \u001b[0;34m'list_region_code'\u001b[0m\u001b[0;34m,\u001b[0m\u001b[0;34m\u001b[0m\u001b[0;34m\u001b[0m\u001b[0m\n\u001b[0;32m----> 4\u001b[0;31m                            'list_okpd2_or_additional_code']\n\u001b[0m",
            "\u001b[0;32m/usr/local/lib/python3.6/dist-packages/pandas/core/generic.py\u001b[0m in \u001b[0;36m__setattr__\u001b[0;34m(self, name, value)\u001b[0m\n\u001b[1;32m   5152\u001b[0m         \u001b[0;32mtry\u001b[0m\u001b[0;34m:\u001b[0m\u001b[0;34m\u001b[0m\u001b[0;34m\u001b[0m\u001b[0m\n\u001b[1;32m   5153\u001b[0m             \u001b[0mobject\u001b[0m\u001b[0;34m.\u001b[0m\u001b[0m__getattribute__\u001b[0m\u001b[0;34m(\u001b[0m\u001b[0mself\u001b[0m\u001b[0;34m,\u001b[0m \u001b[0mname\u001b[0m\u001b[0;34m)\u001b[0m\u001b[0;34m\u001b[0m\u001b[0;34m\u001b[0m\u001b[0m\n\u001b[0;32m-> 5154\u001b[0;31m             \u001b[0;32mreturn\u001b[0m \u001b[0mobject\u001b[0m\u001b[0;34m.\u001b[0m\u001b[0m__setattr__\u001b[0m\u001b[0;34m(\u001b[0m\u001b[0mself\u001b[0m\u001b[0;34m,\u001b[0m \u001b[0mname\u001b[0m\u001b[0;34m,\u001b[0m \u001b[0mvalue\u001b[0m\u001b[0;34m)\u001b[0m\u001b[0;34m\u001b[0m\u001b[0;34m\u001b[0m\u001b[0m\n\u001b[0m\u001b[1;32m   5155\u001b[0m         \u001b[0;32mexcept\u001b[0m \u001b[0mAttributeError\u001b[0m\u001b[0;34m:\u001b[0m\u001b[0;34m\u001b[0m\u001b[0;34m\u001b[0m\u001b[0m\n\u001b[1;32m   5156\u001b[0m             \u001b[0;32mpass\u001b[0m\u001b[0;34m\u001b[0m\u001b[0;34m\u001b[0m\u001b[0m\n",
            "\u001b[0;32mpandas/_libs/properties.pyx\u001b[0m in \u001b[0;36mpandas._libs.properties.AxisProperty.__set__\u001b[0;34m()\u001b[0m\n",
            "\u001b[0;32m/usr/local/lib/python3.6/dist-packages/pandas/core/generic.py\u001b[0m in \u001b[0;36m_set_axis\u001b[0;34m(self, axis, labels)\u001b[0m\n\u001b[1;32m    562\u001b[0m     \u001b[0;32mdef\u001b[0m \u001b[0m_set_axis\u001b[0m\u001b[0;34m(\u001b[0m\u001b[0mself\u001b[0m\u001b[0;34m,\u001b[0m \u001b[0maxis\u001b[0m\u001b[0;34m:\u001b[0m \u001b[0mint\u001b[0m\u001b[0;34m,\u001b[0m \u001b[0mlabels\u001b[0m\u001b[0;34m:\u001b[0m \u001b[0mIndex\u001b[0m\u001b[0;34m)\u001b[0m \u001b[0;34m->\u001b[0m \u001b[0;32mNone\u001b[0m\u001b[0;34m:\u001b[0m\u001b[0;34m\u001b[0m\u001b[0;34m\u001b[0m\u001b[0m\n\u001b[1;32m    563\u001b[0m         \u001b[0mlabels\u001b[0m \u001b[0;34m=\u001b[0m \u001b[0mensure_index\u001b[0m\u001b[0;34m(\u001b[0m\u001b[0mlabels\u001b[0m\u001b[0;34m)\u001b[0m\u001b[0;34m\u001b[0m\u001b[0;34m\u001b[0m\u001b[0m\n\u001b[0;32m--> 564\u001b[0;31m         \u001b[0mself\u001b[0m\u001b[0;34m.\u001b[0m\u001b[0m_mgr\u001b[0m\u001b[0;34m.\u001b[0m\u001b[0mset_axis\u001b[0m\u001b[0;34m(\u001b[0m\u001b[0maxis\u001b[0m\u001b[0;34m,\u001b[0m \u001b[0mlabels\u001b[0m\u001b[0;34m)\u001b[0m\u001b[0;34m\u001b[0m\u001b[0;34m\u001b[0m\u001b[0m\n\u001b[0m\u001b[1;32m    565\u001b[0m         \u001b[0mself\u001b[0m\u001b[0;34m.\u001b[0m\u001b[0m_clear_item_cache\u001b[0m\u001b[0;34m(\u001b[0m\u001b[0;34m)\u001b[0m\u001b[0;34m\u001b[0m\u001b[0;34m\u001b[0m\u001b[0m\n\u001b[1;32m    566\u001b[0m \u001b[0;34m\u001b[0m\u001b[0m\n",
            "\u001b[0;32m/usr/local/lib/python3.6/dist-packages/pandas/core/internals/managers.py\u001b[0m in \u001b[0;36mset_axis\u001b[0;34m(self, axis, new_labels)\u001b[0m\n\u001b[1;32m    225\u001b[0m         \u001b[0;32mif\u001b[0m \u001b[0mnew_len\u001b[0m \u001b[0;34m!=\u001b[0m \u001b[0mold_len\u001b[0m\u001b[0;34m:\u001b[0m\u001b[0;34m\u001b[0m\u001b[0;34m\u001b[0m\u001b[0m\n\u001b[1;32m    226\u001b[0m             raise ValueError(\n\u001b[0;32m--> 227\u001b[0;31m                 \u001b[0;34mf\"Length mismatch: Expected axis has {old_len} elements, new \"\u001b[0m\u001b[0;34m\u001b[0m\u001b[0;34m\u001b[0m\u001b[0m\n\u001b[0m\u001b[1;32m    228\u001b[0m                 \u001b[0;34mf\"values have {new_len} elements\"\u001b[0m\u001b[0;34m\u001b[0m\u001b[0;34m\u001b[0m\u001b[0m\n\u001b[1;32m    229\u001b[0m             )\n",
            "\u001b[0;31mValueError\u001b[0m: Length mismatch: Expected axis has 7 elements, new values have 6 elements"
          ]
        }
      ]
    },
    {
      "cell_type": "code",
      "metadata": {
        "id": "TQIvEomZcCzF",
        "colab": {
          "base_uri": "https://localhost:8080/",
          "height": 479
        },
        "outputId": "7f37d3c8-3203-4f05-e35d-968e6a8e7cbf"
      },
      "source": [
        "train_data.head()"
      ],
      "execution_count": null,
      "outputs": [
        {
          "output_type": "execute_result",
          "data": {
            "text/html": [
              "<div>\n",
              "<style scoped>\n",
              "    .dataframe tbody tr th:only-of-type {\n",
              "        vertical-align: middle;\n",
              "    }\n",
              "\n",
              "    .dataframe tbody tr th {\n",
              "        vertical-align: top;\n",
              "    }\n",
              "\n",
              "    .dataframe thead th {\n",
              "        text-align: right;\n",
              "    }\n",
              "</style>\n",
              "<table border=\"1\" class=\"dataframe\">\n",
              "  <thead>\n",
              "    <tr style=\"text-align: right;\">\n",
              "      <th></th>\n",
              "      <th>pn_lot_anon</th>\n",
              "      <th>fz</th>\n",
              "      <th>region_code</th>\n",
              "      <th>min_publish_date</th>\n",
              "      <th>purchase_name</th>\n",
              "      <th>lot_name</th>\n",
              "      <th>lot_price</th>\n",
              "      <th>okpd2_code</th>\n",
              "      <th>okpd2_names</th>\n",
              "      <th>additional_code</th>\n",
              "      <th>additional_code_names</th>\n",
              "      <th>item_descriptions</th>\n",
              "      <th>okpd2_or_additional_code</th>\n",
              "    </tr>\n",
              "  </thead>\n",
              "  <tbody>\n",
              "    <tr>\n",
              "      <th>0</th>\n",
              "      <td>pn_lot_7031618</td>\n",
              "      <td>44fz</td>\n",
              "      <td>2</td>\n",
              "      <td>2019-08-26</td>\n",
              "      <td>Услуги по проведению финансового аудита</td>\n",
              "      <td>None</td>\n",
              "      <td>123500.0</td>\n",
              "      <td>69.2</td>\n",
              "      <td>Услуги по проведению финансового аудита</td>\n",
              "      <td>None</td>\n",
              "      <td>None</td>\n",
              "      <td>Услуги по проведению финансового аудита</td>\n",
              "      <td>69.2</td>\n",
              "    </tr>\n",
              "    <tr>\n",
              "      <th>1</th>\n",
              "      <td>pn_lot_7808247</td>\n",
              "      <td>44fz</td>\n",
              "      <td>2</td>\n",
              "      <td>2019-03-12</td>\n",
              "      <td>Приобретение призов для проведения конкурса по...</td>\n",
              "      <td>None</td>\n",
              "      <td>144000.0</td>\n",
              "      <td>26.4</td>\n",
              "      <td>Телефоны головные, наушники и комбинированные ...</td>\n",
              "      <td>None</td>\n",
              "      <td>None</td>\n",
              "      <td>Телефоны головные, наушники и комбинированные ...</td>\n",
              "      <td>26.4</td>\n",
              "    </tr>\n",
              "    <tr>\n",
              "      <th>2</th>\n",
              "      <td>pn_lot_7009496</td>\n",
              "      <td>44fz</td>\n",
              "      <td>2</td>\n",
              "      <td>2019-03-14</td>\n",
              "      <td>приобретение призов для проведения мероприятия...</td>\n",
              "      <td>None</td>\n",
              "      <td>124200.0</td>\n",
              "      <td>26.2</td>\n",
              "      <td>Устройства запоминающие внешние</td>\n",
              "      <td>None</td>\n",
              "      <td>None</td>\n",
              "      <td>Устройства запоминающие внешние</td>\n",
              "      <td>26.2</td>\n",
              "    </tr>\n",
              "    <tr>\n",
              "      <th>3</th>\n",
              "      <td>pn_lot_5938735</td>\n",
              "      <td>44fz</td>\n",
              "      <td>2</td>\n",
              "      <td>2019-03-14</td>\n",
              "      <td>Продление лицензии на 1С -Битрикс Управление с...</td>\n",
              "      <td>None</td>\n",
              "      <td>50000.0</td>\n",
              "      <td>46.5</td>\n",
              "      <td>Услуги по оптовой торговле программным обеспеч...</td>\n",
              "      <td>None</td>\n",
              "      <td>None</td>\n",
              "      <td>Продление лицензии на 1С -Битрикс Управление с...</td>\n",
              "      <td>46.5</td>\n",
              "    </tr>\n",
              "    <tr>\n",
              "      <th>4</th>\n",
              "      <td>pn_lot_9327348</td>\n",
              "      <td>44fz</td>\n",
              "      <td>2</td>\n",
              "      <td>2019-06-26</td>\n",
              "      <td>Приобретение компьютерной техники</td>\n",
              "      <td>None</td>\n",
              "      <td>493441.0</td>\n",
              "      <td>26.2</td>\n",
              "      <td>Машины вычислительные электронные цифровые про...</td>\n",
              "      <td>None</td>\n",
              "      <td>None</td>\n",
              "      <td>монитор || системные блоки системный блок</td>\n",
              "      <td>26.2</td>\n",
              "    </tr>\n",
              "  </tbody>\n",
              "</table>\n",
              "</div>"
            ],
            "text/plain": [
              "      pn_lot_anon  ... okpd2_or_additional_code\n",
              "0  pn_lot_7031618  ...                     69.2\n",
              "1  pn_lot_7808247  ...                     26.4\n",
              "2  pn_lot_7009496  ...                     26.2\n",
              "3  pn_lot_5938735  ...                     46.5\n",
              "4  pn_lot_9327348  ...                     26.2\n",
              "\n",
              "[5 rows x 13 columns]"
            ]
          },
          "metadata": {
            "tags": []
          },
          "execution_count": 26
        }
      ]
    },
    {
      "cell_type": "code",
      "metadata": {
        "id": "t2hQ4gbF7oIr"
      },
      "source": [
        ""
      ],
      "execution_count": null,
      "outputs": []
    },
    {
      "cell_type": "code",
      "metadata": {
        "id": "P9xaemXV7nL7"
      },
      "source": [
        ""
      ],
      "execution_count": null,
      "outputs": []
    },
    {
      "cell_type": "markdown",
      "metadata": {
        "id": "Ug7FxDgecCzG"
      },
      "source": [
        "#### Рекомендательная система"
      ]
    },
    {
      "cell_type": "markdown",
      "metadata": {
        "id": "VtYs5zWzcCzG"
      },
      "source": [
        "Выбирается 35 случайный процедур из подвыборки с совпадением региона и ОКПД2 кода актуальной процедуры с регионами и ОКПД2 кодами из истории участия поставщика"
      ]
    },
    {
      "cell_type": "code",
      "metadata": {
        "scrolled": true,
        "id": "KLc6J-fRcCzG",
        "colab": {
          "base_uri": "https://localhost:8080/",
          "height": 66,
          "referenced_widgets": [
            "afeb49dfe53341e0a5c744007fe345fe",
            "5013e94c70c84926af23ccde656ac577",
            "fe85a611fa45410fba9fe07e6a9f8832",
            "b057432bc36d49f5b2e0506539f523d6",
            "b084e78510c54b929114e20e26ccbdcf",
            "23803cb90ee147c099909e9352091998",
            "04ce339b92ee4bfe92eae23d8a9c3314",
            "ef36373008ca4421927cd2b9fc366ecb"
          ]
        },
        "outputId": "891dbea8-17be-4ba3-dceb-3b484097e119"
      },
      "source": [
        "inn_kpp_recommendation = []\n",
        "similarity_score = 1\n",
        "for inn_kpp in tqdm_notebook(inn_kpp_history.values):\n",
        "    participant_inn_kpp_anon, list_participant_inn_kpp_anon, list_is_winner, list_fz, list_region_code, list_okpd2_or_additional_code = inn_kpp\n",
        "    #подвыборка с совпадением региона и ОКПД2 кода актуальной с историей поставщика\n",
        "    recommendation = test_data[test_data['region_code'].isin(list_region_code) & test_data['okpd2_or_additional_code'].isin(list_okpd2_or_additional_code)]\n",
        "    if recommendation.shape[0] >= 35:\n",
        "        #выбор 35 случайных актуальных процедур из подвыборки\n",
        "        recommendation = recommendation.sample(35)['pn_lot_anon'].values\n",
        "        for actual_pn_lot in recommendation:\n",
        "            inn_kpp_recommendation.append([participant_inn_kpp_anon, actual_pn_lot, similarity_score])"
      ],
      "execution_count": null,
      "outputs": [
        {
          "output_type": "display_data",
          "data": {
            "application/vnd.jupyter.widget-view+json": {
              "model_id": "afeb49dfe53341e0a5c744007fe345fe",
              "version_minor": 0,
              "version_major": 2
            },
            "text/plain": [
              "HBox(children=(FloatProgress(value=0.0, max=16499.0), HTML(value='')))"
            ]
          },
          "metadata": {
            "tags": []
          }
        },
        {
          "output_type": "stream",
          "text": [
            "\n"
          ],
          "name": "stdout"
        }
      ]
    },
    {
      "cell_type": "markdown",
      "metadata": {
        "id": "E_sO-suYcCzH"
      },
      "source": [
        "#### Пример формирования файла рекомендаций"
      ]
    },
    {
      "cell_type": "code",
      "metadata": {
        "id": "oao0ZACxcCzH"
      },
      "source": [
        "recommendation = pd.DataFrame(inn_kpp_recommendation, columns=['inn_kpp', 'actual_recommended_pn_lot', 'similarity_score'])\n",
        "recommendation.to_csv(\"team_name.csv\", index=False, sep=';')"
      ],
      "execution_count": null,
      "outputs": []
    },
    {
      "cell_type": "code",
      "metadata": {
        "id": "qZPNbeqzcCzH",
        "colab": {
          "base_uri": "https://localhost:8080/",
          "height": 419
        },
        "outputId": "69c9023c-808d-43f2-a4e1-c313a30e99cd"
      },
      "source": [
        "recommendation"
      ],
      "execution_count": null,
      "outputs": [
        {
          "output_type": "execute_result",
          "data": {
            "text/html": [
              "<div>\n",
              "<style scoped>\n",
              "    .dataframe tbody tr th:only-of-type {\n",
              "        vertical-align: middle;\n",
              "    }\n",
              "\n",
              "    .dataframe tbody tr th {\n",
              "        vertical-align: top;\n",
              "    }\n",
              "\n",
              "    .dataframe thead th {\n",
              "        text-align: right;\n",
              "    }\n",
              "</style>\n",
              "<table border=\"1\" class=\"dataframe\">\n",
              "  <thead>\n",
              "    <tr style=\"text-align: right;\">\n",
              "      <th></th>\n",
              "      <th>inn_kpp</th>\n",
              "      <th>actual_recommended_pn_lot</th>\n",
              "      <th>similarity_score</th>\n",
              "    </tr>\n",
              "  </thead>\n",
              "  <tbody>\n",
              "    <tr>\n",
              "      <th>0</th>\n",
              "      <td>inn_kpp_1000018</td>\n",
              "      <td>pn_lot_8232437</td>\n",
              "      <td>1</td>\n",
              "    </tr>\n",
              "    <tr>\n",
              "      <th>1</th>\n",
              "      <td>inn_kpp_1000018</td>\n",
              "      <td>pn_lot_8852817</td>\n",
              "      <td>1</td>\n",
              "    </tr>\n",
              "    <tr>\n",
              "      <th>2</th>\n",
              "      <td>inn_kpp_1000018</td>\n",
              "      <td>pn_lot_4991778</td>\n",
              "      <td>1</td>\n",
              "    </tr>\n",
              "    <tr>\n",
              "      <th>3</th>\n",
              "      <td>inn_kpp_1000018</td>\n",
              "      <td>pn_lot_2862283</td>\n",
              "      <td>1</td>\n",
              "    </tr>\n",
              "    <tr>\n",
              "      <th>4</th>\n",
              "      <td>inn_kpp_1000018</td>\n",
              "      <td>pn_lot_2023583</td>\n",
              "      <td>1</td>\n",
              "    </tr>\n",
              "    <tr>\n",
              "      <th>...</th>\n",
              "      <td>...</td>\n",
              "      <td>...</td>\n",
              "      <td>...</td>\n",
              "    </tr>\n",
              "    <tr>\n",
              "      <th>452020</th>\n",
              "      <td>inn_kpp_9999743</td>\n",
              "      <td>pn_lot_9276412</td>\n",
              "      <td>1</td>\n",
              "    </tr>\n",
              "    <tr>\n",
              "      <th>452021</th>\n",
              "      <td>inn_kpp_9999743</td>\n",
              "      <td>pn_lot_9074220</td>\n",
              "      <td>1</td>\n",
              "    </tr>\n",
              "    <tr>\n",
              "      <th>452022</th>\n",
              "      <td>inn_kpp_9999743</td>\n",
              "      <td>pn_lot_1038393</td>\n",
              "      <td>1</td>\n",
              "    </tr>\n",
              "    <tr>\n",
              "      <th>452023</th>\n",
              "      <td>inn_kpp_9999743</td>\n",
              "      <td>pn_lot_2211140</td>\n",
              "      <td>1</td>\n",
              "    </tr>\n",
              "    <tr>\n",
              "      <th>452024</th>\n",
              "      <td>inn_kpp_9999743</td>\n",
              "      <td>pn_lot_9630552</td>\n",
              "      <td>1</td>\n",
              "    </tr>\n",
              "  </tbody>\n",
              "</table>\n",
              "<p>452025 rows × 3 columns</p>\n",
              "</div>"
            ],
            "text/plain": [
              "                inn_kpp actual_recommended_pn_lot  similarity_score\n",
              "0       inn_kpp_1000018            pn_lot_8232437                 1\n",
              "1       inn_kpp_1000018            pn_lot_8852817                 1\n",
              "2       inn_kpp_1000018            pn_lot_4991778                 1\n",
              "3       inn_kpp_1000018            pn_lot_2862283                 1\n",
              "4       inn_kpp_1000018            pn_lot_2023583                 1\n",
              "...                 ...                       ...               ...\n",
              "452020  inn_kpp_9999743            pn_lot_9276412                 1\n",
              "452021  inn_kpp_9999743            pn_lot_9074220                 1\n",
              "452022  inn_kpp_9999743            pn_lot_1038393                 1\n",
              "452023  inn_kpp_9999743            pn_lot_2211140                 1\n",
              "452024  inn_kpp_9999743            pn_lot_9630552                 1\n",
              "\n",
              "[452025 rows x 3 columns]"
            ]
          },
          "metadata": {
            "tags": []
          },
          "execution_count": 37
        }
      ]
    },
    {
      "cell_type": "markdown",
      "metadata": {
        "id": "BntqAyqVcCzH"
      },
      "source": [
        "# Подсчёт метрик"
      ]
    },
    {
      "cell_type": "code",
      "metadata": {
        "id": "NGoTs-epcCzI",
        "colab": {
          "base_uri": "https://localhost:8080/",
          "height": 374
        },
        "outputId": "09728851-914a-4100-9a46-0d3bc57ba8c5"
      },
      "source": [
        "test_labels = pd.read_csv(\"ваша тестирующая выборка\", sep=';')"
      ],
      "execution_count": null,
      "outputs": [
        {
          "output_type": "error",
          "ename": "FileNotFoundError",
          "evalue": "ignored",
          "traceback": [
            "\u001b[0;31m---------------------------------------------------------------------------\u001b[0m",
            "\u001b[0;31mFileNotFoundError\u001b[0m                         Traceback (most recent call last)",
            "\u001b[0;32m<ipython-input-35-24eb9fda6084>\u001b[0m in \u001b[0;36m<module>\u001b[0;34m()\u001b[0m\n\u001b[0;32m----> 1\u001b[0;31m \u001b[0mtest_labels\u001b[0m \u001b[0;34m=\u001b[0m \u001b[0mpd\u001b[0m\u001b[0;34m.\u001b[0m\u001b[0mread_csv\u001b[0m\u001b[0;34m(\u001b[0m\u001b[0;34m\"ваша тестирующая выборка\"\u001b[0m\u001b[0;34m,\u001b[0m \u001b[0msep\u001b[0m\u001b[0;34m=\u001b[0m\u001b[0;34m';'\u001b[0m\u001b[0;34m)\u001b[0m\u001b[0;34m\u001b[0m\u001b[0;34m\u001b[0m\u001b[0m\n\u001b[0m",
            "\u001b[0;32m/usr/local/lib/python3.6/dist-packages/pandas/io/parsers.py\u001b[0m in \u001b[0;36mread_csv\u001b[0;34m(filepath_or_buffer, sep, delimiter, header, names, index_col, usecols, squeeze, prefix, mangle_dupe_cols, dtype, engine, converters, true_values, false_values, skipinitialspace, skiprows, skipfooter, nrows, na_values, keep_default_na, na_filter, verbose, skip_blank_lines, parse_dates, infer_datetime_format, keep_date_col, date_parser, dayfirst, cache_dates, iterator, chunksize, compression, thousands, decimal, lineterminator, quotechar, quoting, doublequote, escapechar, comment, encoding, dialect, error_bad_lines, warn_bad_lines, delim_whitespace, low_memory, memory_map, float_precision)\u001b[0m\n\u001b[1;32m    686\u001b[0m     )\n\u001b[1;32m    687\u001b[0m \u001b[0;34m\u001b[0m\u001b[0m\n\u001b[0;32m--> 688\u001b[0;31m     \u001b[0;32mreturn\u001b[0m \u001b[0m_read\u001b[0m\u001b[0;34m(\u001b[0m\u001b[0mfilepath_or_buffer\u001b[0m\u001b[0;34m,\u001b[0m \u001b[0mkwds\u001b[0m\u001b[0;34m)\u001b[0m\u001b[0;34m\u001b[0m\u001b[0;34m\u001b[0m\u001b[0m\n\u001b[0m\u001b[1;32m    689\u001b[0m \u001b[0;34m\u001b[0m\u001b[0m\n\u001b[1;32m    690\u001b[0m \u001b[0;34m\u001b[0m\u001b[0m\n",
            "\u001b[0;32m/usr/local/lib/python3.6/dist-packages/pandas/io/parsers.py\u001b[0m in \u001b[0;36m_read\u001b[0;34m(filepath_or_buffer, kwds)\u001b[0m\n\u001b[1;32m    452\u001b[0m \u001b[0;34m\u001b[0m\u001b[0m\n\u001b[1;32m    453\u001b[0m     \u001b[0;31m# Create the parser.\u001b[0m\u001b[0;34m\u001b[0m\u001b[0;34m\u001b[0m\u001b[0;34m\u001b[0m\u001b[0m\n\u001b[0;32m--> 454\u001b[0;31m     \u001b[0mparser\u001b[0m \u001b[0;34m=\u001b[0m \u001b[0mTextFileReader\u001b[0m\u001b[0;34m(\u001b[0m\u001b[0mfp_or_buf\u001b[0m\u001b[0;34m,\u001b[0m \u001b[0;34m**\u001b[0m\u001b[0mkwds\u001b[0m\u001b[0;34m)\u001b[0m\u001b[0;34m\u001b[0m\u001b[0;34m\u001b[0m\u001b[0m\n\u001b[0m\u001b[1;32m    455\u001b[0m \u001b[0;34m\u001b[0m\u001b[0m\n\u001b[1;32m    456\u001b[0m     \u001b[0;32mif\u001b[0m \u001b[0mchunksize\u001b[0m \u001b[0;32mor\u001b[0m \u001b[0miterator\u001b[0m\u001b[0;34m:\u001b[0m\u001b[0;34m\u001b[0m\u001b[0;34m\u001b[0m\u001b[0m\n",
            "\u001b[0;32m/usr/local/lib/python3.6/dist-packages/pandas/io/parsers.py\u001b[0m in \u001b[0;36m__init__\u001b[0;34m(self, f, engine, **kwds)\u001b[0m\n\u001b[1;32m    946\u001b[0m             \u001b[0mself\u001b[0m\u001b[0;34m.\u001b[0m\u001b[0moptions\u001b[0m\u001b[0;34m[\u001b[0m\u001b[0;34m\"has_index_names\"\u001b[0m\u001b[0;34m]\u001b[0m \u001b[0;34m=\u001b[0m \u001b[0mkwds\u001b[0m\u001b[0;34m[\u001b[0m\u001b[0;34m\"has_index_names\"\u001b[0m\u001b[0;34m]\u001b[0m\u001b[0;34m\u001b[0m\u001b[0;34m\u001b[0m\u001b[0m\n\u001b[1;32m    947\u001b[0m \u001b[0;34m\u001b[0m\u001b[0m\n\u001b[0;32m--> 948\u001b[0;31m         \u001b[0mself\u001b[0m\u001b[0;34m.\u001b[0m\u001b[0m_make_engine\u001b[0m\u001b[0;34m(\u001b[0m\u001b[0mself\u001b[0m\u001b[0;34m.\u001b[0m\u001b[0mengine\u001b[0m\u001b[0;34m)\u001b[0m\u001b[0;34m\u001b[0m\u001b[0;34m\u001b[0m\u001b[0m\n\u001b[0m\u001b[1;32m    949\u001b[0m \u001b[0;34m\u001b[0m\u001b[0m\n\u001b[1;32m    950\u001b[0m     \u001b[0;32mdef\u001b[0m \u001b[0mclose\u001b[0m\u001b[0;34m(\u001b[0m\u001b[0mself\u001b[0m\u001b[0;34m)\u001b[0m\u001b[0;34m:\u001b[0m\u001b[0;34m\u001b[0m\u001b[0;34m\u001b[0m\u001b[0m\n",
            "\u001b[0;32m/usr/local/lib/python3.6/dist-packages/pandas/io/parsers.py\u001b[0m in \u001b[0;36m_make_engine\u001b[0;34m(self, engine)\u001b[0m\n\u001b[1;32m   1178\u001b[0m     \u001b[0;32mdef\u001b[0m \u001b[0m_make_engine\u001b[0m\u001b[0;34m(\u001b[0m\u001b[0mself\u001b[0m\u001b[0;34m,\u001b[0m \u001b[0mengine\u001b[0m\u001b[0;34m=\u001b[0m\u001b[0;34m\"c\"\u001b[0m\u001b[0;34m)\u001b[0m\u001b[0;34m:\u001b[0m\u001b[0;34m\u001b[0m\u001b[0;34m\u001b[0m\u001b[0m\n\u001b[1;32m   1179\u001b[0m         \u001b[0;32mif\u001b[0m \u001b[0mengine\u001b[0m \u001b[0;34m==\u001b[0m \u001b[0;34m\"c\"\u001b[0m\u001b[0;34m:\u001b[0m\u001b[0;34m\u001b[0m\u001b[0;34m\u001b[0m\u001b[0m\n\u001b[0;32m-> 1180\u001b[0;31m             \u001b[0mself\u001b[0m\u001b[0;34m.\u001b[0m\u001b[0m_engine\u001b[0m \u001b[0;34m=\u001b[0m \u001b[0mCParserWrapper\u001b[0m\u001b[0;34m(\u001b[0m\u001b[0mself\u001b[0m\u001b[0;34m.\u001b[0m\u001b[0mf\u001b[0m\u001b[0;34m,\u001b[0m \u001b[0;34m**\u001b[0m\u001b[0mself\u001b[0m\u001b[0;34m.\u001b[0m\u001b[0moptions\u001b[0m\u001b[0;34m)\u001b[0m\u001b[0;34m\u001b[0m\u001b[0;34m\u001b[0m\u001b[0m\n\u001b[0m\u001b[1;32m   1181\u001b[0m         \u001b[0;32melse\u001b[0m\u001b[0;34m:\u001b[0m\u001b[0;34m\u001b[0m\u001b[0;34m\u001b[0m\u001b[0m\n\u001b[1;32m   1182\u001b[0m             \u001b[0;32mif\u001b[0m \u001b[0mengine\u001b[0m \u001b[0;34m==\u001b[0m \u001b[0;34m\"python\"\u001b[0m\u001b[0;34m:\u001b[0m\u001b[0;34m\u001b[0m\u001b[0;34m\u001b[0m\u001b[0m\n",
            "\u001b[0;32m/usr/local/lib/python3.6/dist-packages/pandas/io/parsers.py\u001b[0m in \u001b[0;36m__init__\u001b[0;34m(self, src, **kwds)\u001b[0m\n\u001b[1;32m   2008\u001b[0m         \u001b[0mkwds\u001b[0m\u001b[0;34m[\u001b[0m\u001b[0;34m\"usecols\"\u001b[0m\u001b[0;34m]\u001b[0m \u001b[0;34m=\u001b[0m \u001b[0mself\u001b[0m\u001b[0;34m.\u001b[0m\u001b[0musecols\u001b[0m\u001b[0;34m\u001b[0m\u001b[0;34m\u001b[0m\u001b[0m\n\u001b[1;32m   2009\u001b[0m \u001b[0;34m\u001b[0m\u001b[0m\n\u001b[0;32m-> 2010\u001b[0;31m         \u001b[0mself\u001b[0m\u001b[0;34m.\u001b[0m\u001b[0m_reader\u001b[0m \u001b[0;34m=\u001b[0m \u001b[0mparsers\u001b[0m\u001b[0;34m.\u001b[0m\u001b[0mTextReader\u001b[0m\u001b[0;34m(\u001b[0m\u001b[0msrc\u001b[0m\u001b[0;34m,\u001b[0m \u001b[0;34m**\u001b[0m\u001b[0mkwds\u001b[0m\u001b[0;34m)\u001b[0m\u001b[0;34m\u001b[0m\u001b[0;34m\u001b[0m\u001b[0m\n\u001b[0m\u001b[1;32m   2011\u001b[0m         \u001b[0mself\u001b[0m\u001b[0;34m.\u001b[0m\u001b[0munnamed_cols\u001b[0m \u001b[0;34m=\u001b[0m \u001b[0mself\u001b[0m\u001b[0;34m.\u001b[0m\u001b[0m_reader\u001b[0m\u001b[0;34m.\u001b[0m\u001b[0munnamed_cols\u001b[0m\u001b[0;34m\u001b[0m\u001b[0;34m\u001b[0m\u001b[0m\n\u001b[1;32m   2012\u001b[0m \u001b[0;34m\u001b[0m\u001b[0m\n",
            "\u001b[0;32mpandas/_libs/parsers.pyx\u001b[0m in \u001b[0;36mpandas._libs.parsers.TextReader.__cinit__\u001b[0;34m()\u001b[0m\n",
            "\u001b[0;32mpandas/_libs/parsers.pyx\u001b[0m in \u001b[0;36mpandas._libs.parsers.TextReader._setup_parser_source\u001b[0;34m()\u001b[0m\n",
            "\u001b[0;31mFileNotFoundError\u001b[0m: [Errno 2] No such file or directory: 'ваша тестирующая выборка'"
          ]
        }
      ]
    },
    {
      "cell_type": "code",
      "metadata": {
        "id": "UbRbZKeFtHvh",
        "colab": {
          "base_uri": "https://localhost:8080/"
        },
        "outputId": "63b409f0-f4ce-4016-bf74-e91caf312095"
      },
      "source": [
        "from google.colab import drive\n",
        "drive.mount('/content/drive')"
      ],
      "execution_count": null,
      "outputs": [
        {
          "output_type": "stream",
          "text": [
            "Mounted at /content/drive\n"
          ],
          "name": "stdout"
        }
      ]
    },
    {
      "cell_type": "code",
      "metadata": {
        "id": "yDrjVIMNcCzI",
        "colab": {
          "base_uri": "https://localhost:8080/",
          "height": 163
        },
        "outputId": "38008eaa-f98d-4ca4-9071-3e3265a3bb84"
      },
      "source": [
        "true = set((test_labels['pn_lot_anon'] + \"_\" + test_labels['participant_inn_kpp_anon']).values)"
      ],
      "execution_count": null,
      "outputs": [
        {
          "output_type": "error",
          "ename": "NameError",
          "evalue": "ignored",
          "traceback": [
            "\u001b[0;31m---------------------------------------------------------------------------\u001b[0m",
            "\u001b[0;31mNameError\u001b[0m                                 Traceback (most recent call last)",
            "\u001b[0;32m<ipython-input-37-90f2e86e874e>\u001b[0m in \u001b[0;36m<module>\u001b[0;34m()\u001b[0m\n\u001b[0;32m----> 1\u001b[0;31m \u001b[0mtrue\u001b[0m \u001b[0;34m=\u001b[0m \u001b[0mset\u001b[0m\u001b[0;34m(\u001b[0m\u001b[0;34m(\u001b[0m\u001b[0mtest_labels\u001b[0m\u001b[0;34m[\u001b[0m\u001b[0;34m'pn_lot_anon'\u001b[0m\u001b[0;34m]\u001b[0m \u001b[0;34m+\u001b[0m \u001b[0;34m\"_\"\u001b[0m \u001b[0;34m+\u001b[0m \u001b[0mtest_labels\u001b[0m\u001b[0;34m[\u001b[0m\u001b[0;34m'participant_inn_kpp_anon'\u001b[0m\u001b[0;34m]\u001b[0m\u001b[0;34m)\u001b[0m\u001b[0;34m.\u001b[0m\u001b[0mvalues\u001b[0m\u001b[0;34m)\u001b[0m\u001b[0;34m\u001b[0m\u001b[0;34m\u001b[0m\u001b[0m\n\u001b[0m",
            "\u001b[0;31mNameError\u001b[0m: name 'test_labels' is not defined"
          ]
        }
      ]
    },
    {
      "cell_type": "code",
      "metadata": {
        "id": "BJB8Bm4qcCzI"
      },
      "source": [
        "pred = set((recommendation['actual_recommended_pn_lot'] + \"_\" + recommendation['inn_kpp']).values)"
      ],
      "execution_count": null,
      "outputs": []
    },
    {
      "cell_type": "code",
      "metadata": {
        "id": "DPRhKFUKcCzI"
      },
      "source": [
        "intersection = len(true.intersection(pred))"
      ],
      "execution_count": null,
      "outputs": []
    },
    {
      "cell_type": "code",
      "metadata": {
        "id": "244YBe9QcCzI",
        "outputId": "a57a8505-6a96-4916-d1cf-bbef69d8aec8"
      },
      "source": [
        "print(f\"Точность: {intersection / len(pred) * 100}\")\n",
        "print(f\"Полнота: {intersection / len(true) * 100}\")"
      ],
      "execution_count": null,
      "outputs": [
        {
          "output_type": "stream",
          "text": [
            "Точность: 1.537968032741552\n",
            "Полнота: 6.389999540420057\n"
          ],
          "name": "stdout"
        }
      ]
    }
  ]
}