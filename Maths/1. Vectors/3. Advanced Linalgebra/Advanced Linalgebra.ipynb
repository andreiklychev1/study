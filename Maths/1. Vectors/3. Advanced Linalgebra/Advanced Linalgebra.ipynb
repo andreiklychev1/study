{
 "cells": [
  {
   "cell_type": "code",
   "execution_count": 1,
   "metadata": {},
   "outputs": [],
   "source": [
    "import numpy as np\n",
    "from numpy.random import randint as rnd"
   ]
  },
  {
   "cell_type": "markdown",
   "metadata": {},
   "source": [
    "### Уровень 0"
   ]
  },
  {
   "cell_type": "code",
   "execution_count": 2,
   "metadata": {},
   "outputs": [],
   "source": [
    "# а) Диагональная матрица\n",
    "A = np.array([[3, 0, 0, 0],\n",
    "             [0, 7, 0, 0],\n",
    "             [0, 0, 4, 0],\n",
    "             [0, 0, 0, 1]])\n",
    "\n",
    "# б) Верхнетреугольная матрица\n",
    "B = np.array([[rnd(1, 10), rnd(1, 10), rnd(1, 10), rnd(1, 10)],\n",
    "              [0, rnd(1, 10), rnd(1, 10), rnd(1, 10)],\n",
    "              [0, 0, rnd(1, 10), rnd(1, 10)],\n",
    "              [0, 0, 0, rnd(1, 10)]])\n",
    "\n",
    "# в) Нижнетреугольная матрица\n",
    "C = np.array([[rnd(1, 10), rnd(1, 10), rnd(1, 10), rnd(1, 10)],\n",
    "              [0, rnd(1, 10), rnd(1, 10), rnd(1, 10)],\n",
    "              [0, 0, rnd(1, 10), rnd(1, 10)],\n",
    "              [0, 0, 0, rnd(1, 10)]]).T\n",
    "\n",
    "# г) Матрица с единичным определителем\n",
    "\n",
    "D = np.array([[1, 2, 7],\n",
    "              [2, 3, 5],\n",
    "              [2, 3, 4]])\n",
    "\n"
   ]
  },
  {
   "cell_type": "code",
   "execution_count": 3,
   "metadata": {},
   "outputs": [
    {
     "data": {
      "text/plain": [
       "1.0"
      ]
     },
     "execution_count": 3,
     "metadata": {},
     "output_type": "execute_result"
    }
   ],
   "source": [
    "np.linalg.det(D)\n",
    "# Подобрал с первого раза ^_^"
   ]
  },
  {
   "cell_type": "markdown",
   "metadata": {},
   "source": [
    "Найти собственные значения и собственные вектора M:"
   ]
  },
  {
   "cell_type": "code",
   "execution_count": 4,
   "metadata": {},
   "outputs": [
    {
     "name": "stdout",
     "output_type": "stream",
     "text": [
      "Собственные значения матрицы m: [1. 4.]\n",
      "Собственные вектора матрицы m:\n",
      "[-0.89442719 -0.70710678]\n",
      "[ 0.4472136  -0.70710678]\n"
     ]
    }
   ],
   "source": [
    "M = np.array([[2, 2],\n",
    "[1, 3]])\n",
    "u, v = np.linalg.eig(M)\n",
    "print('Собственные значения матрицы m:', u)\n",
    "print('Собственные вектора матрицы m:', v[0], v[1], sep='\\n')"
   ]
  },
  {
   "cell_type": "markdown",
   "metadata": {},
   "source": [
    "### Уровень 1"
   ]
  },
  {
   "cell_type": "markdown",
   "metadata": {},
   "source": [
    "Найти спектральное разложение матрицы M"
   ]
  },
  {
   "cell_type": "code",
   "execution_count": 5,
   "metadata": {},
   "outputs": [
    {
     "data": {
      "text/plain": [
       "array([[1., 2.],\n",
       "       [2., 3.]])"
      ]
     },
     "execution_count": 5,
     "metadata": {},
     "output_type": "execute_result"
    }
   ],
   "source": [
    "A = np.array([[1, 2],\n",
    "[2,3]])\n",
    "\n",
    "u, v = np.linalg.eig(A)\n",
    "S = np.array([v[0], v[1]])\n",
    "D = np.array([[u[0], 0],\n",
    "             [0, u[1]]])\n",
    "Result = S @ D @ S.T\n",
    "Result"
   ]
  },
  {
   "cell_type": "code",
   "execution_count": 6,
   "metadata": {},
   "outputs": [],
   "source": [
    "from sklearn.datasets import load_digits\n",
    "import pandas as pd"
   ]
  },
  {
   "cell_type": "code",
   "execution_count": 7,
   "metadata": {},
   "outputs": [],
   "source": [
    "digits = load_digits()\n",
    "data = pd.DataFrame(digits['data'], columns=digits['feature_names'])"
   ]
  },
  {
   "cell_type": "code",
   "execution_count": 8,
   "metadata": {},
   "outputs": [],
   "source": [
    "data['target'] = digits['target']"
   ]
  },
  {
   "cell_type": "code",
   "execution_count": 9,
   "metadata": {},
   "outputs": [],
   "source": [
    "import matplotlib\n",
    "from matplotlib import pyplot as plt"
   ]
  },
  {
   "cell_type": "code",
   "execution_count": 10,
   "metadata": {},
   "outputs": [
    {
     "data": {
      "image/png": "[encoded data removed]",
      "text/plain": [
       "<Figure size 432x288 with 1 Axes>"
      ]
     },
     "metadata": {
      "needs_background": "light"
     },
     "output_type": "display_data"
    }
   ],
   "source": [
    "plt.imshow(digits['images'][0])\n",
    "plt.show()"
   ]
  },
  {
   "cell_type": "code",
   "execution_count": 13,
   "metadata": {},
   "outputs": [],
   "source": [
    "from sklearn.model_selection import train_test_split\n",
    "from sklearn.tree import DecisionTreeClassifier\n",
    "from sklearn.metrics import classification_report\n",
    "from sklearn.svm import SVC"
   ]
  },
  {
   "cell_type": "code",
   "execution_count": 14,
   "metadata": {},
   "outputs": [],
   "source": [
    "x_train, x_test, y_train, y_test = train_test_split(data.drop(['target'], axis=1), data['target'], test_size=0.2)"
   ]
  },
  {
   "cell_type": "code",
   "execution_count": 17,
   "metadata": {},
   "outputs": [
    {
     "name": "stdout",
     "output_type": "stream",
     "text": [
      "              precision    recall  f1-score   support\n",
      "\n",
      "           0       0.91      0.91      0.91        34\n",
      "           1       0.89      0.87      0.88        39\n",
      "           2       0.83      0.76      0.79        38\n",
      "           3       0.70      0.79      0.74        33\n",
      "           4       0.85      0.89      0.87        37\n",
      "           5       0.90      0.90      0.90        41\n",
      "           6       0.87      0.87      0.87        31\n",
      "           7       0.89      0.97      0.93        32\n",
      "           8       0.79      0.79      0.79        34\n",
      "           9       0.89      0.78      0.83        41\n",
      "\n",
      "    accuracy                           0.85       360\n",
      "   macro avg       0.85      0.85      0.85       360\n",
      "weighted avg       0.85      0.85      0.85       360\n",
      "\n"
     ]
    }
   ],
   "source": [
    "model = DecisionTreeClassifier()\n",
    "model.fit(x_train, y_train)\n",
    "pred = model.predict(x_test)\n",
    "print(classification_report(pred, y_test))"
   ]
  },
  {
   "cell_type": "code",
   "execution_count": 20,
   "metadata": {},
   "outputs": [
    {
     "name": "stdout",
     "output_type": "stream",
     "text": [
      "              precision    recall  f1-score   support\n",
      "\n",
      "           0       0.97      1.00      0.99        33\n",
      "           1       1.00      0.95      0.97        40\n",
      "           2       1.00      1.00      1.00        35\n",
      "           3       0.95      1.00      0.97        35\n",
      "           4       0.95      0.97      0.96        38\n",
      "           5       1.00      0.95      0.98        43\n",
      "           6       1.00      1.00      1.00        31\n",
      "           7       1.00      1.00      1.00        35\n",
      "           8       0.94      0.91      0.93        35\n",
      "           9       0.97      1.00      0.99        35\n",
      "\n",
      "    accuracy                           0.98       360\n",
      "   macro avg       0.98      0.98      0.98       360\n",
      "weighted avg       0.98      0.98      0.98       360\n",
      "\n"
     ]
    }
   ],
   "source": [
    "model_1 = SVC()\n",
    "model_1.fit(x_train, y_train)\n",
    "pred_1 = model_1.predict(x_test)\n",
    "print(classification_report(pred_1, y_test))"
   ]
  },
  {
   "cell_type": "markdown",
   "metadata": {},
   "source": [
    "Метод опорных векторов отлично предсказывает искомые значения, остановимся на нем \n",
    "\n",
    "Теперь пошагово будем понижать количество измерений нашего датасета, и будем отслеживать изменение среднего качество предсказывания"
   ]
  },
  {
   "cell_type": "code",
   "execution_count": 21,
   "metadata": {},
   "outputs": [],
   "source": [
    "from sklearn.decomposition import PCA"
   ]
  },
  {
   "cell_type": "code",
   "execution_count": 44,
   "metadata": {},
   "outputs": [],
   "source": [
    "scores = []\n",
    "for _ in range(64, 1, -1):\n",
    "    pca = PCA(n_components=_)\n",
    "    pca.fit(data.drop(['target'], axis=1))\n",
    "\n",
    "    x_red = pca.transform(data.drop(['target'], axis=1))\n",
    "\n",
    "    x_train, x_test, y_train, y_test = train_test_split(x_red, data['target'], test_size=0.2)\n",
    "\n",
    "\n",
    "    model_1.fit(x_train, y_train)\n",
    "    pred_1 = model_1.predict(x_test)\n",
    "\n",
    "    scores.append(model_1.score(x_test, y_test))"
   ]
  },
  {
   "cell_type": "markdown",
   "metadata": {},
   "source": [
    "График зависимости оценки предсказывания от размерности пространства (бонус)"
   ]
  },
  {
   "cell_type": "code",
   "execution_count": 56,
   "metadata": {},
   "outputs": [
    {
     "data": {
      "image/png": "[encoded data removed]",
      "text/plain": [
       "<Figure size 720x504 with 1 Axes>"
      ]
     },
     "metadata": {
      "needs_background": "light"
     },
     "output_type": "display_data"
    }
   ],
   "source": [
    "matplotlib.rcParams['figure.figsize'] = [10, 7]\n",
    "x = np.linspace(63, 1, 63)\n",
    "plt.plot(x, scores)\n",
    "plt.ylabel('Качество оценки')\n",
    "plt.xlabel('Размерность пространства')\n",
    "plt.\n",
    "plt.grid()\n",
    "plt.show()"
   ]
  },
  {
   "cell_type": "markdown",
   "metadata": {},
   "source": [
    "И, собственно, сама задача, оценим качество восстановления нашей матрицы:"
   ]
  },
  {
   "cell_type": "code",
   "execution_count": 54,
   "metadata": {},
   "outputs": [],
   "source": [
    "scores_tr = []\n",
    "for _ in range(64, 1, -1):\n",
    "    pca = PCA(n_components=_)\n",
    "    pca.fit(data.drop(['target'], axis=1))\n",
    "\n",
    "    x_red = pca.transform(data.drop(['target'], axis=1))\n",
    "    \n",
    "    x_tr = pca.inverse_transform(x_red)\n",
    "    \n",
    "    x_train, x_test, y_train, y_test = train_test_split(x_tr, data['target'], test_size=0.2)\n",
    "\n",
    "\n",
    "    model_1.fit(x_train, y_train)\n",
    "    pred_1 = model_1.predict(x_test)\n",
    "\n",
    "    scores_tr.append(model_1.score(x_test, y_test))"
   ]
  },
  {
   "cell_type": "code",
   "execution_count": 57,
   "metadata": {},
   "outputs": [
    {
     "data": {
      "image/png": "[encoded data removed]",
      "text/plain": [
       "<Figure size 720x504 with 1 Axes>"
      ]
     },
     "metadata": {
      "needs_background": "light"
     },
     "output_type": "display_data"
    }
   ],
   "source": [
    "x = np.linspace(63, 1, 63)\n",
    "plt.plot(x, scores_tr)\n",
    "plt.ylabel('Качество оценки')\n",
    "plt.xlabel('Размерность пространства')\n",
    "plt.grid()\n",
    "plt.show()"
   ]
  },
  {
   "cell_type": "markdown",
   "metadata": {},
   "source": [
    "Как мы можем видеть, работая с размерностью меньше 10 невозможно получить качественный результат, при чем процесс восстановления  \n",
    "создает дополнительные искажения, модель после восстановленная из размерностей 10 и ниже до исходной работает хуже чем  \n",
    "модель только из 10 признаков и ниже"
   ]
  },
  {
   "cell_type": "code",
   "execution_count": null,
   "metadata": {},
   "outputs": [],
   "source": []
  }
 ],
 "metadata": {
  "kernelspec": {
   "display_name": "Python 3",
   "language": "python",
   "name": "python3"
  },
  "language_info": {
   "codemirror_mode": {
    "name": "ipython",
    "version": 3
   },
   "file_extension": ".py",
   "mimetype": "text/x-python",
   "name": "python",
   "nbconvert_exporter": "python",
   "pygments_lexer": "ipython3",
   "version": "3.7.6"
  }
 },
 "nbformat": 4,
 "nbformat_minor": 4
}
