{
 "cells": [
  {
   "cell_type": "code",
   "execution_count": 1,
   "metadata": {},
   "outputs": [],
   "source": [
    "import numpy as np"
   ]
  },
  {
   "cell_type": "markdown",
   "metadata": {},
   "source": [
    "### Уровень 0  \n",
    "Задание 1"
   ]
  },
  {
   "cell_type": "code",
   "execution_count": 2,
   "metadata": {},
   "outputs": [],
   "source": [
    "def prob(n, k):\n",
    "    if n - k == 1:\n",
    "        p = 1\n",
    "    elif n-k > 1:\n",
    "        p = 2\n",
    "    elif n == k:\n",
    "        return 1\n",
    "    elif n < k:\n",
    "        return print('Невозможный эксперимент')\n",
    "    summ = 0\n",
    "    for i in range(n-k):\n",
    "        summ += p*2**i\n",
    "    summ += 2**(n-k)\n",
    "    return summ/2**n"
   ]
  },
  {
   "cell_type": "code",
   "execution_count": 3,
   "metadata": {},
   "outputs": [
    {
     "name": "stdout",
     "output_type": "stream",
     "text": [
      "0.37493896484375\n"
     ]
    }
   ],
   "source": [
    "# Вероятность выпадения 3 орлов в серии из 15 подбрасываний\n",
    "print(prob(15, 3))"
   ]
  },
  {
   "cell_type": "code",
   "execution_count": 4,
   "metadata": {},
   "outputs": [
    {
     "name": "stdout",
     "output_type": "stream",
     "text": [
      "0.09368896484375\n"
     ]
    }
   ],
   "source": [
    "# Вероятность выпадения 5 орлов в серии из 15 подбрасываний\n",
    "print(prob(15, 5))"
   ]
  },
  {
   "cell_type": "code",
   "execution_count": 5,
   "metadata": {},
   "outputs": [
    {
     "name": "stdout",
     "output_type": "stream",
     "text": [
      "0.02337646484375\n"
     ]
    }
   ],
   "source": [
    "# Вероятность выпадения 7 орлов в серии из 15 подбрасываний\n",
    "print(prob(15, 7))"
   ]
  },
  {
   "cell_type": "code",
   "execution_count": 6,
   "metadata": {},
   "outputs": [
    {
     "name": "stdout",
     "output_type": "stream",
     "text": [
      "0.00140380859375\n"
     ]
    }
   ],
   "source": [
    "# Вероятность выпадения 11 орлов в серии из 15 подбрасываний\n",
    "print(prob(15, 11))"
   ]
  },
  {
   "cell_type": "code",
   "execution_count": 7,
   "metadata": {},
   "outputs": [
    {
     "name": "stdout",
     "output_type": "stream",
     "text": [
      "0.00030517578125\n"
     ]
    }
   ],
   "source": [
    "# Вероятность выпадения 13 орлов в серии из 15 подбрасываний\n",
    "print(prob(15, 13))"
   ]
  },
  {
   "cell_type": "markdown",
   "metadata": {},
   "source": [
    "Задание 2"
   ]
  },
  {
   "cell_type": "code",
   "execution_count": 8,
   "metadata": {},
   "outputs": [],
   "source": [
    "samples = (1, 2, 3, 4, 5, 6, 7, 8, 9, 10)"
   ]
  },
  {
   "cell_type": "code",
   "execution_count": 9,
   "metadata": {},
   "outputs": [],
   "source": [
    "array = []\n",
    "for _ in range(1000):\n",
    "    array.append(np.random.choice(samples))"
   ]
  },
  {
   "cell_type": "code",
   "execution_count": 10,
   "metadata": {},
   "outputs": [],
   "source": [
    "from matplotlib import rcParams\n",
    "from matplotlib import pyplot as plt\n",
    "import seaborn as sns\n",
    "rcParams['figure.figsize'] = [10, 7]"
   ]
  },
  {
   "cell_type": "code",
   "execution_count": 11,
   "metadata": {},
   "outputs": [
    {
     "data": {
      "image/png": "[encoded data removed]",
      "text/plain": [
       "<Figure size 720x504 with 1 Axes>"
      ]
     },
     "metadata": {
      "needs_background": "light"
     },
     "output_type": "display_data"
    }
   ],
   "source": [
    "sns.distplot(array)\n",
    "plt.grid()\n",
    "plt.show()"
   ]
  },
  {
   "cell_type": "code",
   "execution_count": 12,
   "metadata": {},
   "outputs": [
    {
     "data": {
      "text/plain": [
       "5.606"
      ]
     },
     "execution_count": 12,
     "metadata": {},
     "output_type": "execute_result"
    }
   ],
   "source": [
    "# Среднее\n",
    "avg = sum(array)/len(array)\n",
    "avg"
   ]
  },
  {
   "cell_type": "code",
   "execution_count": 13,
   "metadata": {},
   "outputs": [
    {
     "data": {
      "text/plain": [
       "2806.945528000003"
      ]
     },
     "execution_count": 13,
     "metadata": {},
     "output_type": "execute_result"
    }
   ],
   "source": [
    "# Дисперсия\n",
    "m = 0\n",
    "for i in array:\n",
    "    m += abs(i**2 - avg**2)\n",
    "disp = m/10\n",
    "disp"
   ]
  },
  {
   "cell_type": "code",
   "execution_count": 14,
   "metadata": {},
   "outputs": [
    {
     "data": {
      "text/plain": [
       "6.0"
      ]
     },
     "execution_count": 14,
     "metadata": {},
     "output_type": "execute_result"
    }
   ],
   "source": [
    "# медиана\n",
    "med = (sorted(array)[499] + sorted(array)[500])/2\n",
    "med"
   ]
  },
  {
   "cell_type": "markdown",
   "metadata": {},
   "source": [
    "### Уровень 1\n",
    "Задание 3"
   ]
  },
  {
   "cell_type": "markdown",
   "metadata": {},
   "source": [
    "Варианты выпадений для 3 монет  \n",
    "o o o  \n",
    "p p p  \n",
    "o p o  \n",
    "o o p  \n",
    "o p p  \n",
    "p o p  \n",
    "o p o  \n",
    "p o o  \n",
    "Как можно видеть каждое из событий может произойти в 4 случаях из 8, поэтому:  \n",
    "P(A1) =1/2, P(A2) = 1/2, P(A3) = 1/2  \n",
    "Проверим события попарно на независимость  \n",
    "P(A1, A2) = 1/2*1/2 = 1/4 (o o o, p p p) - Верно  \n",
    "P(A2, A3) = 1/2*1/2 = 1/4 (o o o, p p p) - Верно  \n",
    "P(A1, A3) = 1/2*1/2 = 1/4 (o o o, p p p) - Верно  \n",
    "P(A1, A2, А3) = 1/2*1/2*1/2 = 1/8 (o o o, p p p) - Неверно  \n",
    "Вероятность наступления 3ех событий одновременно не изменяется от вероятности наступления 2ух  \n",
    "при наступлении третьего, поэтому можно утверждать, что в совокупности они независимы"
   ]
  },
  {
   "cell_type": "markdown",
   "metadata": {},
   "source": [
    "Задание 4"
   ]
  },
  {
   "cell_type": "code",
   "execution_count": 108,
   "metadata": {},
   "outputs": [
    {
     "data": {
      "text/plain": [
       "0.135"
      ]
     },
     "execution_count": 108,
     "metadata": {},
     "output_type": "execute_result"
    }
   ],
   "source": [
    "N1, N2, N3, p1, p2, p3 = 0.2, 0.3, 0.5, 0.1, 0.05, 0.2\n",
    "# Выше указаны след. вер-ти:\n",
    "# Ni - вер-ть получить устрой-во с i-го предприятия\n",
    "# pi - вер-ть производства устрой-ва высшего качества на i-ом предприятии\n",
    "\n",
    "P = N1*p1 + N2*p2 + N3*p3\n",
    "P"
   ]
  },
  {
   "cell_type": "code",
   "execution_count": null,
   "metadata": {},
   "outputs": [],
   "source": []
  }
 ],
 "metadata": {
  "kernelspec": {
   "display_name": "Python 3",
   "language": "python",
   "name": "python3"
  },
  "language_info": {
   "codemirror_mode": {
    "name": "ipython",
    "version": 3
   },
   "file_extension": ".py",
   "mimetype": "text/x-python",
   "name": "python",
   "nbconvert_exporter": "python",
   "pygments_lexer": "ipython3",
   "version": "3.7.6"
  }
 },
 "nbformat": 4,
 "nbformat_minor": 4
}
