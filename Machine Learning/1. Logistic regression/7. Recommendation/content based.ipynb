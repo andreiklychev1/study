{
 "cells": [
  {
   "cell_type": "code",
   "execution_count": 143,
   "metadata": {},
   "outputs": [],
   "source": [
    "import pandas as pd\n",
    "from datetime import datetime\n",
    "import warnings\n",
    "warnings.filterwarnings('ignore')\n",
    "from tqdm.notebook import tqdm"
   ]
  },
  {
   "cell_type": "code",
   "execution_count": 88,
   "metadata": {},
   "outputs": [],
   "source": [
    "links = pd.read_csv('C:\\\\Users\\\\Андрей Клычев\\\\ml-latest-small\\\\links.csv')\n",
    "movies = pd.read_csv('C:\\\\Users\\\\Андрей Клычев\\\\ml-latest-small\\\\movies.csv')\n",
    "ratings = pd.read_csv('C:\\\\Users\\\\Андрей Клычев\\\\ml-latest-small\\\\ratings.csv')\n",
    "tags = pd.read_csv('C:\\\\Users\\\\Андрей Клычев\\\\ml-latest-small\\\\tags.csv')"
   ]
  },
  {
   "cell_type": "code",
   "execution_count": 89,
   "metadata": {},
   "outputs": [],
   "source": [
    "tags['date'] = tags['timestamp'].apply(lambda t: datetime.fromtimestamp(t))\n",
    "ratings['date'] = ratings['timestamp'].apply(lambda t: datetime.fromtimestamp(t))"
   ]
  },
  {
   "cell_type": "code",
   "execution_count": 90,
   "metadata": {},
   "outputs": [],
   "source": [
    "import re\n",
    "def divide(row):\n",
    "   \n",
    "    row['year'] = re.findall('\\d{4}', row['title'])\n",
    "   \n",
    "    return row\n",
    "    \n",
    "movies = movies.apply(divide, axis=1)\n",
    "m = []\n",
    "for _ in movies.year:\n",
    "    try:\n",
    "        m.append(int(_[0]))\n",
    "    except:\n",
    "        m.append(0)\n",
    "\n",
    "\n",
    "movies.year = m\n"
   ]
  },
  {
   "cell_type": "code",
   "execution_count": 91,
   "metadata": {},
   "outputs": [],
   "source": [
    "movies = movies.merge(ratings, how='left', on='movieId')"
   ]
  },
  {
   "cell_type": "markdown",
   "metadata": {},
   "source": [
    "Исходя из жанра и даты определим недостающие рейтинги  \n",
    "Количество жанров достигать может 10 штук  \n",
    "И все же линки с те\n",
    "гами тоже нужно использовать  и восполнять все эти пропуски регрессией"
   ]
  },
  {
   "cell_type": "code",
   "execution_count": 92,
   "metadata": {},
   "outputs": [],
   "source": [
    "movies = movies.drop(['timestamp'], axis=1)"
   ]
  },
  {
   "cell_type": "code",
   "execution_count": 7,
   "metadata": {},
   "outputs": [],
   "source": [
    "from sklearn.feature_extraction.text import CountVectorizer, TfidfTransformer\n",
    "from sklearn.neighbors import NearestNeighbors"
   ]
  },
  {
   "cell_type": "code",
   "execution_count": 93,
   "metadata": {},
   "outputs": [],
   "source": [
    "def div(row):\n",
    "    \n",
    "    return row['genres'].replace('|', ' ')\n",
    "\n",
    "def diff(row):\n",
    "    return row['date'].year - row['year']\n",
    "\n",
    "d = movies.apply(diff, axis=1)\n",
    "movies.date = d\n"
   ]
  },
  {
   "cell_type": "code",
   "execution_count": 94,
   "metadata": {},
   "outputs": [],
   "source": [
    "movies = movies.dropna()\n",
    "g = movies.apply(div, axis=1)\n",
    "movies.genres = g"
   ]
  },
  {
   "cell_type": "code",
   "execution_count": 99,
   "metadata": {},
   "outputs": [],
   "source": [
    "movies = movies.merge(tags, how='left', on='movieId')\n",
    "movies = movies.dropna()"
   ]
  },
  {
   "cell_type": "code",
   "execution_count": 98,
   "metadata": {},
   "outputs": [
    {
     "data": {
      "text/html": [
       "<div>\n",
       "<style scoped>\n",
       "    .dataframe tbody tr th:only-of-type {\n",
       "        vertical-align: middle;\n",
       "    }\n",
       "\n",
       "    .dataframe tbody tr th {\n",
       "        vertical-align: top;\n",
       "    }\n",
       "\n",
       "    .dataframe thead th {\n",
       "        text-align: right;\n",
       "    }\n",
       "</style>\n",
       "<table border=\"1\" class=\"dataframe\">\n",
       "  <thead>\n",
       "    <tr style=\"text-align: right;\">\n",
       "      <th></th>\n",
       "      <th>movieId</th>\n",
       "      <th>title</th>\n",
       "      <th>genres</th>\n",
       "      <th>year</th>\n",
       "      <th>userId_x</th>\n",
       "      <th>rating</th>\n",
       "      <th>date_x</th>\n",
       "      <th>userId_y</th>\n",
       "      <th>tag</th>\n",
       "      <th>timestamp</th>\n",
       "      <th>date_y</th>\n",
       "      <th>words</th>\n",
       "    </tr>\n",
       "  </thead>\n",
       "  <tbody>\n",
       "    <tr>\n",
       "      <th>0</th>\n",
       "      <td>1</td>\n",
       "      <td>Toy Story (1995)</td>\n",
       "      <td>Adventure Animation Children Comedy Fantasy</td>\n",
       "      <td>1995</td>\n",
       "      <td>1.0</td>\n",
       "      <td>4.0</td>\n",
       "      <td>5.0</td>\n",
       "      <td>336.0</td>\n",
       "      <td>pixar</td>\n",
       "      <td>1.139046e+09</td>\n",
       "      <td>2006-02-04 12:36:04</td>\n",
       "      <td>Adventure Animation Children Comedy Fantasy pixar</td>\n",
       "    </tr>\n",
       "    <tr>\n",
       "      <th>1</th>\n",
       "      <td>1</td>\n",
       "      <td>Toy Story (1995)</td>\n",
       "      <td>Adventure Animation Children Comedy Fantasy</td>\n",
       "      <td>1995</td>\n",
       "      <td>1.0</td>\n",
       "      <td>4.0</td>\n",
       "      <td>5.0</td>\n",
       "      <td>474.0</td>\n",
       "      <td>pixar</td>\n",
       "      <td>1.137207e+09</td>\n",
       "      <td>2006-01-14 05:47:05</td>\n",
       "      <td>Adventure Animation Children Comedy Fantasy pixar</td>\n",
       "    </tr>\n",
       "    <tr>\n",
       "      <th>2</th>\n",
       "      <td>1</td>\n",
       "      <td>Toy Story (1995)</td>\n",
       "      <td>Adventure Animation Children Comedy Fantasy</td>\n",
       "      <td>1995</td>\n",
       "      <td>1.0</td>\n",
       "      <td>4.0</td>\n",
       "      <td>5.0</td>\n",
       "      <td>567.0</td>\n",
       "      <td>fun</td>\n",
       "      <td>1.525286e+09</td>\n",
       "      <td>2018-05-02 21:33:33</td>\n",
       "      <td>Adventure Animation Children Comedy Fantasy fun</td>\n",
       "    </tr>\n",
       "    <tr>\n",
       "      <th>3</th>\n",
       "      <td>1</td>\n",
       "      <td>Toy Story (1995)</td>\n",
       "      <td>Adventure Animation Children Comedy Fantasy</td>\n",
       "      <td>1995</td>\n",
       "      <td>5.0</td>\n",
       "      <td>4.0</td>\n",
       "      <td>1.0</td>\n",
       "      <td>336.0</td>\n",
       "      <td>pixar</td>\n",
       "      <td>1.139046e+09</td>\n",
       "      <td>2006-02-04 12:36:04</td>\n",
       "      <td>Adventure Animation Children Comedy Fantasy pixar</td>\n",
       "    </tr>\n",
       "    <tr>\n",
       "      <th>4</th>\n",
       "      <td>1</td>\n",
       "      <td>Toy Story (1995)</td>\n",
       "      <td>Adventure Animation Children Comedy Fantasy</td>\n",
       "      <td>1995</td>\n",
       "      <td>5.0</td>\n",
       "      <td>4.0</td>\n",
       "      <td>1.0</td>\n",
       "      <td>474.0</td>\n",
       "      <td>pixar</td>\n",
       "      <td>1.137207e+09</td>\n",
       "      <td>2006-01-14 05:47:05</td>\n",
       "      <td>Adventure Animation Children Comedy Fantasy pixar</td>\n",
       "    </tr>\n",
       "    <tr>\n",
       "      <th>...</th>\n",
       "      <td>...</td>\n",
       "      <td>...</td>\n",
       "      <td>...</td>\n",
       "      <td>...</td>\n",
       "      <td>...</td>\n",
       "      <td>...</td>\n",
       "      <td>...</td>\n",
       "      <td>...</td>\n",
       "      <td>...</td>\n",
       "      <td>...</td>\n",
       "      <td>...</td>\n",
       "      <td>...</td>\n",
       "    </tr>\n",
       "    <tr>\n",
       "      <th>285724</th>\n",
       "      <td>187595</td>\n",
       "      <td>Solo: A Star Wars Story (2018)</td>\n",
       "      <td>Action Adventure Children Sci-Fi</td>\n",
       "      <td>2018</td>\n",
       "      <td>586.0</td>\n",
       "      <td>5.0</td>\n",
       "      <td>0.0</td>\n",
       "      <td>62.0</td>\n",
       "      <td>star wars</td>\n",
       "      <td>1.528935e+09</td>\n",
       "      <td>2018-06-14 03:02:32</td>\n",
       "      <td>Action Adventure Children Sci-Fi star wars</td>\n",
       "    </tr>\n",
       "    <tr>\n",
       "      <th>285749</th>\n",
       "      <td>193565</td>\n",
       "      <td>Gintama: The Movie (2010)</td>\n",
       "      <td>Action Animation Comedy Sci-Fi</td>\n",
       "      <td>2010</td>\n",
       "      <td>184.0</td>\n",
       "      <td>3.5</td>\n",
       "      <td>8.0</td>\n",
       "      <td>184.0</td>\n",
       "      <td>anime</td>\n",
       "      <td>1.537099e+09</td>\n",
       "      <td>2018-09-16 14:49:42</td>\n",
       "      <td>Action Animation Comedy Sci-Fi anime</td>\n",
       "    </tr>\n",
       "    <tr>\n",
       "      <th>285750</th>\n",
       "      <td>193565</td>\n",
       "      <td>Gintama: The Movie (2010)</td>\n",
       "      <td>Action Animation Comedy Sci-Fi</td>\n",
       "      <td>2010</td>\n",
       "      <td>184.0</td>\n",
       "      <td>3.5</td>\n",
       "      <td>8.0</td>\n",
       "      <td>184.0</td>\n",
       "      <td>comedy</td>\n",
       "      <td>1.537099e+09</td>\n",
       "      <td>2018-09-16 14:49:47</td>\n",
       "      <td>Action Animation Comedy Sci-Fi comedy</td>\n",
       "    </tr>\n",
       "    <tr>\n",
       "      <th>285751</th>\n",
       "      <td>193565</td>\n",
       "      <td>Gintama: The Movie (2010)</td>\n",
       "      <td>Action Animation Comedy Sci-Fi</td>\n",
       "      <td>2010</td>\n",
       "      <td>184.0</td>\n",
       "      <td>3.5</td>\n",
       "      <td>8.0</td>\n",
       "      <td>184.0</td>\n",
       "      <td>gintama</td>\n",
       "      <td>1.537099e+09</td>\n",
       "      <td>2018-09-16 14:50:03</td>\n",
       "      <td>Action Animation Comedy Sci-Fi gintama</td>\n",
       "    </tr>\n",
       "    <tr>\n",
       "      <th>285752</th>\n",
       "      <td>193565</td>\n",
       "      <td>Gintama: The Movie (2010)</td>\n",
       "      <td>Action Animation Comedy Sci-Fi</td>\n",
       "      <td>2010</td>\n",
       "      <td>184.0</td>\n",
       "      <td>3.5</td>\n",
       "      <td>8.0</td>\n",
       "      <td>184.0</td>\n",
       "      <td>remaster</td>\n",
       "      <td>1.537099e+09</td>\n",
       "      <td>2018-09-16 14:49:52</td>\n",
       "      <td>Action Animation Comedy Sci-Fi remaster</td>\n",
       "    </tr>\n",
       "  </tbody>\n",
       "</table>\n",
       "<p>233213 rows × 12 columns</p>\n",
       "</div>"
      ],
      "text/plain": [
       "        movieId                           title  \\\n",
       "0             1                Toy Story (1995)   \n",
       "1             1                Toy Story (1995)   \n",
       "2             1                Toy Story (1995)   \n",
       "3             1                Toy Story (1995)   \n",
       "4             1                Toy Story (1995)   \n",
       "...         ...                             ...   \n",
       "285724   187595  Solo: A Star Wars Story (2018)   \n",
       "285749   193565       Gintama: The Movie (2010)   \n",
       "285750   193565       Gintama: The Movie (2010)   \n",
       "285751   193565       Gintama: The Movie (2010)   \n",
       "285752   193565       Gintama: The Movie (2010)   \n",
       "\n",
       "                                             genres  year  userId_x  rating  \\\n",
       "0       Adventure Animation Children Comedy Fantasy  1995       1.0     4.0   \n",
       "1       Adventure Animation Children Comedy Fantasy  1995       1.0     4.0   \n",
       "2       Adventure Animation Children Comedy Fantasy  1995       1.0     4.0   \n",
       "3       Adventure Animation Children Comedy Fantasy  1995       5.0     4.0   \n",
       "4       Adventure Animation Children Comedy Fantasy  1995       5.0     4.0   \n",
       "...                                             ...   ...       ...     ...   \n",
       "285724             Action Adventure Children Sci-Fi  2018     586.0     5.0   \n",
       "285749               Action Animation Comedy Sci-Fi  2010     184.0     3.5   \n",
       "285750               Action Animation Comedy Sci-Fi  2010     184.0     3.5   \n",
       "285751               Action Animation Comedy Sci-Fi  2010     184.0     3.5   \n",
       "285752               Action Animation Comedy Sci-Fi  2010     184.0     3.5   \n",
       "\n",
       "        date_x  userId_y        tag     timestamp              date_y  \\\n",
       "0          5.0     336.0      pixar  1.139046e+09 2006-02-04 12:36:04   \n",
       "1          5.0     474.0      pixar  1.137207e+09 2006-01-14 05:47:05   \n",
       "2          5.0     567.0        fun  1.525286e+09 2018-05-02 21:33:33   \n",
       "3          1.0     336.0      pixar  1.139046e+09 2006-02-04 12:36:04   \n",
       "4          1.0     474.0      pixar  1.137207e+09 2006-01-14 05:47:05   \n",
       "...        ...       ...        ...           ...                 ...   \n",
       "285724     0.0      62.0  star wars  1.528935e+09 2018-06-14 03:02:32   \n",
       "285749     8.0     184.0      anime  1.537099e+09 2018-09-16 14:49:42   \n",
       "285750     8.0     184.0     comedy  1.537099e+09 2018-09-16 14:49:47   \n",
       "285751     8.0     184.0    gintama  1.537099e+09 2018-09-16 14:50:03   \n",
       "285752     8.0     184.0   remaster  1.537099e+09 2018-09-16 14:49:52   \n",
       "\n",
       "                                                    words  \n",
       "0       Adventure Animation Children Comedy Fantasy pixar  \n",
       "1       Adventure Animation Children Comedy Fantasy pixar  \n",
       "2         Adventure Animation Children Comedy Fantasy fun  \n",
       "3       Adventure Animation Children Comedy Fantasy pixar  \n",
       "4       Adventure Animation Children Comedy Fantasy pixar  \n",
       "...                                                   ...  \n",
       "285724         Action Adventure Children Sci-Fi star wars  \n",
       "285749               Action Animation Comedy Sci-Fi anime  \n",
       "285750              Action Animation Comedy Sci-Fi comedy  \n",
       "285751             Action Animation Comedy Sci-Fi gintama  \n",
       "285752            Action Animation Comedy Sci-Fi remaster  \n",
       "\n",
       "[233213 rows x 12 columns]"
      ]
     },
     "execution_count": 98,
     "metadata": {},
     "output_type": "execute_result"
    }
   ],
   "source": [
    "def sum_str(row):\n",
    "    row['words'] = row['genres'] + ' ' + row['tag']\n",
    "    return row\n",
    "movies = movies.apply(sum_str, axis=1)\n",
    "movies"
   ]
  },
  {
   "cell_type": "code",
   "execution_count": 100,
   "metadata": {},
   "outputs": [],
   "source": [
    "cntV = CountVectorizer()\n",
    "vect_g = cntV.fit_transform(movies.words)\n",
    "tfidf = TfidfTransformer()\n",
    "vect_tf = tfidf.fit_transform(vect_g)"
   ]
  },
  {
   "cell_type": "code",
   "execution_count": 105,
   "metadata": {},
   "outputs": [],
   "source": [
    "from sklearn.model_selection import train_test_split\n",
    "x_train, x_test, y_train, y_test = train_test_split(vect_tf.toarray(), movies.rating, test_size=0.3)"
   ]
  },
  {
   "cell_type": "code",
   "execution_count": 107,
   "metadata": {},
   "outputs": [
    {
     "data": {
      "text/plain": [
       "LinearRegression()"
      ]
     },
     "execution_count": 107,
     "metadata": {},
     "output_type": "execute_result"
    }
   ],
   "source": [
    "from sklearn.linear_model import LinearRegression\n",
    "model = LinearRegression()\n",
    "model.fit(x_train, y_train)"
   ]
  },
  {
   "cell_type": "code",
   "execution_count": 108,
   "metadata": {},
   "outputs": [],
   "source": [
    "y_pred = model.predict(x_test)"
   ]
  },
  {
   "cell_type": "code",
   "execution_count": 166,
   "metadata": {},
   "outputs": [
    {
     "data": {
      "text/plain": [
       "36245654405.75947"
      ]
     },
     "execution_count": 166,
     "metadata": {},
     "output_type": "execute_result"
    }
   ],
   "source": [
    "from sklearn.metrics import mean_squared_error\n",
    "mean_squared_error(y_test, y_pred, squared=False)"
   ]
  },
  {
   "cell_type": "code",
   "execution_count": 154,
   "metadata": {},
   "outputs": [],
   "source": [
    "m = movies.groupby('title').mean().rating\n",
    "med = movies.groupby('title').median().rating\n",
    "std = movies.groupby('title').std().rating"
   ]
  },
  {
   "cell_type": "code",
   "execution_count": 162,
   "metadata": {},
   "outputs": [],
   "source": [
    "def merging(row):\n",
    "    for _ in range(len(m.index)):\n",
    "        if m.index[_] == row.title:\n",
    "            row['mean_rating'] = m[m.index == row.title][0]\n",
    "            row['std_rating'] = std[std.index == row.title][0]\n",
    "            row['median_rating'] = med[med.index == row.title][0]\n",
    "    return row"
   ]
  },
  {
   "cell_type": "code",
   "execution_count": 164,
   "metadata": {},
   "outputs": [],
   "source": [
    "# movies = movies.apply(merging, axis=1)\n",
    "\n",
    "\n",
    "# Не могу взять для целей обучения Средние, медианные, значения, по-скольку невозможно внести впоследствии эти значения в таблицу  \n",
    "# Функция 'merging' работает бесконечно долго, точнее вообще не выполняется =("
   ]
  },
  {
   "cell_type": "code",
   "execution_count": null,
   "metadata": {},
   "outputs": [],
   "source": []
  }
 ],
 "metadata": {
  "kernelspec": {
   "display_name": "Python 3",
   "language": "python",
   "name": "python3"
  },
  "language_info": {
   "codemirror_mode": {
    "name": "ipython",
    "version": 3
   },
   "file_extension": ".py",
   "mimetype": "text/x-python",
   "name": "python",
   "nbconvert_exporter": "python",
   "pygments_lexer": "ipython3",
   "version": "3.7.6"
  }
 },
 "nbformat": 4,
 "nbformat_minor": 4
}
