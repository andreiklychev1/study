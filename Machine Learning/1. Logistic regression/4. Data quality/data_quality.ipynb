{
 "cells": [
  {
   "cell_type": "markdown",
   "metadata": {},
   "source": [
    "### Датасет \"Сорта бананов\""
   ]
  },
  {
   "cell_type": "markdown",
   "metadata": {},
   "source": [
    "Идея: определить сорт банана исходя из его длины, цвета кожуры и цвета мякоти, в значениях были искусственно созданы пропуски"
   ]
  },
  {
   "cell_type": "code",
   "execution_count": 1,
   "metadata": {},
   "outputs": [],
   "source": [
    "import numpy as np\n",
    "import pandas as pd\n",
    "import random"
   ]
  },
  {
   "cell_type": "code",
   "execution_count": 42,
   "metadata": {},
   "outputs": [],
   "source": [
    "cavendish_sm = [random.randint(15, 25) + np.random.random_sample() for i in range(100)]\n",
    "cavendish_skin = np.random.choice([1017, 1018, 1019, 1020, 1021, 1023, 1005], 100).reshape(1, 100)\n",
    "cavendish_pulp = np.random.choice([1013, 9001], 100).reshape(1, 100)\n",
    "cavendish = ['cavendish' for i in range(100)]\n",
    "data_cav = pd.DataFrame({'length': cavendish_sm, 'skin_color': cavendish_skin[0], \\\n",
    "                         'pulp_color': cavendish_pulp[0], 'banana_type': cavendish})"
   ]
  },
  {
   "cell_type": "code",
   "execution_count": 43,
   "metadata": {},
   "outputs": [],
   "source": [
    "baby_sm = [random.randint(5, 8) + np.random.random_sample() for i in range(100)]\n",
    "baby_skin = np.random.choice([1026, 1016, 1021], 100).reshape(1, 100)\n",
    "baby_pulp = np.random.choice([9001, 9010, 9016, 1013], 100).reshape(1, 100)\n",
    "baby = ['baby' for i in range(100)]\n",
    "data_baby = pd.DataFrame({'length': baby_sm, 'skin_color': baby_skin[0], \\\n",
    "                         'pulp_color': baby_pulp[0], 'banana_type': baby})"
   ]
  },
  {
   "cell_type": "code",
   "execution_count": 44,
   "metadata": {},
   "outputs": [],
   "source": [
    "ice_cream_sm = [random.randint(17, 22) + np.random.random_sample() for i in range(100)]\n",
    "ice_cream_skin = np.random.choice([1015, 1016, 6034, 6027, 5012], 100).reshape(1, 100)\n",
    "ice_cream_pulp = np.random.choice([4009, 1013, 1015], 100).reshape(1, 100)\n",
    "ice_cream = ['ice_cream' for i in range(100)]\n",
    "data_ice = pd.DataFrame({'length': ice_cream_sm, 'skin_color': ice_cream_skin[0], \\\n",
    "                         'pulp_color': ice_cream_pulp[0], 'banana_type': ice_cream})"
   ]
  },
  {
   "cell_type": "code",
   "execution_count": 45,
   "metadata": {},
   "outputs": [],
   "source": [
    "gro_michelle_sm = [random.randint(15, 25) + np.random.random_sample() for i in range(100)]\n",
    "gro_michelle_skin = np.random.choice([1021, 1018, 1026], 100).reshape(1, 100)\n",
    "gro_michelle_pulp = np.random.choice([1015, 1013, 9001, 9010], 100).reshape(1, 100)\n",
    "gro_michelle = ['gro_michelle' for i in range(100)]\n",
    "data_mich = pd.DataFrame({'length': gro_michelle_sm, 'skin_color': gro_michelle_skin[0], \\\n",
    "                         'pulp_color': gro_michelle_pulp[0], 'banana_type': gro_michelle})"
   ]
  },
  {
   "cell_type": "code",
   "execution_count": 46,
   "metadata": {},
   "outputs": [],
   "source": [
    "earthy_sm = [random.randint(22, 27) + np.random.random_sample() for i in range(100)]\n",
    "earthy_skin = np.random.choice([1021, 1026, 1018, 1016], 100).reshape(1, 100)\n",
    "earthy_pulp = np.random.choice([1028, 1033, 1017, 1014, 1003], 100).reshape(1, 100)\n",
    "earthy = ['earthy' for i in range(100)]\n",
    "data_earth = pd.DataFrame({'length': earthy_sm, 'skin_color': earthy_skin[0], \\\n",
    "                         'pulp_color': earthy_pulp[0], 'banana_type': earthy})"
   ]
  },
  {
   "cell_type": "code",
   "execution_count": 47,
   "metadata": {},
   "outputs": [],
   "source": [
    "burro_sm = [random.randint(12, 15) + np.random.random_sample() for i in range(100)]\n",
    "burro_skin = np.random.choice([1020, 6018], 100).reshape(1, 100)\n",
    "burro_pulp = np.random.choice([1028, 1033, 1014], 100).reshape(1, 100)\n",
    "burro = ['burro' for i in range(100)]\n",
    "data_bur = pd.DataFrame({'length': burro_sm, 'skin_color': burro_skin[0], \\\n",
    "                         'pulp_color': burro_pulp[0], 'banana_type': burro})"
   ]
  },
  {
   "cell_type": "code",
   "execution_count": 48,
   "metadata": {},
   "outputs": [],
   "source": [
    "green_sm = [random.randint(15, 20) + np.random.random_sample() for i in range(100)]\n",
    "green_skin = np.random.choice([6038, 6037, 6032, 6001], 100).reshape(1, 100)\n",
    "green_pulp = np.random.choice([1017, 1014, 1003], 100).reshape(1, 100)\n",
    "green = ['green' for i in range(100)]\n",
    "data_green = pd.DataFrame({'length': green_sm, 'skin_color': green_skin[0], \\\n",
    "                         'pulp_color': green_pulp[0], 'banana_type': green})"
   ]
  },
  {
   "cell_type": "code",
   "execution_count": 52,
   "metadata": {},
   "outputs": [],
   "source": [
    "data = pd.concat([data_cav, data_baby, data_ice, data_mich, data_bur, data_green])\n",
    "data = data.reset_index(drop=True)"
   ]
  },
  {
   "cell_type": "code",
   "execution_count": 53,
   "metadata": {},
   "outputs": [],
   "source": [
    "for _ in data.columns:\n",
    "    data.loc[np.random.randint(0, len(data)-1, int(0.1*len(data))), _] = np.nan"
   ]
  },
  {
   "cell_type": "code",
   "execution_count": 54,
   "metadata": {},
   "outputs": [
    {
     "data": {
      "text/plain": [
       "length         56\n",
       "skin_color     55\n",
       "pulp_color     58\n",
       "banana_type    58\n",
       "dtype: int64"
      ]
     },
     "execution_count": 54,
     "metadata": {},
     "output_type": "execute_result"
    }
   ],
   "source": [
    "data.isna().sum()"
   ]
  },
  {
   "cell_type": "code",
   "execution_count": 55,
   "metadata": {},
   "outputs": [
    {
     "data": {
      "text/html": [
       "<div>\n",
       "<style scoped>\n",
       "    .dataframe tbody tr th:only-of-type {\n",
       "        vertical-align: middle;\n",
       "    }\n",
       "\n",
       "    .dataframe tbody tr th {\n",
       "        vertical-align: top;\n",
       "    }\n",
       "\n",
       "    .dataframe thead th {\n",
       "        text-align: right;\n",
       "    }\n",
       "</style>\n",
       "<table border=\"1\" class=\"dataframe\">\n",
       "  <thead>\n",
       "    <tr style=\"text-align: right;\">\n",
       "      <th></th>\n",
       "      <th>length</th>\n",
       "      <th>skin_color</th>\n",
       "      <th>pulp_color</th>\n",
       "      <th>banana_type</th>\n",
       "    </tr>\n",
       "  </thead>\n",
       "  <tbody>\n",
       "    <tr>\n",
       "      <th>0</th>\n",
       "      <td>8.834785</td>\n",
       "      <td>1026.0</td>\n",
       "      <td>9010.0</td>\n",
       "      <td>baby</td>\n",
       "    </tr>\n",
       "    <tr>\n",
       "      <th>1</th>\n",
       "      <td>23.635206</td>\n",
       "      <td>1021.0</td>\n",
       "      <td>1013.0</td>\n",
       "      <td>gro_michelle</td>\n",
       "    </tr>\n",
       "    <tr>\n",
       "      <th>2</th>\n",
       "      <td>7.039562</td>\n",
       "      <td>1016.0</td>\n",
       "      <td>NaN</td>\n",
       "      <td>baby</td>\n",
       "    </tr>\n",
       "    <tr>\n",
       "      <th>3</th>\n",
       "      <td>25.837558</td>\n",
       "      <td>NaN</td>\n",
       "      <td>1013.0</td>\n",
       "      <td>NaN</td>\n",
       "    </tr>\n",
       "    <tr>\n",
       "      <th>4</th>\n",
       "      <td>22.356693</td>\n",
       "      <td>6027.0</td>\n",
       "      <td>NaN</td>\n",
       "      <td>NaN</td>\n",
       "    </tr>\n",
       "    <tr>\n",
       "      <th>...</th>\n",
       "      <td>...</td>\n",
       "      <td>...</td>\n",
       "      <td>...</td>\n",
       "      <td>...</td>\n",
       "    </tr>\n",
       "    <tr>\n",
       "      <th>595</th>\n",
       "      <td>22.430757</td>\n",
       "      <td>1016.0</td>\n",
       "      <td>4009.0</td>\n",
       "      <td>ice_cream</td>\n",
       "    </tr>\n",
       "    <tr>\n",
       "      <th>596</th>\n",
       "      <td>NaN</td>\n",
       "      <td>1020.0</td>\n",
       "      <td>1033.0</td>\n",
       "      <td>burro</td>\n",
       "    </tr>\n",
       "    <tr>\n",
       "      <th>597</th>\n",
       "      <td>13.964511</td>\n",
       "      <td>1020.0</td>\n",
       "      <td>1028.0</td>\n",
       "      <td>burro</td>\n",
       "    </tr>\n",
       "    <tr>\n",
       "      <th>598</th>\n",
       "      <td>18.123804</td>\n",
       "      <td>1026.0</td>\n",
       "      <td>1015.0</td>\n",
       "      <td>gro_michelle</td>\n",
       "    </tr>\n",
       "    <tr>\n",
       "      <th>599</th>\n",
       "      <td>24.621036</td>\n",
       "      <td>NaN</td>\n",
       "      <td>1013.0</td>\n",
       "      <td>cavendish</td>\n",
       "    </tr>\n",
       "  </tbody>\n",
       "</table>\n",
       "<p>600 rows × 4 columns</p>\n",
       "</div>"
      ],
      "text/plain": [
       "        length  skin_color  pulp_color   banana_type\n",
       "0     8.834785      1026.0      9010.0          baby\n",
       "1    23.635206      1021.0      1013.0  gro_michelle\n",
       "2     7.039562      1016.0         NaN          baby\n",
       "3    25.837558         NaN      1013.0           NaN\n",
       "4    22.356693      6027.0         NaN           NaN\n",
       "..         ...         ...         ...           ...\n",
       "595  22.430757      1016.0      4009.0     ice_cream\n",
       "596        NaN      1020.0      1033.0         burro\n",
       "597  13.964511      1020.0      1028.0         burro\n",
       "598  18.123804      1026.0      1015.0  gro_michelle\n",
       "599  24.621036         NaN      1013.0     cavendish\n",
       "\n",
       "[600 rows x 4 columns]"
      ]
     },
     "execution_count": 55,
     "metadata": {},
     "output_type": "execute_result"
    }
   ],
   "source": [
    "data = data.sample(frac=1).reset_index(drop=True)\n",
    "data"
   ]
  },
  {
   "cell_type": "code",
   "execution_count": 69,
   "metadata": {},
   "outputs": [],
   "source": [
    "from sklearn.linear_model import LogisticRegression\n",
    "from sklearn.model_selection import train_test_split\n",
    "from sklearn.preprocessing import LabelEncoder\n",
    "from sklearn.tree import DecisionTreeClassifier"
   ]
  },
  {
   "cell_type": "code",
   "execution_count": 62,
   "metadata": {},
   "outputs": [],
   "source": [
    "data = data.dropna()\n",
    "label = LabelEncoder()\n",
    "label.fit(data.banana_type)\n",
    "types = label.transform(data.banana_type)"
   ]
  },
  {
   "cell_type": "code",
   "execution_count": 63,
   "metadata": {},
   "outputs": [
    {
     "data": {
      "text/html": [
       "<div>\n",
       "<style scoped>\n",
       "    .dataframe tbody tr th:only-of-type {\n",
       "        vertical-align: middle;\n",
       "    }\n",
       "\n",
       "    .dataframe tbody tr th {\n",
       "        vertical-align: top;\n",
       "    }\n",
       "\n",
       "    .dataframe thead th {\n",
       "        text-align: right;\n",
       "    }\n",
       "</style>\n",
       "<table border=\"1\" class=\"dataframe\">\n",
       "  <thead>\n",
       "    <tr style=\"text-align: right;\">\n",
       "      <th></th>\n",
       "      <th>length</th>\n",
       "      <th>skin_color</th>\n",
       "      <th>pulp_color</th>\n",
       "      <th>banana_type</th>\n",
       "    </tr>\n",
       "  </thead>\n",
       "  <tbody>\n",
       "    <tr>\n",
       "      <th>0</th>\n",
       "      <td>8.834785</td>\n",
       "      <td>1026.0</td>\n",
       "      <td>9010.0</td>\n",
       "      <td>0</td>\n",
       "    </tr>\n",
       "    <tr>\n",
       "      <th>1</th>\n",
       "      <td>23.635206</td>\n",
       "      <td>1021.0</td>\n",
       "      <td>1013.0</td>\n",
       "      <td>4</td>\n",
       "    </tr>\n",
       "    <tr>\n",
       "      <th>5</th>\n",
       "      <td>21.333881</td>\n",
       "      <td>1021.0</td>\n",
       "      <td>9001.0</td>\n",
       "      <td>4</td>\n",
       "    </tr>\n",
       "    <tr>\n",
       "      <th>7</th>\n",
       "      <td>18.696304</td>\n",
       "      <td>1018.0</td>\n",
       "      <td>1013.0</td>\n",
       "      <td>2</td>\n",
       "    </tr>\n",
       "    <tr>\n",
       "      <th>8</th>\n",
       "      <td>17.046061</td>\n",
       "      <td>1026.0</td>\n",
       "      <td>9001.0</td>\n",
       "      <td>4</td>\n",
       "    </tr>\n",
       "    <tr>\n",
       "      <th>...</th>\n",
       "      <td>...</td>\n",
       "      <td>...</td>\n",
       "      <td>...</td>\n",
       "      <td>...</td>\n",
       "    </tr>\n",
       "    <tr>\n",
       "      <th>593</th>\n",
       "      <td>23.080907</td>\n",
       "      <td>1023.0</td>\n",
       "      <td>9001.0</td>\n",
       "      <td>2</td>\n",
       "    </tr>\n",
       "    <tr>\n",
       "      <th>594</th>\n",
       "      <td>7.794586</td>\n",
       "      <td>1016.0</td>\n",
       "      <td>9016.0</td>\n",
       "      <td>0</td>\n",
       "    </tr>\n",
       "    <tr>\n",
       "      <th>595</th>\n",
       "      <td>22.430757</td>\n",
       "      <td>1016.0</td>\n",
       "      <td>4009.0</td>\n",
       "      <td>5</td>\n",
       "    </tr>\n",
       "    <tr>\n",
       "      <th>597</th>\n",
       "      <td>13.964511</td>\n",
       "      <td>1020.0</td>\n",
       "      <td>1028.0</td>\n",
       "      <td>1</td>\n",
       "    </tr>\n",
       "    <tr>\n",
       "      <th>598</th>\n",
       "      <td>18.123804</td>\n",
       "      <td>1026.0</td>\n",
       "      <td>1015.0</td>\n",
       "      <td>4</td>\n",
       "    </tr>\n",
       "  </tbody>\n",
       "</table>\n",
       "<p>396 rows × 4 columns</p>\n",
       "</div>"
      ],
      "text/plain": [
       "        length  skin_color  pulp_color  banana_type\n",
       "0     8.834785      1026.0      9010.0            0\n",
       "1    23.635206      1021.0      1013.0            4\n",
       "5    21.333881      1021.0      9001.0            4\n",
       "7    18.696304      1018.0      1013.0            2\n",
       "8    17.046061      1026.0      9001.0            4\n",
       "..         ...         ...         ...          ...\n",
       "593  23.080907      1023.0      9001.0            2\n",
       "594   7.794586      1016.0      9016.0            0\n",
       "595  22.430757      1016.0      4009.0            5\n",
       "597  13.964511      1020.0      1028.0            1\n",
       "598  18.123804      1026.0      1015.0            4\n",
       "\n",
       "[396 rows x 4 columns]"
      ]
     },
     "execution_count": 63,
     "metadata": {},
     "output_type": "execute_result"
    }
   ],
   "source": [
    "data.banana_type = types\n",
    "data"
   ]
  },
  {
   "cell_type": "code",
   "execution_count": 66,
   "metadata": {},
   "outputs": [],
   "source": [
    "x_train, x_test, y_train, y_test = train_test_split(data.drop(['banana_type'], axis=1), data.banana_type, test_size=0.2)"
   ]
  },
  {
   "cell_type": "code",
   "execution_count": 71,
   "metadata": {},
   "outputs": [],
   "source": [
    "model = DecisionTreeClassifier()\n",
    "model.fit(x_train, y_train)\n",
    "y_pred = model.predict(x_test)"
   ]
  },
  {
   "cell_type": "code",
   "execution_count": 98,
   "metadata": {},
   "outputs": [
    {
     "name": "stdout",
     "output_type": "stream",
     "text": [
      "              precision    recall  f1-score   support\n",
      "\n",
      "           0       1.00      1.00      1.00        17\n",
      "           1       1.00      1.00      1.00        14\n",
      "           2       0.77      0.83      0.80        12\n",
      "           3       1.00      1.00      1.00        13\n",
      "           4       0.83      0.77      0.80        13\n",
      "           5       1.00      1.00      1.00        11\n",
      "\n",
      "    accuracy                           0.94        80\n",
      "   macro avg       0.93      0.93      0.93        80\n",
      "weighted avg       0.94      0.94      0.94        80\n",
      "\n"
     ]
    }
   ],
   "source": [
    "from sklearn.metrics import classification_report\n",
    "print(classification_report(y_pred, y_test))"
   ]
  },
  {
   "cell_type": "code",
   "execution_count": 97,
   "metadata": {},
   "outputs": [
    {
     "data": {
      "text/plain": [
       "array(['cavendish'], dtype=object)"
      ]
     },
     "execution_count": 97,
     "metadata": {},
     "output_type": "execute_result"
    }
   ],
   "source": [
    "x = np.array([17, 1020, 1013]).reshape(1, -1)\n",
    "label.inverse_transform(model.predict(x))"
   ]
  },
  {
   "cell_type": "markdown",
   "metadata": {},
   "source": [
    "Действительно работает)"
   ]
  },
  {
   "cell_type": "markdown",
   "metadata": {},
   "source": [
    "В этом задании можно было бы более аккуратно отнестить к обработке пропусков, например:\n",
    "Восстановить признаки по трем остальным (вместе с ключевой меткой) обучив модель дерева решений"
   ]
  },
  {
   "cell_type": "code",
   "execution_count": null,
   "metadata": {},
   "outputs": [],
   "source": []
  }
 ],
 "metadata": {
  "kernelspec": {
   "display_name": "Python 3",
   "language": "python",
   "name": "python3"
  },
  "language_info": {
   "codemirror_mode": {
    "name": "ipython",
    "version": 3
   },
   "file_extension": ".py",
   "mimetype": "text/x-python",
   "name": "python",
   "nbconvert_exporter": "python",
   "pygments_lexer": "ipython3",
   "version": "3.7.6"
  }
 },
 "nbformat": 4,
 "nbformat_minor": 4
}
