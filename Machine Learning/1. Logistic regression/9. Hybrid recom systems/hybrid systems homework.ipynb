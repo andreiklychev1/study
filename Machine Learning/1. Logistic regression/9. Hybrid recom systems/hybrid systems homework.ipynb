{
 "cells": [
  {
   "cell_type": "code",
   "execution_count": 1,
   "metadata": {},
   "outputs": [],
   "source": [
    "import numpy as np\n",
    "import pandas as pd"
   ]
  },
  {
   "cell_type": "code",
   "execution_count": 2,
   "metadata": {},
   "outputs": [],
   "source": [
    "df = pd.read_csv('D:\\\\Загрузки\\\\ml-latest\\\\movies_ratings.csv')"
   ]
  },
  {
   "cell_type": "code",
   "execution_count": 3,
   "metadata": {},
   "outputs": [
    {
     "data": {
      "text/html": [
       "<div>\n",
       "<style scoped>\n",
       "    .dataframe tbody tr th:only-of-type {\n",
       "        vertical-align: middle;\n",
       "    }\n",
       "\n",
       "    .dataframe tbody tr th {\n",
       "        vertical-align: top;\n",
       "    }\n",
       "\n",
       "    .dataframe thead th {\n",
       "        text-align: right;\n",
       "    }\n",
       "</style>\n",
       "<table border=\"1\" class=\"dataframe\">\n",
       "  <thead>\n",
       "    <tr style=\"text-align: right;\">\n",
       "      <th></th>\n",
       "      <th>uId</th>\n",
       "      <th>iId</th>\n",
       "      <th>rating</th>\n",
       "    </tr>\n",
       "  </thead>\n",
       "  <tbody>\n",
       "    <tr>\n",
       "      <th>0</th>\n",
       "      <td>4.0</td>\n",
       "      <td>Toy Story (1995)</td>\n",
       "      <td>4.0</td>\n",
       "    </tr>\n",
       "    <tr>\n",
       "      <th>1</th>\n",
       "      <td>10.0</td>\n",
       "      <td>Toy Story (1995)</td>\n",
       "      <td>5.0</td>\n",
       "    </tr>\n",
       "    <tr>\n",
       "      <th>2</th>\n",
       "      <td>14.0</td>\n",
       "      <td>Toy Story (1995)</td>\n",
       "      <td>4.5</td>\n",
       "    </tr>\n",
       "    <tr>\n",
       "      <th>3</th>\n",
       "      <td>15.0</td>\n",
       "      <td>Toy Story (1995)</td>\n",
       "      <td>4.0</td>\n",
       "    </tr>\n",
       "    <tr>\n",
       "      <th>4</th>\n",
       "      <td>22.0</td>\n",
       "      <td>Toy Story (1995)</td>\n",
       "      <td>4.0</td>\n",
       "    </tr>\n",
       "    <tr>\n",
       "      <th>...</th>\n",
       "      <td>...</td>\n",
       "      <td>...</td>\n",
       "      <td>...</td>\n",
       "    </tr>\n",
       "    <tr>\n",
       "      <th>1570727</th>\n",
       "      <td>15476.0</td>\n",
       "      <td>Someone (2016)</td>\n",
       "      <td>2.0</td>\n",
       "    </tr>\n",
       "    <tr>\n",
       "      <th>1570728</th>\n",
       "      <td>11655.0</td>\n",
       "      <td>The Fencing Master (1992)</td>\n",
       "      <td>3.0</td>\n",
       "    </tr>\n",
       "    <tr>\n",
       "      <th>1570729</th>\n",
       "      <td>4871.0</td>\n",
       "      <td>Empowered (2018)</td>\n",
       "      <td>2.0</td>\n",
       "    </tr>\n",
       "    <tr>\n",
       "      <th>1570730</th>\n",
       "      <td>4226.0</td>\n",
       "      <td>Raazi (2018)</td>\n",
       "      <td>4.0</td>\n",
       "    </tr>\n",
       "    <tr>\n",
       "      <th>1570731</th>\n",
       "      <td>1686.0</td>\n",
       "      <td>Cold Harvest (1998)</td>\n",
       "      <td>3.0</td>\n",
       "    </tr>\n",
       "  </tbody>\n",
       "</table>\n",
       "<p>1570732 rows × 3 columns</p>\n",
       "</div>"
      ],
      "text/plain": [
       "             uId                        iId  rating\n",
       "0            4.0           Toy Story (1995)     4.0\n",
       "1           10.0           Toy Story (1995)     5.0\n",
       "2           14.0           Toy Story (1995)     4.5\n",
       "3           15.0           Toy Story (1995)     4.0\n",
       "4           22.0           Toy Story (1995)     4.0\n",
       "...          ...                        ...     ...\n",
       "1570727  15476.0             Someone (2016)     2.0\n",
       "1570728  11655.0  The Fencing Master (1992)     3.0\n",
       "1570729   4871.0           Empowered (2018)     2.0\n",
       "1570730   4226.0               Raazi (2018)     4.0\n",
       "1570731   1686.0        Cold Harvest (1998)     3.0\n",
       "\n",
       "[1570732 rows x 3 columns]"
      ]
     },
     "execution_count": 3,
     "metadata": {},
     "output_type": "execute_result"
    }
   ],
   "source": [
    "df = df.drop(['Unnamed: 0'], axis=1)\n",
    "df"
   ]
  },
  {
   "cell_type": "code",
   "execution_count": 4,
   "metadata": {},
   "outputs": [],
   "source": [
    "# 1 вариант - блендинг из функций: SVD, KNeighbors\n",
    "# В результате набюдений было принято решение не использовать SVD, так как он сильно лучше предсказывает остальных алгоритмов\n"
   ]
  },
  {
   "cell_type": "code",
   "execution_count": 252,
   "metadata": {},
   "outputs": [],
   "source": [
    "df_e = df.sample(frac=1, replace=True).reset_index(drop=True)\n",
    "data = df_e.loc[:150000, :]"
   ]
  },
  {
   "cell_type": "code",
   "execution_count": 275,
   "metadata": {},
   "outputs": [
    {
     "data": {
      "text/html": [
       "<div>\n",
       "<style scoped>\n",
       "    .dataframe tbody tr th:only-of-type {\n",
       "        vertical-align: middle;\n",
       "    }\n",
       "\n",
       "    .dataframe tbody tr th {\n",
       "        vertical-align: top;\n",
       "    }\n",
       "\n",
       "    .dataframe thead th {\n",
       "        text-align: right;\n",
       "    }\n",
       "</style>\n",
       "<table border=\"1\" class=\"dataframe\">\n",
       "  <thead>\n",
       "    <tr style=\"text-align: right;\">\n",
       "      <th></th>\n",
       "      <th>uId</th>\n",
       "      <th>iId</th>\n",
       "      <th>rating</th>\n",
       "    </tr>\n",
       "  </thead>\n",
       "  <tbody>\n",
       "    <tr>\n",
       "      <th>0</th>\n",
       "      <td>7036.0</td>\n",
       "      <td>Pitch Black (2000)</td>\n",
       "      <td>3.0</td>\n",
       "    </tr>\n",
       "    <tr>\n",
       "      <th>1</th>\n",
       "      <td>14346.0</td>\n",
       "      <td>Night of the Living Dead (1968)</td>\n",
       "      <td>4.0</td>\n",
       "    </tr>\n",
       "    <tr>\n",
       "      <th>2</th>\n",
       "      <td>9917.0</td>\n",
       "      <td>Galaxy Quest (1999)</td>\n",
       "      <td>4.0</td>\n",
       "    </tr>\n",
       "    <tr>\n",
       "      <th>3</th>\n",
       "      <td>9916.0</td>\n",
       "      <td>Flintstones, The (1994)</td>\n",
       "      <td>2.5</td>\n",
       "    </tr>\n",
       "    <tr>\n",
       "      <th>4</th>\n",
       "      <td>11201.0</td>\n",
       "      <td>Hook (1991)</td>\n",
       "      <td>3.5</td>\n",
       "    </tr>\n",
       "    <tr>\n",
       "      <th>...</th>\n",
       "      <td>...</td>\n",
       "      <td>...</td>\n",
       "      <td>...</td>\n",
       "    </tr>\n",
       "    <tr>\n",
       "      <th>149996</th>\n",
       "      <td>15259.0</td>\n",
       "      <td>Philadelphia (1993)</td>\n",
       "      <td>3.0</td>\n",
       "    </tr>\n",
       "    <tr>\n",
       "      <th>149997</th>\n",
       "      <td>14061.0</td>\n",
       "      <td>Annie (1982)</td>\n",
       "      <td>4.0</td>\n",
       "    </tr>\n",
       "    <tr>\n",
       "      <th>149998</th>\n",
       "      <td>15645.0</td>\n",
       "      <td>Sherlock Holmes: A Game of Shadows (2011)</td>\n",
       "      <td>4.5</td>\n",
       "    </tr>\n",
       "    <tr>\n",
       "      <th>149999</th>\n",
       "      <td>9498.0</td>\n",
       "      <td>The Martian (2015)</td>\n",
       "      <td>4.5</td>\n",
       "    </tr>\n",
       "    <tr>\n",
       "      <th>150000</th>\n",
       "      <td>14702.0</td>\n",
       "      <td>Deadly Friend (1986)</td>\n",
       "      <td>5.0</td>\n",
       "    </tr>\n",
       "  </tbody>\n",
       "</table>\n",
       "<p>150001 rows × 3 columns</p>\n",
       "</div>"
      ],
      "text/plain": [
       "            uId                                        iId  rating\n",
       "0        7036.0                         Pitch Black (2000)     3.0\n",
       "1       14346.0            Night of the Living Dead (1968)     4.0\n",
       "2        9917.0                        Galaxy Quest (1999)     4.0\n",
       "3        9916.0                    Flintstones, The (1994)     2.5\n",
       "4       11201.0                                Hook (1991)     3.5\n",
       "...         ...                                        ...     ...\n",
       "149996  15259.0                        Philadelphia (1993)     3.0\n",
       "149997  14061.0                               Annie (1982)     4.0\n",
       "149998  15645.0  Sherlock Holmes: A Game of Shadows (2011)     4.5\n",
       "149999   9498.0                         The Martian (2015)     4.5\n",
       "150000  14702.0                       Deadly Friend (1986)     5.0\n",
       "\n",
       "[150001 rows x 3 columns]"
      ]
     },
     "execution_count": 275,
     "metadata": {},
     "output_type": "execute_result"
    }
   ],
   "source": [
    "data"
   ]
  },
  {
   "cell_type": "code",
   "execution_count": 254,
   "metadata": {},
   "outputs": [],
   "source": [
    "from surprise import KNNBasic\n",
    "from surprise import Dataset\n",
    "from surprise import accuracy\n",
    "from surprise import Reader\n",
    "from surprise.model_selection import train_test_split\n",
    "from surprise import SVD\n",
    "from surprise import NormalPredictor, KNNWithMeans\n",
    "# from implicit.als import AlternatingLeastSquares\n",
    "# import scipy.sparse as sparse"
   ]
  },
  {
   "cell_type": "code",
   "execution_count": 255,
   "metadata": {},
   "outputs": [],
   "source": [
    "import os\n",
    "os.environ['MKL_NUM_THREADS'] = '1'"
   ]
  },
  {
   "cell_type": "code",
   "execution_count": 276,
   "metadata": {},
   "outputs": [],
   "source": [
    "# als = AlternatingLeastSquares(factors=20)\n",
    "k_model = KNNBasic(k=50, sim_options={'name': 'cosine', 'user_based': True})\n",
    "norm_p = NormalPredictor()\n",
    "k_means = KNNWithMeans()\n",
    "svd = SVD()"
   ]
  },
  {
   "cell_type": "code",
   "execution_count": 277,
   "metadata": {},
   "outputs": [],
   "source": [
    "reader = Reader(rating_scale=(0.5, 5))\n",
    "dataset = Dataset.load_from_df(data, reader)\n",
    "train_set, test_set = train_test_split(dataset, test_size=0.2)"
   ]
  },
  {
   "cell_type": "code",
   "execution_count": 279,
   "metadata": {},
   "outputs": [
    {
     "name": "stdout",
     "output_type": "stream",
     "text": [
      "Computing the cosine similarity matrix...\n",
      "Done computing similarity matrix.\n",
      "RMSE: 1.0637\n"
     ]
    },
    {
     "data": {
      "text/plain": [
       "1.0636844250777784"
      ]
     },
     "execution_count": 279,
     "metadata": {},
     "output_type": "execute_result"
    }
   ],
   "source": [
    "# Точность метода Ближайших К соседей\n",
    "k_model.fit(train_set)\n",
    "pred_k = k_model.test(test_set)\n",
    "accuracy.rmse(pred_k, verbose=True)"
   ]
  },
  {
   "cell_type": "code",
   "execution_count": 280,
   "metadata": {},
   "outputs": [
    {
     "name": "stdout",
     "output_type": "stream",
     "text": [
      "RMSE: 1.4766\n"
     ]
    },
    {
     "data": {
      "text/plain": [
       "1.4765534072209208"
      ]
     },
     "execution_count": 280,
     "metadata": {},
     "output_type": "execute_result"
    }
   ],
   "source": [
    "# Точность метода разброса по нормальному распределению\n",
    "norm_p.fit(train_set)\n",
    "p_pred = norm_p.test(test_set)\n",
    "accuracy.rmse(p_pred, verbose=True)"
   ]
  },
  {
   "cell_type": "code",
   "execution_count": 281,
   "metadata": {},
   "outputs": [
    {
     "name": "stdout",
     "output_type": "stream",
     "text": [
      "Computing the msd similarity matrix...\n",
      "Done computing similarity matrix.\n",
      "RMSE: 1.0032\n"
     ]
    },
    {
     "data": {
      "text/plain": [
       "1.0031780274321886"
      ]
     },
     "execution_count": 281,
     "metadata": {},
     "output_type": "execute_result"
    }
   ],
   "source": [
    "# Точность метода Ближайших К соседей с учетом средних\n",
    "k_means.fit(train_set)\n",
    "k_pred = k_means.test(test_set)\n",
    "accuracy.rmse(k_pred, verbose=True)"
   ]
  },
  {
   "cell_type": "markdown",
   "metadata": {},
   "source": [
    "##### Результаты предсказаний каждого метода занесем в списки, для решения задачи линейной регрессии"
   ]
  },
  {
   "cell_type": "code",
   "execution_count": 282,
   "metadata": {},
   "outputs": [],
   "source": [
    "k = []\n",
    "s = []\n",
    "l = []\n",
    "y = []\n",
    "for _ in test_set:\n",
    "    k.append(k_model.predict(uid=_[0], iid=_[1]))\n",
    "    s.append(norm_p.predict(uid=_[0], iid=_[1]))\n",
    "    l.append(k_means.predict(uid=_[0], iid=_[1])) \n",
    "    \n",
    "for c in range(len(test_set)):    \n",
    "    y.append(test_set[c][2])"
   ]
  },
  {
   "cell_type": "code",
   "execution_count": 287,
   "metadata": {},
   "outputs": [
    {
     "name": "stdout",
     "output_type": "stream",
     "text": [
      "user: 589.0      item: Dead Poets Society (1989) r_ui = None   est = 3.91   {'actual_k': 27, 'was_impossible': False}\n",
      "user: 589.0      item: Dead Poets Society (1989) r_ui = None   est = 2.06   {'was_impossible': False}\n",
      "user: 589.0      item: Dead Poets Society (1989) r_ui = None   est = 4.22   {'actual_k': 27, 'was_impossible': False}\n"
     ]
    }
   ],
   "source": [
    "print(k_model.predict(uid=test_set[1][0], iid=test_set[1][1]))\n",
    "print(norm_p.predict(uid=test_set[1][0], iid=test_set[1][1]))\n",
    "print(k_means.predict(uid=test_set[1][0], iid=test_set[1][1]))"
   ]
  },
  {
   "cell_type": "code",
   "execution_count": 288,
   "metadata": {},
   "outputs": [],
   "source": [
    "array = []\n",
    "for i in range(len(k)):\n",
    "    array.append((k[i][3], s[i][3], l[i][3]))"
   ]
  },
  {
   "cell_type": "code",
   "execution_count": 301,
   "metadata": {},
   "outputs": [
    {
     "data": {
      "text/plain": [
       "Ridge(alpha=1000)"
      ]
     },
     "execution_count": 301,
     "metadata": {},
     "output_type": "execute_result"
    }
   ],
   "source": [
    "from sklearn.linear_model import LinearRegression, Ridge, Lasso, LogisticRegression\n",
    "from sklearn.metrics import mean_squared_error\n",
    "# from sklearn.pipeline import Pipeline\n",
    "# from sklearn.preprocessing import PolynomialFeatures\n",
    "\n",
    "# pipeline = Pipeline([('poly', PolynomialFeatures()), ('linear', LinearRegression()), ('ridge', Ridge())])\n",
    "\n",
    "model = Ridge(alpha=1000)\n",
    "model.fit(X=array, y=y)\n"
   ]
  },
  {
   "cell_type": "markdown",
   "metadata": {},
   "source": [
    "Для нахождения коэфицеентов применена модель Ridge(), так как на лицо разбалансировка в итоговых коэфицеентах  \n",
    "и на мой взгляд необходима регуляризация"
   ]
  },
  {
   "cell_type": "code",
   "execution_count": 302,
   "metadata": {},
   "outputs": [
    {
     "name": "stdout",
     "output_type": "stream",
     "text": [
      "[0.0675363  0.00335953 0.57849684]\n",
      "1.2147977232952254\n"
     ]
    }
   ],
   "source": [
    "print(model.coef_)\n",
    "print(model.intercept_)"
   ]
  },
  {
   "cell_type": "code",
   "execution_count": 303,
   "metadata": {},
   "outputs": [],
   "source": [
    "preds = [model.predict(np.array(array[h]).reshape(1, -1)) for h in range(len(array))]"
   ]
  },
  {
   "cell_type": "code",
   "execution_count": 304,
   "metadata": {},
   "outputs": [
    {
     "data": {
      "text/plain": [
       "0.9274817111425432"
      ]
     },
     "execution_count": 304,
     "metadata": {},
     "output_type": "execute_result"
    }
   ],
   "source": [
    "mean_squared_error(y, preds)"
   ]
  },
  {
   "cell_type": "markdown",
   "metadata": {},
   "source": [
    "Итоговая ошибка, действительно получилась меньше, чем у каждого метода отдельно"
   ]
  }
 ],
 "metadata": {
  "kernelspec": {
   "display_name": "Python 3",
   "language": "python",
   "name": "python3"
  },
  "language_info": {
   "codemirror_mode": {
    "name": "ipython",
    "version": 3
   },
   "file_extension": ".py",
   "mimetype": "text/x-python",
   "name": "python",
   "nbconvert_exporter": "python",
   "pygments_lexer": "ipython3",
   "version": "3.7.6"
  }
 },
 "nbformat": 4,
 "nbformat_minor": 4
}
