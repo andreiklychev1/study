{
 "cells": [
  {
   "cell_type": "code",
   "execution_count": 1,
   "metadata": {},
   "outputs": [],
   "source": [
    "import numpy as np\n",
    "import pandas as pd\n",
    "import matplotlib\n",
    "from matplotlib import pyplot as plt\n",
    "from sklearn.linear_model import LinearRegression\n",
    "matplotlib.rcParams['figure.figsize'] = [10, 7]"
   ]
  },
  {
   "cell_type": "markdown",
   "metadata": {},
   "source": [
    "basic function h(x) = a1*x1 + x0"
   ]
  },
  {
   "cell_type": "code",
   "execution_count": 59,
   "metadata": {},
   "outputs": [],
   "source": [
    "from sklearn import datasets\n",
    "data = datasets.load_iris()\n",
    "iris = pd.DataFrame(data=data['data'], columns=data['feature_names'])\n",
    "df = iris.copy(deep=True)\n",
    "df['target'] = data['target']"
   ]
  },
  {
   "cell_type": "code",
   "execution_count": 60,
   "metadata": {},
   "outputs": [
    {
     "data": {
      "text/html": [
       "<div>\n",
       "<style scoped>\n",
       "    .dataframe tbody tr th:only-of-type {\n",
       "        vertical-align: middle;\n",
       "    }\n",
       "\n",
       "    .dataframe tbody tr th {\n",
       "        vertical-align: top;\n",
       "    }\n",
       "\n",
       "    .dataframe thead th {\n",
       "        text-align: right;\n",
       "    }\n",
       "</style>\n",
       "<table border=\"1\" class=\"dataframe\">\n",
       "  <thead>\n",
       "    <tr style=\"text-align: right;\">\n",
       "      <th></th>\n",
       "      <th>sepal length (cm)</th>\n",
       "      <th>sepal width (cm)</th>\n",
       "      <th>petal length (cm)</th>\n",
       "      <th>petal width (cm)</th>\n",
       "    </tr>\n",
       "  </thead>\n",
       "  <tbody>\n",
       "    <tr>\n",
       "      <th>50</th>\n",
       "      <td>7.0</td>\n",
       "      <td>3.2</td>\n",
       "      <td>4.7</td>\n",
       "      <td>1.4</td>\n",
       "    </tr>\n",
       "    <tr>\n",
       "      <th>51</th>\n",
       "      <td>6.4</td>\n",
       "      <td>3.2</td>\n",
       "      <td>4.5</td>\n",
       "      <td>1.5</td>\n",
       "    </tr>\n",
       "    <tr>\n",
       "      <th>52</th>\n",
       "      <td>6.9</td>\n",
       "      <td>3.1</td>\n",
       "      <td>4.9</td>\n",
       "      <td>1.5</td>\n",
       "    </tr>\n",
       "    <tr>\n",
       "      <th>53</th>\n",
       "      <td>5.5</td>\n",
       "      <td>2.3</td>\n",
       "      <td>4.0</td>\n",
       "      <td>1.3</td>\n",
       "    </tr>\n",
       "    <tr>\n",
       "      <th>54</th>\n",
       "      <td>6.5</td>\n",
       "      <td>2.8</td>\n",
       "      <td>4.6</td>\n",
       "      <td>1.5</td>\n",
       "    </tr>\n",
       "    <tr>\n",
       "      <th>...</th>\n",
       "      <td>...</td>\n",
       "      <td>...</td>\n",
       "      <td>...</td>\n",
       "      <td>...</td>\n",
       "    </tr>\n",
       "    <tr>\n",
       "      <th>145</th>\n",
       "      <td>6.7</td>\n",
       "      <td>3.0</td>\n",
       "      <td>5.2</td>\n",
       "      <td>2.3</td>\n",
       "    </tr>\n",
       "    <tr>\n",
       "      <th>146</th>\n",
       "      <td>6.3</td>\n",
       "      <td>2.5</td>\n",
       "      <td>5.0</td>\n",
       "      <td>1.9</td>\n",
       "    </tr>\n",
       "    <tr>\n",
       "      <th>147</th>\n",
       "      <td>6.5</td>\n",
       "      <td>3.0</td>\n",
       "      <td>5.2</td>\n",
       "      <td>2.0</td>\n",
       "    </tr>\n",
       "    <tr>\n",
       "      <th>148</th>\n",
       "      <td>6.2</td>\n",
       "      <td>3.4</td>\n",
       "      <td>5.4</td>\n",
       "      <td>2.3</td>\n",
       "    </tr>\n",
       "    <tr>\n",
       "      <th>149</th>\n",
       "      <td>5.9</td>\n",
       "      <td>3.0</td>\n",
       "      <td>5.1</td>\n",
       "      <td>1.8</td>\n",
       "    </tr>\n",
       "  </tbody>\n",
       "</table>\n",
       "<p>100 rows × 4 columns</p>\n",
       "</div>"
      ],
      "text/plain": [
       "     sepal length (cm)  sepal width (cm)  petal length (cm)  petal width (cm)\n",
       "50                 7.0               3.2                4.7               1.4\n",
       "51                 6.4               3.2                4.5               1.5\n",
       "52                 6.9               3.1                4.9               1.5\n",
       "53                 5.5               2.3                4.0               1.3\n",
       "54                 6.5               2.8                4.6               1.5\n",
       "..                 ...               ...                ...               ...\n",
       "145                6.7               3.0                5.2               2.3\n",
       "146                6.3               2.5                5.0               1.9\n",
       "147                6.5               3.0                5.2               2.0\n",
       "148                6.2               3.4                5.4               2.3\n",
       "149                5.9               3.0                5.1               1.8\n",
       "\n",
       "[100 rows x 4 columns]"
      ]
     },
     "execution_count": 60,
     "metadata": {},
     "output_type": "execute_result"
    }
   ],
   "source": [
    "iris['target'] = df.target\n",
    "iris = iris[iris.target != 0]\n",
    "iris = iris.drop(['target'], axis=1)\n",
    "iris"
   ]
  },
  {
   "cell_type": "code",
   "execution_count": 61,
   "metadata": {},
   "outputs": [],
   "source": [
    "x = np.array(iris)\n",
    "y = np.array(df[df.target!=0].target)\n"
   ]
  },
  {
   "cell_type": "code",
   "execution_count": 62,
   "metadata": {},
   "outputs": [],
   "source": [
    "X = np.c_[np.ones(100), x]"
   ]
  },
  {
   "cell_type": "code",
   "execution_count": 63,
   "metadata": {},
   "outputs": [],
   "source": [
    "# Y = np.array([3, 5, 5, 6, 11])\n",
    "# X = np.array([np.ones(5), np.array([0, 1, 2, 3, 4])])\n",
    "\n",
    "\n",
    "def loss_function(n_iter):\n",
    "    alpha = 0.01\n",
    "    loss = []\n",
    "    thetas = np.ones((100, 2))\n",
    "    theta = np.array([1, 1, 1, 1, 1])\n",
    "    history = []\n",
    "    gradients = []\n",
    "    for _ in range(n_iter):\n",
    "        sigmoid = 1/(1-np.exp(-np.dot(X, theta)))\n",
    "        J = (1/200)*np.sum(np.square(np.dot(X, theta) - y))\n",
    "        loss.append(J)\n",
    "        \n",
    "        \n",
    "        grad = X.T.dot(X.dot(theta)-y)/100\n",
    "        theta = theta - alpha*grad\n",
    "        history.append(theta)\n",
    "        gradients.append(grad)\n",
    "    return loss, theta, history, gradients"
   ]
  },
  {
   "cell_type": "code",
   "execution_count": 64,
   "metadata": {},
   "outputs": [],
   "source": [
    "def loss_function(n_iter):\n",
    "    alpha = 0.01\n",
    "    loss = []\n",
    "    thetas = np.ones((100, 2))\n",
    "    theta = np.array([1, 1, 1, 1, 1])\n",
    "    history = []\n",
    "    gradients = []\n",
    "    for _ in range(n_iter):\n",
    "        sigmoid = 1/(1-np.exp(-np.dot(X, theta)))\n",
    "        J = (1/(2*len(y)))*np.sum(np.square(sigmoid - y))\n",
    "        loss.append(J)\n",
    "        \n",
    "        \n",
    "        grad = X.T.dot(X.dot(theta)-y)/100\n",
    "        theta = theta - alpha*grad\n",
    "        history.append(theta)\n",
    "        gradients.append(grad)\n",
    "    return loss, theta, history, gradients"
   ]
  },
  {
   "cell_type": "code",
   "execution_count": 65,
   "metadata": {},
   "outputs": [],
   "source": [
    "l, t, h, g = loss_function(2000)"
   ]
  },
  {
   "cell_type": "code",
   "execution_count": null,
   "metadata": {},
   "outputs": [],
   "source": []
  },
  {
   "cell_type": "code",
   "execution_count": 66,
   "metadata": {},
   "outputs": [
    {
     "data": {
      "image/png": "[encoded data removed]",
      "text/plain": [
       "<Figure size 720x504 with 1 Axes>"
      ]
     },
     "metadata": {
      "needs_background": "light"
     },
     "output_type": "display_data"
    }
   ],
   "source": [
    "z = np.linspace(1, 20, len(l))\n",
    "plt.scatter(z, l)\n",
    "plt.title('График функции ошибки для метода градиентного спуска')\n",
    "plt.grid()\n",
    "plt.show()"
   ]
  },
  {
   "cell_type": "code",
   "execution_count": 10,
   "metadata": {},
   "outputs": [],
   "source": [
    "def print_accuracy(theta):\n",
    "    preds = []\n",
    "    for _ in range(len(X)):\n",
    "        pred = np.dot(X[_], theta.T)\n",
    "        preds.append(pred)\n",
    "    compare = np.array(preds)\n",
    "    comp = np.c_[y, compare]\n",
    "    err = []\n",
    "    for _ in comp:\n",
    "        err.append(abs(_[0] - _[1]))\n",
    "    error = pd.DataFrame(err)\n",
    "    print('Точность оценки {:.2%}'.format((1-error.mean()[0])))"
   ]
  },
  {
   "cell_type": "code",
   "execution_count": 11,
   "metadata": {},
   "outputs": [
    {
     "name": "stdout",
     "output_type": "stream",
     "text": [
      "Точность оценки 81.09%\n"
     ]
    }
   ],
   "source": [
    "print_accuracy(t)"
   ]
  },
  {
   "cell_type": "markdown",
   "metadata": {},
   "source": [
    "Получилось поменьше чем дает лог регрессия в sklearn"
   ]
  },
  {
   "cell_type": "code",
   "execution_count": 12,
   "metadata": {},
   "outputs": [],
   "source": [
    "lin_x = np.linspace(1, 20, 100)\n",
    "lin_y = 3*lin_x + 3 + lin_x**2 + 30*np.random.randn(100)\n",
    "lin_f = 3*lin_x + 3 + lin_x**2"
   ]
  },
  {
   "cell_type": "code",
   "execution_count": 13,
   "metadata": {},
   "outputs": [],
   "source": [
    "# Реализуем метод скользящего среднего для функции lin_у (выше)\n",
    "gamma = 0.9\n",
    "Vt = []\n",
    "for _ in range(len(lin_y)):\n",
    "    try:\n",
    "        Vavg = (lin_y[_] + lin_y[_+1] + lin_y[_+2] + lin_y[_+3]\\\n",
    "                + lin_y[_+4] + lin_y[_+5] + lin_y[_+6] + lin_y[_+7]\\\n",
    "               + lin_y[_+8] + lin_y[_+9] + lin_y[_+10] + lin_y[_+11]\\\n",
    "               + lin_y[_+12] + lin_y[_+13] + lin_y[_+14] + lin_y[_+15])/16\n",
    "        V = lin_y[_+16]*(1-gamma) + (gamma)*Vavg\n",
    "        Vt.append(V)\n",
    "    except:\n",
    "        pass"
   ]
  },
  {
   "cell_type": "markdown",
   "metadata": {},
   "source": [
    "На графике ниже продемонстрирован принцип сглаживания кривой на основе скользящего среднего  \n",
    "Метод Нестерова предлагает нам (как я понял) использовать функцию скользящего среднего для оптимизации градиента  \n",
    "и последующей оценки весов theta не по градиенту а по вот это вот функции"
   ]
  },
  {
   "cell_type": "code",
   "execution_count": 14,
   "metadata": {},
   "outputs": [
    {
     "data": {
      "image/png": "[encoded data removed]",
      "text/plain": [
       "<Figure size 720x504 with 1 Axes>"
      ]
     },
     "metadata": {
      "needs_background": "light"
     },
     "output_type": "display_data"
    }
   ],
   "source": [
    "z1 = np.linspace(1, 20, len(Vt))\n",
    "plt.plot(lin_x, lin_y, 'b') # lin_y = 3*x + 3 + x**2 + 30*np.random.randn(100)\n",
    "plt.plot(z1, Vt, 'r') # Сглаженная функция, чем больше гамма, тем менее острая она получается\n",
    "plt.plot(lin_x, lin_f, 'g') # lin_f = 3*x + x**2 + 3\n",
    "plt.grid()\n",
    "plt.show()"
   ]
  },
  {
   "cell_type": "code",
   "execution_count": 15,
   "metadata": {},
   "outputs": [],
   "source": [
    "# Нужно накопить несколько точек функции ошибки методом град спуска, чтобы было от чего брать среднее\n",
    "history = []\n",
    "def nesterov(n_iter):\n",
    "    alpha = 0.001\n",
    "    loss = []\n",
    "    thetas = np.ones((100, 2))\n",
    "    theta = np.array([1, 1, 1, 1, 1])\n",
    "    \n",
    "    gradients = []\n",
    "    for _ in range(10):\n",
    "        sigmoid = 1/(1-np.exp(-np.dot(X, theta)))\n",
    "        J = (1/200)*np.sum(np.square(sigmoid - y))\n",
    "        \n",
    "        \n",
    "        grad = X.T.dot(X.dot(theta) - y)/len(y)\n",
    "        gradients.append(grad) \n",
    "        theta = theta - alpha*grad\n",
    "        \n",
    "    \n",
    "\n",
    "    return gradients, theta, alpha\n",
    "\n",
    "speeds = []\n",
    "gamma = 0.9\n",
    "\n",
    "def nes(n_iter):\n",
    "    gradients, theta, alpha = nesterov(n_iter)\n",
    "    for _ in range(n_iter-10):\n",
    "        sigmoid = 1/(1-np.exp(-np.dot(X, theta)))\n",
    "        J = (1/200)*np.sum(np.square(sigmoid - y))\n",
    "        \n",
    "        grad = X.T.dot(X.dot(theta)-y)/len(y)\n",
    "        gradients.append(grad)\n",
    "        \n",
    "        theta = theta - alpha*(gradients[_-1]*(1-gamma) + gradients[_]*(gamma))\n",
    "        \n",
    "        speeds.append(J)\n",
    "        history.append(theta)\n",
    "    \n",
    "    return gradients, theta, speeds, history\n",
    "        "
   ]
  },
  {
   "cell_type": "code",
   "execution_count": 16,
   "metadata": {},
   "outputs": [],
   "source": [
    "g, t, s, h = nes(2000)"
   ]
  },
  {
   "cell_type": "code",
   "execution_count": 57,
   "metadata": {},
   "outputs": [
    {
     "data": {
      "image/png": "[encoded data removed]",
      "text/plain": [
       "<Figure size 720x504 with 1 Axes>"
      ]
     },
     "metadata": {
      "needs_background": "light"
     },
     "output_type": "display_data"
    }
   ],
   "source": [
    "z = np.linspace(1, 20, len(s))\n",
    "plt.scatter(z, s)\n",
    "plt.title('График функции ошибки для метода Нестерова')\n",
    "plt.grid()\n",
    "plt.show()"
   ]
  },
  {
   "cell_type": "code",
   "execution_count": 18,
   "metadata": {},
   "outputs": [
    {
     "name": "stdout",
     "output_type": "stream",
     "text": [
      "Точность оценки 72.76%\n"
     ]
    }
   ],
   "source": [
    "print_accuracy(t)"
   ]
  },
  {
   "cell_type": "markdown",
   "metadata": {},
   "source": [
    "Либо ошибка моя, либо подход неверен, ко всему прочему для данного случая не имеет разницы какой параметр  \n",
    "гамма задавать"
   ]
  },
  {
   "cell_type": "code",
   "execution_count": 51,
   "metadata": {},
   "outputs": [],
   "source": [
    "def RMSProp(n_iter):\n",
    "    alpha = 0.1\n",
    "    loss = []\n",
    "    history = []\n",
    "    thetas = np.ones((100, 2))\n",
    "    theta = np.array([1, 1, 1, 1, 1])\n",
    "    u = 10**(-6) # Сглаживающий параметр\n",
    "    gradients = []\n",
    "    for _ in range(n_iter):\n",
    "        sigmoid = 1/(1-np.exp(-np.dot(X, theta)))\n",
    "        J = (1/200)*np.sum(np.square(sigmoid - y))\n",
    "        \n",
    "        loss.append(J)\n",
    "        grad = X.T.dot(X.dot(theta)-y)/len(y)\n",
    "        gradients.append(grad**2)\n",
    "        Eg = np.mean(gradients[_])\n",
    "        theta = theta - theta*(1-gamma)*(Eg + u)**(-1/2)*grad*alpha\n",
    "        history.append(theta)\n",
    "    return theta, gradients, loss, history"
   ]
  },
  {
   "cell_type": "code",
   "execution_count": 69,
   "metadata": {},
   "outputs": [],
   "source": [
    "t, g, l, h = RMSProp(1000)"
   ]
  },
  {
   "cell_type": "code",
   "execution_count": 70,
   "metadata": {},
   "outputs": [
    {
     "data": {
      "image/png": "[encoded data removed]",
      "text/plain": [
       "<Figure size 720x504 with 1 Axes>"
      ]
     },
     "metadata": {
      "needs_background": "light"
     },
     "output_type": "display_data"
    }
   ],
   "source": [
    "z = np.linspace(1, 20, len(l))\n",
    "plt.scatter(z, l)\n",
    "plt.title('График функции ошибки для метода RMSProp')\n",
    "plt.grid()\n",
    "plt.show()"
   ]
  },
  {
   "cell_type": "code",
   "execution_count": 71,
   "metadata": {},
   "outputs": [
    {
     "name": "stdout",
     "output_type": "stream",
     "text": [
      "Точность оценки 76.55%\n"
     ]
    }
   ],
   "source": [
    "print_accuracy(t)"
   ]
  },
  {
   "cell_type": "markdown",
   "metadata": {},
   "source": [
    "Последннее что еще меня смутило, это то факт, что градиенты установлены точно такие же как и для лин регрессии  \n",
    "Если брать частную производную от сигмоиды, то градиент будет записан так:  \n",
    "2*X.T.dot(np.exp(-(X.dot(theta) - y)))/len(y)  \n",
    "Однако, в этом случае функция ошибки вообще не изменяется, поэтому оставил:  \n",
    "X.T.dot(X.dot(theta)-y)/len(y)"
   ]
  },
  {
   "cell_type": "code",
   "execution_count": null,
   "metadata": {},
   "outputs": [],
   "source": []
  }
 ],
 "metadata": {
  "kernelspec": {
   "display_name": "Python 3",
   "language": "python",
   "name": "python3"
  },
  "language_info": {
   "codemirror_mode": {
    "name": "ipython",
    "version": 3
   },
   "file_extension": ".py",
   "mimetype": "text/x-python",
   "name": "python",
   "nbconvert_exporter": "python",
   "pygments_lexer": "ipython3",
   "version": "3.7.6"
  }
 },
 "nbformat": 4,
 "nbformat_minor": 4
}
