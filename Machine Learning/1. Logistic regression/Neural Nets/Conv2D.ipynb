{
 "cells": [
  {
   "cell_type": "code",
   "execution_count": 6,
   "metadata": {},
   "outputs": [
    {
     "name": "stdout",
     "output_type": "stream",
     "text": [
      "Collecting opencv-python\n",
      "  Downloading opencv_python-4.5.1.48-cp37-cp37m-win_amd64.whl (34.9 MB)\n",
      "Requirement already satisfied: numpy>=1.14.5 in d:\\anaconda\\lib\\site-packages (from opencv-python) (1.18.1)\n",
      "Installing collected packages: opencv-python\n",
      "Successfully installed opencv-python-4.5.1.48\n"
     ]
    }
   ],
   "source": [
    "!pip install opencv-python"
   ]
  },
  {
   "cell_type": "code",
   "execution_count": 2,
   "metadata": {},
   "outputs": [],
   "source": [
    "import pandas as pd\n",
    "import numpy as np\n",
    "import cv2\n",
    "import os\n",
    "from tensorflow import keras"
   ]
  },
  {
   "cell_type": "code",
   "execution_count": 3,
   "metadata": {},
   "outputs": [],
   "source": [
    "os.chdir('D:\\\\Загрузки\\\\hymenoptera_data\\\\train\\\\ants')\n",
    "train_ants = os.listdir()"
   ]
  },
  {
   "cell_type": "code",
   "execution_count": 4,
   "metadata": {},
   "outputs": [],
   "source": [
    "def resize(train_samples):\n",
    "    array = []\n",
    "    try:\n",
    "        for _ in train_samples:\n",
    "            image = cv2.imread(_) / 127.5 - 1     \n",
    "            \n",
    "            img_nrows = 400\n",
    "            img_cols = 500\n",
    "\n",
    "            img = cv2.resize(image, (img_nrows, img_cols))\n",
    "            array.append(img)\n",
    "    except:\n",
    "        pass\n",
    "    return array"
   ]
  },
  {
   "cell_type": "code",
   "execution_count": 5,
   "metadata": {},
   "outputs": [],
   "source": [
    "resized_ants = resize(train_ants)"
   ]
  },
  {
   "cell_type": "code",
   "execution_count": 6,
   "metadata": {},
   "outputs": [],
   "source": [
    "os.chdir('D:\\\\Загрузки\\\\hymenoptera_data\\\\train\\\\bees')\n",
    "train_bees = os.listdir()"
   ]
  },
  {
   "cell_type": "code",
   "execution_count": 7,
   "metadata": {},
   "outputs": [],
   "source": [
    "resized_bees = resize(train_bees)"
   ]
  },
  {
   "cell_type": "code",
   "execution_count": 8,
   "metadata": {},
   "outputs": [
    {
     "data": {
      "text/plain": [
       "(237, 500, 400, 3)"
      ]
     },
     "execution_count": 8,
     "metadata": {},
     "output_type": "execute_result"
    }
   ],
   "source": [
    "y_ants = np.array([0 for i in range(len(resized_ants))])\n",
    "y_bees = np.array([1 for i in range(len(resized_bees))])\n",
    "\n",
    "y = np.concatenate((y_ants, y_bees), axis=0)\n",
    "X = np.concatenate((resized_ants, resized_bees), axis=0)\n",
    "X.shape"
   ]
  },
  {
   "cell_type": "code",
   "execution_count": 9,
   "metadata": {},
   "outputs": [
    {
     "name": "stdout",
     "output_type": "stream",
     "text": [
      "WARNING:tensorflow:From D:\\Anaconda\\lib\\site-packages\\tensorflow\\python\\ops\\init_ops.py:1251: calling VarianceScaling.__init__ (from tensorflow.python.ops.init_ops) with dtype is deprecated and will be removed in a future version.\n",
      "Instructions for updating:\n",
      "Call initializer instance with the dtype argument instead of passing it to the constructor\n"
     ]
    }
   ],
   "source": [
    "model = keras.models.Sequential([\n",
    "    keras.layers.Conv2D(filters=6, kernel_size=(5, 5), padding='same', activation='relu', input_shape=(500, 400, 3)),\n",
    "    \n",
    "    keras.layers.MaxPool2D(pool_size=(2, 2), padding='valid'),\n",
    "    \n",
    "    keras.layers.Conv2D(filters=16, kernel_size=(5, 5), padding='same', activation='relu'),\n",
    "    \n",
    "    keras.layers.MaxPool2D(pool_size=(2, 2), padding='valid'),\n",
    "    \n",
    "    keras.layers.Flatten(),\n",
    "    \n",
    "    keras.layers.Dense(2, activation='softmax')])\n",
    "    \n",
    "model.compile(optimizer='adam', loss='sparse_categorical_crossentropy', metrics=['accuracy'])"
   ]
  },
  {
   "cell_type": "code",
   "execution_count": 10,
   "metadata": {},
   "outputs": [
    {
     "name": "stdout",
     "output_type": "stream",
     "text": [
      "Model: \"sequential\"\n",
      "_________________________________________________________________\n",
      "Layer (type)                 Output Shape              Param #   \n",
      "=================================================================\n",
      "conv2d (Conv2D)              (None, 500, 400, 6)       456       \n",
      "_________________________________________________________________\n",
      "max_pooling2d (MaxPooling2D) (None, 250, 200, 6)       0         \n",
      "_________________________________________________________________\n",
      "conv2d_1 (Conv2D)            (None, 250, 200, 16)      2416      \n",
      "_________________________________________________________________\n",
      "max_pooling2d_1 (MaxPooling2 (None, 125, 100, 16)      0         \n",
      "_________________________________________________________________\n",
      "flatten (Flatten)            (None, 200000)            0         \n",
      "_________________________________________________________________\n",
      "dense (Dense)                (None, 2)                 400002    \n",
      "=================================================================\n",
      "Total params: 402,874\n",
      "Trainable params: 402,874\n",
      "Non-trainable params: 0\n",
      "_________________________________________________________________\n"
     ]
    }
   ],
   "source": [
    "model.summary()"
   ]
  },
  {
   "cell_type": "code",
   "execution_count": 48,
   "metadata": {},
   "outputs": [
    {
     "name": "stdout",
     "output_type": "stream",
     "text": [
      "Train on 189 samples, validate on 48 samples\n",
      "Epoch 1/10\n",
      "189/189 [==============================] - 21s 112ms/sample - loss: 3.5753 - acc: 0.5767 - val_loss: 1.9874 - val_acc: 0.2500\n",
      "Epoch 2/10\n",
      "189/189 [==============================] - 19s 102ms/sample - loss: 1.0571 - acc: 0.6455 - val_loss: 0.6906 - val_acc: 0.5833\n",
      "Epoch 3/10\n",
      "189/189 [==============================] - 19s 102ms/sample - loss: 0.5494 - acc: 0.7566 - val_loss: 0.7608 - val_acc: 0.3958\n",
      "Epoch 4/10\n",
      "189/189 [==============================] - 19s 100ms/sample - loss: 0.4246 - acc: 0.8148 - val_loss: 1.2231 - val_acc: 0.1875\n",
      "Epoch 5/10\n",
      "189/189 [==============================] - 19s 101ms/sample - loss: 0.3145 - acc: 0.8942 - val_loss: 1.1442 - val_acc: 0.2500\n",
      "Epoch 6/10\n",
      "189/189 [==============================] - 19s 102ms/sample - loss: 0.2128 - acc: 0.9524 - val_loss: 1.4218 - val_acc: 0.2292\n",
      "Epoch 7/10\n",
      "189/189 [==============================] - 19s 101ms/sample - loss: 0.1363 - acc: 0.9735 - val_loss: 1.2089 - val_acc: 0.2917\n",
      "Epoch 8/10\n",
      "189/189 [==============================] - 19s 101ms/sample - loss: 0.0758 - acc: 0.9841 - val_loss: 2.2194 - val_acc: 0.2083\n",
      "Epoch 9/10\n",
      "189/189 [==============================] - 20s 104ms/sample - loss: 0.0564 - acc: 0.9788 - val_loss: 1.8271 - val_acc: 0.2500\n",
      "Epoch 10/10\n",
      "189/189 [==============================] - 22s 114ms/sample - loss: 0.0272 - acc: 1.0000 - val_loss: 1.4313 - val_acc: 0.3125\n"
     ]
    },
    {
     "data": {
      "text/plain": [
       "<tensorflow.python.keras.callbacks.History at 0x2352b29c908>"
      ]
     },
     "execution_count": 48,
     "metadata": {},
     "output_type": "execute_result"
    }
   ],
   "source": [
    "model.fit(X, y, batch_size=32, epochs=10, validation_split=0.2)"
   ]
  },
  {
   "cell_type": "code",
   "execution_count": 11,
   "metadata": {},
   "outputs": [],
   "source": [
    "os.chdir('D:\\\\Загрузки\\\\hymenoptera_data\\\\val\\\\ants')\n",
    "val_ants = os.listdir()\n",
    "val_res_ants = resize(val_ants)"
   ]
  },
  {
   "cell_type": "code",
   "execution_count": 12,
   "metadata": {},
   "outputs": [],
   "source": [
    "os.chdir('D:\\\\Загрузки\\\\hymenoptera_data\\\\val\\\\bees')\n",
    "val_bees = os.listdir()\n",
    "val_res_bees = resize(val_bees)"
   ]
  },
  {
   "cell_type": "code",
   "execution_count": 13,
   "metadata": {},
   "outputs": [],
   "source": [
    "X_val = np.concatenate((val_res_ants, val_res_bees), axis=0)"
   ]
  },
  {
   "cell_type": "code",
   "execution_count": 49,
   "metadata": {},
   "outputs": [],
   "source": [
    "pred = model.predict(X_val)\n"
   ]
  },
  {
   "cell_type": "code",
   "execution_count": 22,
   "metadata": {},
   "outputs": [],
   "source": [
    "def predict_res(pred):    \n",
    "    predictions = []\n",
    "    for i in pred:\n",
    "        for _, el in enumerate(i):\n",
    "\n",
    "            if el == max(i):\n",
    "                predictions.append(_)\n",
    "\n",
    "    y_a_val = np.array([0 for i in range(len(val_res_ants))])\n",
    "    y_b_val = np.array([1 for i in range(len(val_res_bees))])\n",
    "\n",
    "    y_val = np.concatenate((y_a_val, y_b_val), axis=0)\n",
    "    \n",
    "    return predictions, y_val"
   ]
  },
  {
   "cell_type": "code",
   "execution_count": 50,
   "metadata": {},
   "outputs": [
    {
     "data": {
      "text/plain": [
       "0.5163398692810458"
      ]
     },
     "execution_count": 50,
     "metadata": {},
     "output_type": "execute_result"
    }
   ],
   "source": [
    "from sklearn.metrics import accuracy_score\n",
    "\n",
    "accuracy_score(predict_res(pred)[0], predict_res(pred)[1])"
   ]
  },
  {
   "cell_type": "markdown",
   "metadata": {},
   "source": [
    "Картинок мало, потому и результат такой ), при кол-ве эпох = 5, точность получается 0.43"
   ]
  },
  {
   "cell_type": "markdown",
   "metadata": {},
   "source": [
    "#### Добавляем BatchNormalozation"
   ]
  },
  {
   "cell_type": "code",
   "execution_count": 52,
   "metadata": {},
   "outputs": [],
   "source": [
    "model_b = keras.models.Sequential([\n",
    "    keras.layers.Conv2D(filters=6, kernel_size=(5, 5), padding='same', activation='relu', input_shape=(500, 400, 3)),\n",
    "    \n",
    "    keras.layers.MaxPool2D(pool_size=(2, 2), padding='valid'),\n",
    "    \n",
    "    keras.layers.Conv2D(filters=16, kernel_size=(5, 5), padding='same', activation='relu'),\n",
    "      \n",
    "    keras.layers.MaxPool2D(pool_size=(2, 2), padding='valid'),\n",
    "    \n",
    "    keras.layers.Flatten(),\n",
    "    \n",
    "    keras.layers.BatchNormalization(momentum=0.99, epsilon=0.001, center=True, scale=True),\n",
    "    \n",
    "    keras.layers.Dense(2, activation='softmax')])\n",
    "    \n",
    "model_b.compile(optimizer='adam', loss='sparse_categorical_crossentropy', metrics=['accuracy'])"
   ]
  },
  {
   "cell_type": "code",
   "execution_count": 53,
   "metadata": {},
   "outputs": [
    {
     "name": "stdout",
     "output_type": "stream",
     "text": [
      "Model: \"sequential_7\"\n",
      "_________________________________________________________________\n",
      "Layer (type)                 Output Shape              Param #   \n",
      "=================================================================\n",
      "conv2d_16 (Conv2D)           (None, 500, 400, 6)       456       \n",
      "_________________________________________________________________\n",
      "max_pooling2d_16 (MaxPooling (None, 250, 200, 6)       0         \n",
      "_________________________________________________________________\n",
      "conv2d_17 (Conv2D)           (None, 250, 200, 16)      2416      \n",
      "_________________________________________________________________\n",
      "max_pooling2d_17 (MaxPooling (None, 125, 100, 16)      0         \n",
      "_________________________________________________________________\n",
      "flatten_8 (Flatten)          (None, 200000)            0         \n",
      "_________________________________________________________________\n",
      "batch_normalization_8 (Batch (None, 200000)            800000    \n",
      "_________________________________________________________________\n",
      "dense_7 (Dense)              (None, 2)                 400002    \n",
      "=================================================================\n",
      "Total params: 1,202,874\n",
      "Trainable params: 802,874\n",
      "Non-trainable params: 400,000\n",
      "_________________________________________________________________\n"
     ]
    }
   ],
   "source": [
    "model_b.summary()"
   ]
  },
  {
   "cell_type": "code",
   "execution_count": 54,
   "metadata": {},
   "outputs": [
    {
     "name": "stdout",
     "output_type": "stream",
     "text": [
      "Train on 189 samples, validate on 48 samples\n",
      "Epoch 1/10\n",
      "189/189 [==============================] - 22s 116ms/sample - loss: 16.2798 - acc: 0.5503 - val_loss: 0.3749 - val_acc: 0.8958\n",
      "Epoch 2/10\n",
      "189/189 [==============================] - 21s 109ms/sample - loss: 9.4141 - acc: 0.7037 - val_loss: 0.8471 - val_acc: 0.7500\n",
      "Epoch 3/10\n",
      "189/189 [==============================] - 21s 110ms/sample - loss: 2.6676 - acc: 0.8466 - val_loss: 3.1576 - val_acc: 0.5833\n",
      "Epoch 4/10\n",
      "189/189 [==============================] - 21s 112ms/sample - loss: 3.2600 - acc: 0.8677 - val_loss: 12.9474 - val_acc: 0.0625\n",
      "Epoch 5/10\n",
      "189/189 [==============================] - 20s 106ms/sample - loss: 1.5339 - acc: 0.9206 - val_loss: 7.3536 - val_acc: 0.0625\n",
      "Epoch 6/10\n",
      "189/189 [==============================] - 21s 111ms/sample - loss: 0.3330 - acc: 0.9577 - val_loss: 14.7944 - val_acc: 0.0000e+00\n",
      "Epoch 7/10\n",
      "189/189 [==============================] - 22s 114ms/sample - loss: 0.9929 - acc: 0.8995 - val_loss: 18.6441 - val_acc: 0.0000e+00\n",
      "Epoch 8/10\n",
      "189/189 [==============================] - 20s 107ms/sample - loss: 0.4556 - acc: 0.9630 - val_loss: 12.2060 - val_acc: 0.0208\n",
      "Epoch 9/10\n",
      "189/189 [==============================] - 20s 105ms/sample - loss: 0.4006 - acc: 0.9577 - val_loss: 4.3246 - val_acc: 0.3750\n",
      "Epoch 10/10\n",
      "189/189 [==============================] - 21s 109ms/sample - loss: 0.0209 - acc: 0.9947 - val_loss: 9.0523 - val_acc: 0.1042\n"
     ]
    },
    {
     "data": {
      "text/plain": [
       "<tensorflow.python.keras.callbacks.History at 0x2355125d148>"
      ]
     },
     "execution_count": 54,
     "metadata": {},
     "output_type": "execute_result"
    }
   ],
   "source": [
    "model_b.fit(X, y, batch_size=32, epochs=10, validation_split=0.2)"
   ]
  },
  {
   "cell_type": "code",
   "execution_count": 55,
   "metadata": {},
   "outputs": [],
   "source": [
    "pred_b = model_b.predict(X_val)"
   ]
  },
  {
   "cell_type": "code",
   "execution_count": 56,
   "metadata": {},
   "outputs": [
    {
     "data": {
      "text/plain": [
       "0.49673202614379086"
      ]
     },
     "execution_count": 56,
     "metadata": {},
     "output_type": "execute_result"
    }
   ],
   "source": [
    "accuracy_score(predict_res(pred_b)[0], predict_res(pred_b)[1])"
   ]
  },
  {
   "cell_type": "markdown",
   "metadata": {},
   "source": [
    "Лучшая попытка давала - точность, 0.575, но с таким кол-вом данных такие отклонения не имеют значение"
   ]
  }
 ],
 "metadata": {
  "kernelspec": {
   "display_name": "Python 3",
   "language": "python",
   "name": "python3"
  },
  "language_info": {
   "codemirror_mode": {
    "name": "ipython",
    "version": 3
   },
   "file_extension": ".py",
   "mimetype": "text/x-python",
   "name": "python",
   "nbconvert_exporter": "python",
   "pygments_lexer": "ipython3",
   "version": "3.7.6"
  }
 },
 "nbformat": 4,
 "nbformat_minor": 4
}
