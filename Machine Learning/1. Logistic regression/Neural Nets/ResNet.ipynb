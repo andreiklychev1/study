{
  "nbformat": 4,
  "nbformat_minor": 0,
  "metadata": {
    "accelerator": "GPU",
    "colab": {
      "name": "ResNet.ipynb",
      "provenance": [],
      "include_colab_link": true
    },
    "kernelspec": {
      "display_name": "Python 3",
      "language": "python",
      "name": "python3"
    },
    "language_info": {
      "codemirror_mode": {
        "name": "ipython",
        "version": 3
      },
      "file_extension": ".py",
      "mimetype": "text/x-python",
      "name": "python",
      "nbconvert_exporter": "python",
      "pygments_lexer": "ipython3",
      "version": "3.7.6"
    }
  },
  "cells": [
    {
      "cell_type": "markdown",
      "metadata": {
        "id": "view-in-github",
        "colab_type": "text"
      },
      "source": [
        "<a href=\"https://colab.research.google.com/github/andreiklychev1/study/blob/master/Machine%20Learning/1.%20Logistic%20regression/Neural%20Nets/ResNet.ipynb\" target=\"_parent\"><img src=\"https://colab.research.google.com/assets/colab-badge.svg\" alt=\"Open In Colab\"/></a>"
      ]
    },
    {
      "cell_type": "code",
      "metadata": {
        "colab": {
          "base_uri": "https://localhost:8080/"
        },
        "id": "jD6O-dRKAAJn",
        "outputId": "580adf26-e5e2-4fc3-f55e-f786bb34c2b3"
      },
      "source": [
        "!pip install pyunpack\r\n",
        "!pip install patool\r\n",
        "from pyunpack import Archive"
      ],
      "execution_count": null,
      "outputs": [
        {
          "output_type": "stream",
          "text": [
            "Requirement already satisfied: pyunpack in /usr/local/lib/python3.6/dist-packages (0.2.2)\n",
            "Requirement already satisfied: easyprocess in /usr/local/lib/python3.6/dist-packages (from pyunpack) (0.3)\n",
            "Requirement already satisfied: entrypoint2 in /usr/local/lib/python3.6/dist-packages (from pyunpack) (0.2.3)\n",
            "Requirement already satisfied: argparse in /usr/local/lib/python3.6/dist-packages (from entrypoint2->pyunpack) (1.4.0)\n",
            "Requirement already satisfied: patool in /usr/local/lib/python3.6/dist-packages (1.12)\n"
          ],
          "name": "stdout"
        }
      ]
    },
    {
      "cell_type": "code",
      "metadata": {
        "id": "a6DFMeWA9okZ"
      },
      "source": [
        "import pandas as pd\n",
        "import numpy as np\n",
        "import cv2\n",
        "import os\n",
        "from tensorflow import keras"
      ],
      "execution_count": null,
      "outputs": []
    },
    {
      "cell_type": "code",
      "metadata": {
        "id": "Y1SNFtgf9okj"
      },
      "source": [
        "def resize(train_samples):\n",
        "    array = []\n",
        "    try:\n",
        "        for _ in train_samples:\n",
        "            image = cv2.imread(_) / 127.5 - 1     \n",
        "            \n",
        "            img_nrows = 224\n",
        "            img_cols = 224\n",
        "\n",
        "            img = cv2.resize(image, (img_nrows, img_cols))\n",
        "            array.append(img)\n",
        "    except:\n",
        "        pass\n",
        "    return array"
      ],
      "execution_count": null,
      "outputs": []
    },
    {
      "cell_type": "code",
      "metadata": {
        "id": "9v21RGrE-Y7b"
      },
      "source": [
        "# Archive('train_ants.rar').extractall('train_ants')\r\n",
        "# Archive('train_bees.rar').extractall('train_bees')\r\n",
        "# Archive('val_ants.rar').extractall('val_ants')\r\n",
        "# Archive('val_bees.rar').extractall('val_bees')"
      ],
      "execution_count": null,
      "outputs": []
    },
    {
      "cell_type": "code",
      "metadata": {
        "id": "Ml0B6wCa9okk"
      },
      "source": [
        "os.chdir('/content/train_ants')\n",
        "train_ants = os.listdir()\n",
        "resized_ants = resize(train_ants)\n"
      ],
      "execution_count": null,
      "outputs": []
    },
    {
      "cell_type": "code",
      "metadata": {
        "id": "2mDkZjNH9okk"
      },
      "source": [
        "os.chdir('/content/train_bees')\n",
        "train_bees = os.listdir()\n",
        "resized_bees = resize(train_bees)"
      ],
      "execution_count": null,
      "outputs": []
    },
    {
      "cell_type": "code",
      "metadata": {
        "id": "I1877nNd9okl"
      },
      "source": [
        "y_ants = np.array([0 for i in range(len(resized_ants))])\n",
        "y_bees = np.array([1 for i in range(len(resized_bees))])\n",
        "\n",
        "y = np.concatenate((y_ants, y_bees), axis=0)\n",
        "X = np.concatenate((resized_ants, resized_bees), axis=0)"
      ],
      "execution_count": null,
      "outputs": []
    },
    {
      "cell_type": "code",
      "metadata": {
        "id": "HG4Xi-Ov9okl"
      },
      "source": [
        "os.chdir('/content/val_ants')\n",
        "val_ants = os.listdir()\n",
        "val_res_ants = resize(val_ants)"
      ],
      "execution_count": null,
      "outputs": []
    },
    {
      "cell_type": "code",
      "metadata": {
        "id": "1Q-jBYHN9okl"
      },
      "source": [
        "os.chdir('/content/val_bees')\n",
        "val_bees = os.listdir()\n",
        "val_res_bees = resize(val_bees)"
      ],
      "execution_count": null,
      "outputs": []
    },
    {
      "cell_type": "code",
      "metadata": {
        "id": "zhLO7Hkh9okm"
      },
      "source": [
        "X_val = np.concatenate((val_res_ants, val_res_bees), axis=0)"
      ],
      "execution_count": null,
      "outputs": []
    },
    {
      "cell_type": "code",
      "metadata": {
        "id": "IkSMT2EG9okm"
      },
      "source": [
        "def predict_res(pred):    \n",
        "    predictions = []\n",
        "    for i in pred:\n",
        "        for _, el in enumerate(i):\n",
        "\n",
        "            if el == max(i):\n",
        "                predictions.append(_)\n",
        "\n",
        "    y_a_val = np.array([0 for i in range(len(val_res_ants))])\n",
        "    y_b_val = np.array([1 for i in range(len(val_res_bees))])\n",
        "\n",
        "    y_val = np.concatenate((y_a_val, y_b_val), axis=0)\n",
        "    \n",
        "    return predictions, y_val"
      ],
      "execution_count": null,
      "outputs": []
    },
    {
      "cell_type": "code",
      "metadata": {
        "id": "nKloQgCA9okm"
      },
      "source": [
        "model = keras.applications.ResNet50(weights=None, input_shape=(250, 200, 3), pooling='max')\n",
        "model.compile(optimizer='adam', loss='sparse_categorical_crossentropy', metrics=['accuracy'])"
      ],
      "execution_count": null,
      "outputs": []
    },
    {
      "cell_type": "code",
      "metadata": {
        "id": "-sgt1Ipx9okn"
      },
      "source": [
        "# model.summary()"
      ],
      "execution_count": null,
      "outputs": []
    },
    {
      "cell_type": "code",
      "metadata": {
        "colab": {
          "background_save": true,
          "base_uri": "https://localhost:8080/"
        },
        "id": "AOnJVtCE9oko",
        "outputId": "3555e27b-361b-4fb3-cedc-a82a632b801a"
      },
      "source": [
        "model.fit(X, y, batch_size=32, epochs=10, validation_split=0.2)"
      ],
      "execution_count": null,
      "outputs": [
        {
          "output_type": "stream",
          "text": [
            "Epoch 1/10\n",
            "7/7 [==============================] - 143s 19s/step - loss: 4.3910 - accuracy: 0.2915 - val_loss: 6.3169 - val_accuracy: 0.0816\n",
            "Epoch 2/10\n",
            "7/7 [==============================] - 136s 19s/step - loss: 1.3323 - accuracy: 0.4856 - val_loss: 5.6605 - val_accuracy: 0.0000e+00\n",
            "Epoch 3/10\n",
            "7/7 [==============================] - 135s 19s/step - loss: 1.2320 - accuracy: 0.6747 - val_loss: 4.7919 - val_accuracy: 0.0000e+00\n",
            "Epoch 4/10\n",
            "7/7 [==============================] - 133s 19s/step - loss: 0.7272 - accuracy: 0.7033 - val_loss: 3.7801 - val_accuracy: 0.5714\n",
            "Epoch 5/10\n",
            "7/7 [==============================] - 133s 19s/step - loss: 0.5170 - accuracy: 0.7653 - val_loss: 3.2234 - val_accuracy: 0.4694\n",
            "Epoch 6/10\n",
            "7/7 [==============================] - 133s 19s/step - loss: 0.4947 - accuracy: 0.7869 - val_loss: 2.8588 - val_accuracy: 0.0000e+00\n",
            "Epoch 7/10\n",
            "7/7 [==============================] - 141s 20s/step - loss: 0.4476 - accuracy: 0.7991 - val_loss: 3.1900 - val_accuracy: 0.0000e+00\n",
            "Epoch 8/10\n",
            "7/7 [==============================] - 142s 20s/step - loss: 0.4245 - accuracy: 0.8324 - val_loss: 2.4777 - val_accuracy: 0.0000e+00\n",
            "Epoch 9/10\n",
            "7/7 [==============================] - 142s 20s/step - loss: 0.4396 - accuracy: 0.7882 - val_loss: 2.7944 - val_accuracy: 0.0000e+00\n",
            "Epoch 10/10\n",
            "7/7 [==============================] - 141s 20s/step - loss: 0.5134 - accuracy: 0.8168 - val_loss: 1.6585 - val_accuracy: 0.0000e+00\n"
          ],
          "name": "stdout"
        },
        {
          "output_type": "execute_result",
          "data": {
            "text/plain": [
              "<tensorflow.python.keras.callbacks.History at 0x7fd0abf58eb8>"
            ]
          },
          "metadata": {
            "tags": []
          },
          "execution_count": 0
        }
      ]
    },
    {
      "cell_type": "code",
      "metadata": {
        "id": "5D4G-ve_9okp"
      },
      "source": [
        "pred = model.predict(X_val)\r\n"
      ],
      "execution_count": null,
      "outputs": []
    },
    {
      "cell_type": "code",
      "metadata": {
        "colab": {
          "base_uri": "https://localhost:8080/"
        },
        "id": "Il9RGHPTKb62",
        "outputId": "26c1610d-5205-4361-c7d6-461111811002"
      },
      "source": [
        "from sklearn.metrics import accuracy_score\r\n",
        "\r\n",
        "accuracy_score(predict_res(pred)[0], predict_res(pred)[1])"
      ],
      "execution_count": null,
      "outputs": [
        {
          "output_type": "execute_result",
          "data": {
            "text/plain": [
              "0.5424836601307189"
            ]
          },
          "metadata": {
            "tags": []
          },
          "execution_count": 24
        }
      ]
    },
    {
      "cell_type": "markdown",
      "metadata": {
        "id": "icC8umiiLCZf"
      },
      "source": [
        "Теперь инициализируем модель с весами ImageNet"
      ]
    },
    {
      "cell_type": "code",
      "metadata": {
        "id": "GRnSsviLLIUf"
      },
      "source": [
        "model_I = keras.applications.ResNet50(weights='imagenet', input_shape=(224, 224, 3), pooling='max')\r\n",
        "model_I.compile(optimizer='adam', loss='sparse_categorical_crossentropy', metrics=['accuracy'])"
      ],
      "execution_count": null,
      "outputs": []
    },
    {
      "cell_type": "code",
      "metadata": {
        "colab": {
          "base_uri": "https://localhost:8080/"
        },
        "id": "HKoMX73VL5f4",
        "outputId": "09bcc92d-c85b-4630-eec9-6b79473e4641"
      },
      "source": [
        "model_I.fit(X, y, batch_size=32, epochs=10, validation_split=0.2)"
      ],
      "execution_count": null,
      "outputs": [
        {
          "output_type": "stream",
          "text": [
            "Epoch 1/10\n",
            "4/4 [==============================] - 13s 2s/step - loss: 6.2796 - accuracy: 0.2532 - val_loss: 2.3383e-07 - val_accuracy: 1.0000\n",
            "Epoch 2/10\n",
            "4/4 [==============================] - 3s 724ms/step - loss: 0.9991 - accuracy: 0.8829 - val_loss: 0.0077 - val_accuracy: 1.0000\n",
            "Epoch 3/10\n",
            "4/4 [==============================] - 3s 718ms/step - loss: 0.4800 - accuracy: 0.9225 - val_loss: 0.0000e+00 - val_accuracy: 1.0000\n",
            "Epoch 4/10\n",
            "4/4 [==============================] - 3s 717ms/step - loss: 0.3214 - accuracy: 0.9575 - val_loss: 36.4587 - val_accuracy: 0.0000e+00\n",
            "Epoch 5/10\n",
            "4/4 [==============================] - 3s 717ms/step - loss: 0.3116 - accuracy: 0.9236 - val_loss: 124.6351 - val_accuracy: 0.0000e+00\n",
            "Epoch 6/10\n",
            "4/4 [==============================] - 3s 719ms/step - loss: 0.0874 - accuracy: 0.9502 - val_loss: 25.6123 - val_accuracy: 0.0000e+00\n",
            "Epoch 7/10\n",
            "4/4 [==============================] - 3s 716ms/step - loss: 0.0493 - accuracy: 0.9786 - val_loss: 29.1456 - val_accuracy: 0.0000e+00\n",
            "Epoch 8/10\n",
            "4/4 [==============================] - 3s 720ms/step - loss: 0.1292 - accuracy: 0.9869 - val_loss: 36.9429 - val_accuracy: 0.0000e+00\n",
            "Epoch 9/10\n",
            "4/4 [==============================] - 3s 722ms/step - loss: 0.0436 - accuracy: 0.9880 - val_loss: 31.0027 - val_accuracy: 0.0000e+00\n",
            "Epoch 10/10\n",
            "4/4 [==============================] - 3s 718ms/step - loss: 0.0180 - accuracy: 0.9909 - val_loss: 14.0184 - val_accuracy: 0.0000e+00\n"
          ],
          "name": "stdout"
        },
        {
          "output_type": "execute_result",
          "data": {
            "text/plain": [
              "<tensorflow.python.keras.callbacks.History at 0x7f12922d75f8>"
            ]
          },
          "metadata": {
            "tags": []
          },
          "execution_count": 39
        }
      ]
    },
    {
      "cell_type": "code",
      "metadata": {
        "id": "y4fHN-lELSgr"
      },
      "source": [
        "pred_I = model_I.predict(X_val)"
      ],
      "execution_count": null,
      "outputs": []
    },
    {
      "cell_type": "code",
      "metadata": {
        "colab": {
          "base_uri": "https://localhost:8080/"
        },
        "id": "P7Rh7a8ML2vP",
        "outputId": "7da92a65-ab15-4c28-b81a-7e039be3ac6a"
      },
      "source": [
        "accuracy_score(predict_res(pred_I)[0], predict_res(pred_I)[1])"
      ],
      "execution_count": null,
      "outputs": [
        {
          "output_type": "execute_result",
          "data": {
            "text/plain": [
              "0.45751633986928103"
            ]
          },
          "metadata": {
            "tags": []
          },
          "execution_count": 42
        }
      ]
    },
    {
      "cell_type": "code",
      "metadata": {
        "id": "oP8OMT8mMnaz"
      },
      "source": [
        ""
      ],
      "execution_count": null,
      "outputs": []
    }
  ]
}