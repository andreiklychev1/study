{
 "cells": [
  {
   "cell_type": "code",
   "execution_count": 11,
   "metadata": {},
   "outputs": [
    {
     "data": {
      "text/plain": [
       "True"
      ]
     },
     "execution_count": 11,
     "metadata": {},
     "output_type": "execute_result"
    }
   ],
   "source": [
    "long_phrase = 'Насколько проще было бы писать программы, если бы не заказчики'\n",
    "short_phrase = '640Кб должно хватить для любых задач. Билл Гейтс (по легенде)'\n",
    "long_phrase > short_phrase"
   ]
  },
  {
   "cell_type": "code",
   "execution_count": 12,
   "metadata": {},
   "outputs": [
    {
     "name": "stdout",
     "output_type": "stream",
     "text": [
      "Введите объем файла в байтах: 45799561\n",
      "Объем файла равен: 43.68Mb\n"
     ]
    }
   ],
   "source": [
    "file_b=int(input('Введите объем файла в байтах: '))\n",
    "\n",
    "file_Mb=file_b/(2**20)\n",
    "\n",
    "print('Объем файла равен: {:.2f}Mb'.format(file_Mb))"
   ]
  },
  {
   "cell_type": "code",
   "execution_count": 23,
   "metadata": {},
   "outputs": [
    {
     "name": "stdout",
     "output_type": "stream",
     "text": [
      "Введите месяц: апрель\n",
      "Введите число: 24\n",
      "Телец\n"
     ]
    }
   ],
   "source": [
    "month_input=(input('Введите месяц: '))\n",
    "day_input=int(input('Введите число: '))\n",
    "if month_input == 'январь':\n",
    "    date = day_input\n",
    "elif month_input == 'февраль':\n",
    "    date = 31 + day_input\n",
    "elif month_input == 'март':\n",
    "    date = 31 + 28 + day_input\n",
    "elif month_input == 'апрель':\n",
    "    date = 31 + 28 + 31 + day_input\n",
    "elif month_input == 'май':\n",
    "    date = 31 + 28 + 31 + 30 + day_input\n",
    "elif month_input == 'июнь':\n",
    "    date = 31 + 28 + 31 + 30 + 31 + day_input\n",
    "elif month_input == 'июль':\n",
    "    date = 31 + 28 + 31 + 30 + 31 + 30 + day_input\n",
    "elif month_input == 'август':\n",
    "    date = 31 + 28 + 31 + 30 + 31 + 30 + 31 + day_input\n",
    "elif month_input == 'сентябрь':\n",
    "    date = 31 + 28 + 31 + 30 + 31 + 30 + 31 + 31 + day_input\n",
    "elif month_input == 'октябрь':\n",
    "    date = 31 + 28 + 31 + 30 + 31 + 30 + 31 + 31 + 30 + day_input\n",
    "elif month_input == 'ноябрь':\n",
    "    date = 31 + 28 + 31 + 30 + 31 + 30 + 31 + 31 + 30 + 31 + day_input\n",
    "elif month_input == 'декабрь':\n",
    "    date = 31 + 28 + 31 + 30 + 31 + 30 + 31 + 31 + 30 + 31 + 30 + day_input\n",
    "if 80 <= date <= 110:\n",
    "    print('Овен')\n",
    "elif 111 <= date <= 140:\n",
    "    print('Телец')\n",
    "elif 141 <= date <= 171:\n",
    "    print('Близнецы')\n",
    "elif 172 <= date <= 203:\n",
    "    print('Рак')\n",
    "elif 204 <= date <= 234:\n",
    "    print('Лев')\n",
    "elif 235 <= date <= 265:\n",
    "    print('Дева')\n",
    "elif 266 <= date <= 295:\n",
    "    print('Весы')\n",
    "elif 296 <= date <= 326:\n",
    "    print('Скорпион')\n",
    "elif 327 <= date <= 355:\n",
    "    print('Стрелец')\n",
    "elif 356 <= date <= 356 or 1 <= date <= 19:\n",
    "    print('Козерог')\n",
    "elif 20 <= date <= 50:\n",
    "    print('Водолей')\n",
    "elif 51 <= date <= 79:\n",
    "    print('Рыбы')"
   ]
  },
  {
   "cell_type": "code",
   "execution_count": 24,
   "metadata": {},
   "outputs": [
    {
     "name": "stdout",
     "output_type": "stream",
     "text": [
      "Введите заработную плату в месяц: 50000\n",
      "Введите, сколько процентов уходит на ипотеку: 50\n",
      "Введите, сколько процентов уходит на жизнь: 50\n",
      "Введите количество премий за год: 0\n",
      "На ипотеку было потрачено:  300000.0 рублей Было накоплено:  0.0 рублей\n"
     ]
    }
   ],
   "source": [
    "zarplata = int(input('Введите заработную плату в месяц: '))\n",
    "procent_ipoteka = int(input('Введите, сколько процентов уходит на ипотеку: '))\n",
    "procent_zhizn = int(input('Введите, сколько процентов уходит на жизнь: '))\n",
    "premii = int(input('Введите количество премий за год: '))\n",
    "\n",
    "nakopleniya = zarplata*12*(1 - procent_ipoteka/100 - procent_zhizn/100) + premii*zarplata\n",
    "ipoteka = zarplata*12*procent_ipoteka/100\n",
    "\n",
    "print('На ипотеку было потрачено: ', ipoteka,'рублей','Было накоплено: ', nakopleniya,'рублей')"
   ]
  },
  {
   "cell_type": "code",
   "execution_count": null,
   "metadata": {},
   "outputs": [],
   "source": []
  }
 ],
 "metadata": {
  "kernelspec": {
   "display_name": "Python 3",
   "language": "python",
   "name": "python3"
  },
  "language_info": {
   "codemirror_mode": {
    "name": "ipython",
    "version": 3
   },
   "file_extension": ".py",
   "mimetype": "text/x-python",
   "name": "python",
   "nbconvert_exporter": "python",
   "pygments_lexer": "ipython3",
   "version": "3.7.6"
  }
 },
 "nbformat": 4,
 "nbformat_minor": 4
}
