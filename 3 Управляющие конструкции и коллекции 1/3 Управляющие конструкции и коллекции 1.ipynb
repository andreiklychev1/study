{
 "cells": [
  {
   "cell_type": "code",
   "execution_count": 17,
   "metadata": {},
   "outputs": [
    {
     "name": "stdout",
     "output_type": "stream",
     "text": [
      "ee\n"
     ]
    }
   ],
   "source": [
    "# Задача №1\n",
    "word = 'testifreeffsfsfr'\n",
    "length = len(word)\n",
    "if length%2 == 0:\n",
    "    print(word[int(length/2 - 1):int(length/2 + 1)])\n",
    "else:\n",
    "    print(word[int(length/2)])"
   ]
  },
  {
   "cell_type": "code",
   "execution_count": 39,
   "metadata": {},
   "outputs": [
    {
     "name": "stdout",
     "output_type": "stream",
     "text": [
      "Идеальные пары:\n",
      "Alex и Emma\n",
      "Arthur и Kate\n",
      "John и Kira\n",
      "Peter и Liza\n",
      "Richard и Trisha\n"
     ]
    }
   ],
   "source": [
    "# Задача №2\n",
    "boys = ['Peter', 'Alex', 'John', 'Arthur', 'Richard']\n",
    "girls = ['Kate', 'Liza', 'Kira', 'Emma', 'Trisha']\n",
    "\n",
    "if len(boys) == len(girls):\n",
    "    pairs = zip(sorted(boys), sorted(girls))\n",
    "    print('Идеальные пары:')\n",
    "    for human in pairs:\n",
    "        print(f'{human[0]} и {human[1]}')\n",
    "else:\n",
    "    print('Кому-то не хватит пары!')"
   ]
  },
  {
   "cell_type": "code",
   "execution_count": null,
   "metadata": {},
   "outputs": [],
   "source": [
    "# Задача №3\n",
    "countries_temperature = [\n",
    " ['Thailand', [75.2, 77, 78.8, 73.4, 68, 75.2, 77]],\n",
    " ['Germany', [57.2, 55.4, 59, 59, 53.6, 55.4, 57.2]],\n",
    " ['Russia', [35.6, 37.4, 39.2, 41, 42.8, 39.2, 35.6]],\n",
    " ['Poland', [50, 50, 53.6, 57.2, 55.4, 55.4, 51.8]],\n",
    "]\n",
    "print('Средненедельная температура:')\n",
    "print()\n",
    "for country in countries_temperature:\n",
    "    print(country[0], round((5/9)*(sum(country[1])-32*7)/7, 1),'°C')"
   ]
  },
  {
   "cell_type": "code",
   "execution_count": 24,
   "metadata": {},
   "outputs": [
    {
     "name": "stdout",
     "output_type": "stream",
     "text": [
      "0\n"
     ]
    }
   ],
   "source": [
    "# Задача №4\n",
    "stream = [\n",
    "    '2018-01-01,user1,3',\n",
    "    '2018-01-07,user1,4',\n",
    "    '2018-03-29,user1,1',\n",
    "    '2018-04-04,user1,13',\n",
    "    '2018-01-05,user2,7',\n",
    "    '2018-06-14,user3,4',\n",
    "    '2018-07-02,user3,10',\n",
    "    '2018-03-21,user4,19',\n",
    "    '2018-03-22,user4,4',\n",
    "    '2018-04-22,user4,8',\n",
    "    '2018-05-03,user4,9',\n",
    "    '2018-05-11,user4,11',\n",
    "]\n",
    "\n",
    "array=[]\n",
    "\n",
    "\n",
    "for element in stream:\n",
    "    array.append(element.split(','))\n",
    "for element in array:\n",
    "    element[2] = int(element[2])\n",
    "#print(array[0][2])\n",
    "#print(array)\n",
    "#i=1\n",
    "#while array[0][1]\n",
    "\n",
    "sum=0\n",
    "\n",
    "\n",
    "if user_name == 'user1':\n",
    "    for element in array:\n",
    "        sum += element[2]\n",
    "print(sum)          # avg = sum/(array.index(element)+1)\n",
    "#else:\n",
    "  #  print(sum)\n",
    "  #  user_name=element[1]\n",
    "       \n",
    "       # if element[1] != user_name:\n",
    "       #     print(sum)\n",
    "       #     user_name = element[1]\n",
    "       #     continue\n",
    "    \n",
    "    \n",
    "  #  average=sum/(array.index(part))\n",
    "  #  print(part[1], average)\n"
   ]
  },
  {
   "cell_type": "code",
   "execution_count": 2,
   "metadata": {},
   "outputs": [
    {
     "name": "stdout",
     "output_type": "stream",
     "text": [
      "Введите дату в формате гггг-мм-дд: 2018-01-02\n",
      "Введите название рекламной кампании, напр. \"google\": google\n",
      "574\n"
     ]
    }
   ],
   "source": [
    "# Задача №5\n",
    "stats = [\n",
    "    ['2018-01-01', 'google', 25],\n",
    "    ['2018-01-01', 'yandex', 65],\n",
    "    ['2018-01-01', 'market', 89],\n",
    "    ['2018-01-02', 'google', 574],\n",
    "    ['2018-01-02', 'yandex', 249],\n",
    "    ['2018-01-02', 'market', 994],\n",
    "    ['2018-01-03', 'google', 1843],\n",
    "    ['2018-01-03', 'yandex', 1327],\n",
    "    ['2018-01-03', 'market', 1764],\n",
    "]\n",
    "date=input('Введите дату в формате гггг-мм-дд: ')\n",
    "campaign_name=input('Введите название рекламной кампании, напр. \"google\": ')\n",
    "for element in stats:\n",
    "    if element[0] == date and element[1] == campaign_name:\n",
    "        print(element[2])"
   ]
  },
  {
   "cell_type": "code",
   "execution_count": 3,
   "metadata": {},
   "outputs": [
    {
     "name": "stdout",
     "output_type": "stream",
     "text": [
      "103\n"
     ]
    }
   ],
   "source": [
    "# Задача №6\n",
    "data = [\n",
    "    [13, 25, 23, 34],\n",
    "    [45, 32, 44, 47],\n",
    "    [12, 33, 23, 95],\n",
    "    [13, 53, 34, 35]\n",
    "]\n",
    "i=0\n",
    "summa=0\n",
    "for element in data:\n",
    "    summa+=element[i]\n",
    "    i+=1\n",
    "print(summa)"
   ]
  },
  {
   "cell_type": "code",
   "execution_count": null,
   "metadata": {},
   "outputs": [],
   "source": []
  },
  {
   "cell_type": "code",
   "execution_count": null,
   "metadata": {},
   "outputs": [],
   "source": []
  }
 ],
 "metadata": {
  "kernelspec": {
   "display_name": "Python 3",
   "language": "python",
   "name": "python3"
  },
  "language_info": {
   "codemirror_mode": {
    "name": "ipython",
    "version": 3
   },
   "file_extension": ".py",
   "mimetype": "text/x-python",
   "name": "python",
   "nbconvert_exporter": "python",
   "pygments_lexer": "ipython3",
   "version": "3.7.6"
  }
 },
 "nbformat": 4,
 "nbformat_minor": 4
}
