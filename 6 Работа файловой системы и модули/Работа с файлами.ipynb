{
 "cells": [
  {
   "cell_type": "code",
   "execution_count": 1,
   "metadata": {},
   "outputs": [],
   "source": [
    "import json"
   ]
  },
  {
   "cell_type": "code",
   "execution_count": 2,
   "metadata": {},
   "outputs": [],
   "source": [
    "# Задание № 1\n",
    "dictionary = {}\n",
    "i=0\n",
    "with open('purchase_log.txt', 'r', encoding='utf-8') as p:\n",
    "    content = p.readlines()\n",
    "    \n",
    "\n",
    "    for line in content:\n",
    "        line = line.strip()\n",
    "        dictionary[json.loads(line)[\"user_id\"]] = json.loads(line)[\"category\"]"
   ]
  },
  {
   "cell_type": "code",
   "execution_count": 6,
   "metadata": {},
   "outputs": [],
   "source": [
    "# Задание № 2\n",
    "with open('visit_log.csv', 'r', encoding='utf-8') as v:\n",
    "        \n",
    "    with open('funnel.csv', 'w', encoding='utf-8') as f:\n",
    "        \n",
    "        \n",
    "        for line in v:\n",
    "            var = line.strip().split(',')\n",
    "            key = var[0]\n",
    "            if var[1] != 'None' and key in dictionary.keys():\n",
    "                   \n",
    "                f.write(str(var) + ',' + ' ' + dictionary[key] + '\\n')\n",
    "            else:\n",
    "                pass"
   ]
  },
  {
   "cell_type": "code",
   "execution_count": null,
   "metadata": {},
   "outputs": [],
   "source": []
  }
 ],
 "metadata": {
  "kernelspec": {
   "display_name": "Python 3",
   "language": "python",
   "name": "python3"
  },
  "language_info": {
   "codemirror_mode": {
    "name": "ipython",
    "version": 3
   },
   "file_extension": ".py",
   "mimetype": "text/x-python",
   "name": "python",
   "nbconvert_exporter": "python",
   "pygments_lexer": "ipython3",
   "version": "3.7.6"
  }
 },
 "nbformat": 4,
 "nbformat_minor": 4
}
